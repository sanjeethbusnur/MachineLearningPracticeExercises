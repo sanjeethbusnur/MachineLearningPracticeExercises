{
  "nbformat": 4,
  "nbformat_minor": 0,
  "metadata": {
    "colab": {
      "name": "Project Assignment Task1-3 IDL.ipynb",
      "provenance": [],
      "collapsed_sections": [
        "IMmKTSRSs73r",
        "cr1Zk1HUtFUz",
        "gJz0KfRdtUWE",
        "EhNsRhWvK3KD",
        "jBeF-jDCtnzU",
        "AaeJoN_Ztt_f",
        "Dp1jNt_xtzMt",
        "7zACkr9ft4dz",
        "0_1Hw3vNvh4w",
        "wkoDnT_avvV-",
        "gmmy0ndAv5Gy",
        "VA7dOT3sv9G-"
      ]
    },
    "kernelspec": {
      "name": "python3",
      "display_name": "Python 3"
    },
    "accelerator": "GPU"
  },
  "cells": [
    {
      "cell_type": "markdown",
      "metadata": {
        "id": "Vfb89cr9fSwk",
        "colab_type": "text"
      },
      "source": [
        "Team Members:\n",
        "1. Himanshi Bajaj (225827)\n",
        "2. Sanjeeth Busnur Indushekar (224133)\n",
        "3. Suraj ()"
      ]
    },
    {
      "cell_type": "markdown",
      "metadata": {
        "id": "amOx0c-R_zLU",
        "colab_type": "text"
      },
      "source": [
        "# Task 1 Optimizers"
      ]
    },
    {
      "cell_type": "code",
      "metadata": {
        "id": "5s-c0jb__d23",
        "colab_type": "code",
        "colab": {}
      },
      "source": [
        "import numpy as np\n",
        "import tensorflow as tf\n",
        "import os\n",
        "from tensorflow.keras import datasets,layers, models\n",
        "from keras import regularizers,optimizers\n",
        "import seaborn as sns\n",
        "import matplotlib.pyplot as plt\n",
        "os.chdir(\"/content/drive/My Drive/Colab Notebooks/IDL course OvGU\")\n",
        "\n",
        "from tensorflow.keras.layers import Input, Conv2D, MaxPooling2D, ZeroPadding2D,\\\n",
        "     Flatten, BatchNormalization, AveragePooling2D, Dense, Activation, Add, Dropout\n",
        "from tensorflow.keras.models import Model\n",
        "from tensorflow.keras import activations\n",
        "from tensorflow.keras.optimizers import Adam,RMSprop,Adagrad,SGD\n",
        "from tensorflow.keras.regularizers import l2\n",
        "\n",
        "from tensorflow.keras.preprocessing.image import load_img, img_to_array, array_to_img"
      ],
      "execution_count": 14,
      "outputs": []
    },
    {
      "cell_type": "markdown",
      "metadata": {
        "id": "03kvJ5mSKuqK",
        "colab_type": "text"
      },
      "source": [
        "## VGG Net"
      ]
    },
    {
      "cell_type": "code",
      "metadata": {
        "id": "h8UWDGfNHJZG",
        "colab_type": "code",
        "colab": {}
      },
      "source": [
        "(train_images, train_labels) , (test_images , test_labels) = datasets.cifar10.load_data()\n",
        "\n",
        "class_names = ['airplane', 'automobile', 'bird', 'cat', 'deer',\n",
        "               'dog', 'frog', 'horse', 'ship', 'truck']\n",
        "# print(train_labels.shape,test_labels.shape)\n",
        "\n",
        "\n",
        "train_images = train_images.astype(np.float32) / 255.0\n",
        "train_labels = train_labels.astype(np.int32)\n",
        "\n",
        "\n",
        "test_images = test_images.astype(np.float32) / 255.0\n",
        "test_labels = test_labels.astype(np.int32)"
      ],
      "execution_count": null,
      "outputs": []
    },
    {
      "cell_type": "code",
      "metadata": {
        "id": "SWxxgUyDJoL4",
        "colab_type": "code",
        "colab": {}
      },
      "source": [
        "# VGG-16 \n",
        "\n",
        "vgg_model = tf.keras.Sequential([ tf.keras.layers.Conv2D(filters= 64, kernel_size= 3 , input_shape=(32,32,3),padding='same',activation='relu'),\n",
        "                              tf.keras.layers.BatchNormalization(),\n",
        "                              tf.keras.layers.Dropout(0.3),\n",
        "                             \n",
        "                              tf.keras.layers.Conv2D(filters= 64, kernel_size= 3,padding='same',activation='relu'),\n",
        "                              tf.keras.layers.BatchNormalization(),\n",
        "                             \n",
        "                              tf.keras.layers.MaxPooling2D(pool_size=(2,2)),\n",
        "                             \n",
        "                              tf.keras.layers.Conv2D(filters= 128, kernel_size= 3,padding='same',activation='relu'),\n",
        "                              tf.keras.layers.BatchNormalization(),\n",
        "                              tf.keras.layers.Dropout(0.4),\n",
        "                             \n",
        "                              tf.keras.layers.Conv2D(filters= 128, kernel_size= 3,padding='same',activation='relu'),\n",
        "                              tf.keras.layers.BatchNormalization(),\n",
        "                             \n",
        "                              tf.keras.layers.MaxPooling2D(pool_size=(2,2)),\n",
        "                             \n",
        "                              tf.keras.layers.Conv2D(filters= 256 , kernel_size= 3, padding='same',activation='relu'),\n",
        "                              tf.keras.layers.BatchNormalization(),\n",
        "                              tf.keras.layers.Dropout(0.4),\n",
        "                             \n",
        "                              tf.keras.layers.Conv2D(filters= 256, kernel_size= 3,padding='same',activation='relu'),\n",
        "                              tf.keras.layers.BatchNormalization(),\n",
        "                              tf.keras.layers.Dropout(0.4),\n",
        "                             \n",
        "                              tf.keras.layers.Conv2D(filters= 256, kernel_size= 3,padding='same',activation='relu'),\n",
        "                              tf.keras.layers.BatchNormalization(),\n",
        "                             \n",
        "                              tf.keras.layers.MaxPooling2D(pool_size=(2,2)),\n",
        "                             \n",
        "                              tf.keras.layers.Conv2D(filters= 512, kernel_size= 3, padding='same',activation='relu'),\n",
        "                              tf.keras.layers.BatchNormalization(),\n",
        "                              tf.keras.layers.Dropout(0.4),\n",
        "                             \n",
        "                              tf.keras.layers.Conv2D(filters= 512 , kernel_size= 3,padding='same',activation='relu'),\n",
        "                              tf.keras.layers.BatchNormalization(),\n",
        "                              tf.keras.layers.Dropout(0.4),\n",
        "                             \n",
        "                              tf.keras.layers.Conv2D(filters= 512, kernel_size= 3,padding='same',activation='relu'),\n",
        "                              tf.keras.layers.BatchNormalization(),\n",
        "                             \n",
        "                              tf.keras.layers.MaxPooling2D(pool_size=(2,2)),\n",
        "                             \n",
        "                              tf.keras.layers.Conv2D(filters= 512, kernel_size=3, padding='same',activation='relu'),\n",
        "                              tf.keras.layers.BatchNormalization(),\n",
        "                              tf.keras.layers.Dropout(0.4),\n",
        "                             \n",
        "                              tf.keras.layers.Conv2D(filters= 512, kernel_size= 3,padding='same',activation='relu'),\n",
        "                              tf.keras.layers.BatchNormalization(),\n",
        "                              tf.keras.layers.Dropout(0.4),\n",
        "                             \n",
        "                              tf.keras.layers.Conv2D(filters= 512, kernel_size= 3,padding='same',activation='relu'),\n",
        "                              tf.keras.layers.BatchNormalization(),\n",
        "                             \n",
        "                              tf.keras.layers.MaxPooling2D(pool_size=(2,2)),\n",
        "                              tf.keras.layers.Dropout(0.5),\n",
        "                             \n",
        "                              tf.keras.layers.Flatten(),\n",
        "                              tf.keras.layers.Dense(512, activation='relu'),\n",
        "                              tf.keras.layers.BatchNormalization(),\n",
        "                              tf.keras.layers.Dropout(0.5),\n",
        "                              \n",
        "                              tf.keras.layers.Dense(10, activation='softmax'),\n",
        "])"
      ],
      "execution_count": null,
      "outputs": []
    },
    {
      "cell_type": "code",
      "metadata": {
        "id": "j33lL94BJ87f",
        "colab_type": "code",
        "colab": {}
      },
      "source": [
        "# vgg_model.summary()"
      ],
      "execution_count": null,
      "outputs": []
    },
    {
      "cell_type": "markdown",
      "metadata": {
        "id": "IMmKTSRSs73r",
        "colab_type": "text"
      },
      "source": [
        "### SGD optimizer"
      ]
    },
    {
      "cell_type": "code",
      "metadata": {
        "id": "vyiH3paIKLTv",
        "colab_type": "code",
        "colab": {
          "base_uri": "https://localhost:8080/",
          "height": 372
        },
        "outputId": "88f412e1-995e-4581-b504-7163763a408d"
      },
      "source": [
        "learning_rate = 0.1\n",
        "lr_decay = 1e-6\n",
        "sgd = optimizers.SGD(lr=learning_rate, decay=lr_decay, momentum=0.9)\n",
        "vgg_model.compile(optimizer=sgd, loss= 'sparse_categorical_crossentropy',metrics = ['accuracy'])\n",
        "history = vgg_model.fit(train_images, train_labels, epochs=10, validation_data=(test_images, test_labels))"
      ],
      "execution_count": null,
      "outputs": [
        {
          "output_type": "stream",
          "text": [
            "Epoch 1/10\n",
            "1563/1563 [==============================] - 52s 33ms/step - loss: 2.5443 - accuracy: 0.1647 - val_loss: 3.4056 - val_accuracy: 0.1288\n",
            "Epoch 2/10\n",
            "1563/1563 [==============================] - 52s 34ms/step - loss: 2.0139 - accuracy: 0.2224 - val_loss: 3.2882 - val_accuracy: 0.1157\n",
            "Epoch 3/10\n",
            "1563/1563 [==============================] - 52s 34ms/step - loss: 1.8998 - accuracy: 0.2772 - val_loss: 3.0570 - val_accuracy: 0.1666\n",
            "Epoch 4/10\n",
            "1563/1563 [==============================] - 52s 34ms/step - loss: 1.8304 - accuracy: 0.3101 - val_loss: 2.1527 - val_accuracy: 0.2441\n",
            "Epoch 5/10\n",
            "1563/1563 [==============================] - 52s 34ms/step - loss: 1.7444 - accuracy: 0.3500 - val_loss: 2.4919 - val_accuracy: 0.2401\n",
            "Epoch 6/10\n",
            "1563/1563 [==============================] - 52s 33ms/step - loss: 1.6721 - accuracy: 0.3824 - val_loss: 3.7997 - val_accuracy: 0.3143\n",
            "Epoch 7/10\n",
            "1563/1563 [==============================] - 52s 34ms/step - loss: 1.5763 - accuracy: 0.4236 - val_loss: 3.2874 - val_accuracy: 0.3414\n",
            "Epoch 8/10\n",
            "1563/1563 [==============================] - 52s 33ms/step - loss: 1.4918 - accuracy: 0.4651 - val_loss: 4.1496 - val_accuracy: 0.3615\n",
            "Epoch 9/10\n",
            "1563/1563 [==============================] - 52s 33ms/step - loss: 1.4030 - accuracy: 0.5026 - val_loss: 1.9092 - val_accuracy: 0.4615\n",
            "Epoch 10/10\n",
            "1563/1563 [==============================] - 52s 34ms/step - loss: 1.3513 - accuracy: 0.5231 - val_loss: 2.6337 - val_accuracy: 0.4685\n"
          ],
          "name": "stdout"
        }
      ]
    },
    {
      "cell_type": "code",
      "metadata": {
        "id": "4h0m9WcJrxUx",
        "colab_type": "code",
        "colab": {
          "base_uri": "https://localhost:8080/",
          "height": 368
        },
        "outputId": "1d2cd437-29d0-4555-b32d-d7384df901ae"
      },
      "source": [
        "# Plot train and validation curves\n",
        "loss = history.history['loss']\n",
        "v_loss = history.history['val_loss']\n",
        "\n",
        "acc = history.history['accuracy']\n",
        "v_acc = history.history['val_accuracy']\n",
        "\n",
        "epochs = range(len(loss))\n",
        "\n",
        "fig = plt.figure(figsize=(9, 5))\n",
        "plt.subplot(1, 2, 1)\n",
        "plt.yscale('log')\n",
        "plt.plot(epochs, loss, linestyle='--', linewidth=3, color='orange', alpha=0.7, label='Train Loss')\n",
        "plt.plot(epochs, v_loss, linestyle='-.', linewidth=2, color='lime', alpha=0.8, label='Valid Loss')\n",
        "plt.ylim(0.3, 100)\n",
        "plt.xlabel('Epochs', fontsize=11)\n",
        "plt.ylabel('Loss', fontsize=12)\n",
        "plt.legend(fontsize=12)\n",
        "plt.subplot(1, 2, 2)\n",
        "plt.plot(epochs, acc, linestyle='--', linewidth=3, color='orange', alpha=0.7, label='Train Acc')\n",
        "plt.plot(epochs, v_acc, linestyle='-.', linewidth=2, color='lime', alpha=0.8, label='Valid Acc') \n",
        "plt.xlabel('Epochs', fontsize=11)\n",
        "plt.ylabel('Accuracy', fontsize=12)\n",
        "plt.legend(fontsize=12)\n",
        "plt.tight_layout()\n",
        "plt.savefig('/content/drive/My Drive/Colab Notebooks/IDL course OvGU/accuracy_sgd_vgg.png', dpi=250)\n",
        "plt.show()"
      ],
      "execution_count": null,
      "outputs": [
        {
          "output_type": "display_data",
          "data": {
            "image/png": "[encoded data removed]",
            "text/plain": [
              "<Figure size 648x360 with 2 Axes>"
            ]
          },
          "metadata": {
            "tags": [],
            "needs_background": "light"
          }
        }
      ]
    },
    {
      "cell_type": "code",
      "metadata": {
        "id": "CFmFmah1oE7X",
        "colab_type": "code",
        "colab": {
          "base_uri": "https://localhost:8080/",
          "height": 52
        },
        "outputId": "9e3e190b-6159-4ec1-e593-3ff130e0cbed"
      },
      "source": [
        "# Checking the performance on the test data \n",
        "test_result = vgg_model.evaluate(test_images, test_labels, verbose=0)\n",
        "\n",
        "print (\"VGG loss: \", test_result[0])\n",
        "print (\"VGG accuracy: \", test_result[1])"
      ],
      "execution_count": null,
      "outputs": [
        {
          "output_type": "stream",
          "text": [
            "VGG loss:  2.633685827255249\n",
            "VGG accuracy:  0.4684999883174896\n"
          ],
          "name": "stdout"
        }
      ]
    },
    {
      "cell_type": "markdown",
      "metadata": {
        "id": "cr1Zk1HUtFUz",
        "colab_type": "text"
      },
      "source": [
        "### ADAM optimizer"
      ]
    },
    {
      "cell_type": "code",
      "metadata": {
        "id": "c98vUkxle-G4",
        "colab_type": "code",
        "colab": {
          "base_uri": "https://localhost:8080/",
          "height": 372
        },
        "outputId": "cb7dea42-caf2-4031-a969-5b4ce6edae00"
      },
      "source": [
        "learning_rate = 0.005\n",
        "adam = optimizers.Adam(lr=learning_rate)\n",
        "vgg_model.compile(optimizer=adam, loss= 'sparse_categorical_crossentropy',metrics = ['accuracy'])\n",
        "history = vgg_model.fit(train_images, train_labels, epochs=10, validation_data=(test_images, test_labels))"
      ],
      "execution_count": null,
      "outputs": [
        {
          "output_type": "stream",
          "text": [
            "Epoch 1/10\n",
            "1563/1563 [==============================] - 54s 34ms/step - loss: 2.1522 - accuracy: 0.2365 - val_loss: 1.7898 - val_accuracy: 0.3129\n",
            "Epoch 2/10\n",
            "1563/1563 [==============================] - 53s 34ms/step - loss: 1.5817 - accuracy: 0.4143 - val_loss: 5.2816 - val_accuracy: 0.1036\n",
            "Epoch 3/10\n",
            "1563/1563 [==============================] - 53s 34ms/step - loss: 1.3481 - accuracy: 0.5146 - val_loss: 1.6396 - val_accuracy: 0.4616\n",
            "Epoch 4/10\n",
            "1563/1563 [==============================] - 53s 34ms/step - loss: 1.1179 - accuracy: 0.6175 - val_loss: 1.2786 - val_accuracy: 0.6219\n",
            "Epoch 5/10\n",
            "1563/1563 [==============================] - 53s 34ms/step - loss: 0.9969 - accuracy: 0.6634 - val_loss: 0.9054 - val_accuracy: 0.6996\n",
            "Epoch 6/10\n",
            "1563/1563 [==============================] - 53s 34ms/step - loss: 0.8963 - accuracy: 0.7045 - val_loss: 1.0376 - val_accuracy: 0.6658\n",
            "Epoch 7/10\n",
            "1563/1563 [==============================] - 53s 34ms/step - loss: 0.8275 - accuracy: 0.7341 - val_loss: 0.7599 - val_accuracy: 0.7596\n",
            "Epoch 8/10\n",
            "1563/1563 [==============================] - 53s 34ms/step - loss: 0.7546 - accuracy: 0.7562 - val_loss: 0.8466 - val_accuracy: 0.7006\n",
            "Epoch 9/10\n",
            "1563/1563 [==============================] - 53s 34ms/step - loss: 0.6899 - accuracy: 0.7794 - val_loss: 0.8109 - val_accuracy: 0.7409\n",
            "Epoch 10/10\n",
            "1563/1563 [==============================] - 53s 34ms/step - loss: 0.6435 - accuracy: 0.7950 - val_loss: 0.6097 - val_accuracy: 0.8063\n"
          ],
          "name": "stdout"
        }
      ]
    },
    {
      "cell_type": "code",
      "metadata": {
        "id": "toNA1wwqspRl",
        "colab_type": "code",
        "colab": {
          "base_uri": "https://localhost:8080/",
          "height": 368
        },
        "outputId": "1c9359e1-4663-46f0-d7bf-f18f9a57d7ea"
      },
      "source": [
        "# Plot train and validation curves\n",
        "loss = history.history['loss']\n",
        "v_loss = history.history['val_loss']\n",
        "\n",
        "acc = history.history['accuracy']\n",
        "v_acc = history.history['val_accuracy']\n",
        "\n",
        "epochs = range(len(loss))\n",
        "\n",
        "fig = plt.figure(figsize=(9, 5))\n",
        "plt.subplot(1, 2, 1)\n",
        "plt.yscale('log')\n",
        "plt.plot(epochs, loss, linestyle='--', linewidth=3, color='orange', alpha=0.7, label='Train Loss')\n",
        "plt.plot(epochs, v_loss, linestyle='-.', linewidth=2, color='lime', alpha=0.8, label='Valid Loss')\n",
        "plt.ylim(0.3, 100)\n",
        "plt.xlabel('Epochs', fontsize=11)\n",
        "plt.ylabel('Loss', fontsize=12)\n",
        "plt.legend(fontsize=12)\n",
        "plt.subplot(1, 2, 2)\n",
        "plt.plot(epochs, acc, linestyle='--', linewidth=3, color='orange', alpha=0.7, label='Train Acc')\n",
        "plt.plot(epochs, v_acc, linestyle='-.', linewidth=2, color='lime', alpha=0.8, label='Valid Acc') \n",
        "plt.xlabel('Epochs', fontsize=11)\n",
        "plt.ylabel('Accuracy', fontsize=12)\n",
        "plt.legend(fontsize=12)\n",
        "plt.tight_layout()\n",
        "plt.savefig('/content/drive/My Drive/Colab Notebooks/IDL course OvGU/accuracy_adam_vgg.png', dpi=250)\n",
        "plt.show()"
      ],
      "execution_count": null,
      "outputs": [
        {
          "output_type": "display_data",
          "data": {
            "image/png": "[encoded data removed]",
            "text/plain": [
              "<Figure size 648x360 with 2 Axes>"
            ]
          },
          "metadata": {
            "tags": [],
            "needs_background": "light"
          }
        }
      ]
    },
    {
      "cell_type": "code",
      "metadata": {
        "id": "mzw3OZtfoOfx",
        "colab_type": "code",
        "colab": {
          "base_uri": "https://localhost:8080/",
          "height": 52
        },
        "outputId": "bf8032e1-339c-4207-e8e1-cbdf8f274eea"
      },
      "source": [
        "# Checking the performance on the test data \n",
        "test_result = vgg_model.evaluate(test_images, test_labels, verbose=0)\n",
        "\n",
        "print (\"VGG loss: \", test_result[0])\n",
        "print (\"VGG accuracy: \", test_result[1])"
      ],
      "execution_count": null,
      "outputs": [
        {
          "output_type": "stream",
          "text": [
            "VGG loss:  0.6097181439399719\n",
            "VGG accuracy:  0.8062999844551086\n"
          ],
          "name": "stdout"
        }
      ]
    },
    {
      "cell_type": "markdown",
      "metadata": {
        "id": "gJz0KfRdtUWE",
        "colab_type": "text"
      },
      "source": [
        "### Adagrad optimizer"
      ]
    },
    {
      "cell_type": "code",
      "metadata": {
        "id": "uTIoAQOC3Z6C",
        "colab_type": "code",
        "colab": {
          "base_uri": "https://localhost:8080/",
          "height": 372
        },
        "outputId": "4430afa7-2f94-441b-e48d-08ebf056acaf"
      },
      "source": [
        "learning_rate = 0.005\n",
        "ada = optimizers.Adagrad(lr=learning_rate)\n",
        "vgg_model.compile(optimizer=ada, loss= 'sparse_categorical_crossentropy',metrics = ['accuracy'])\n",
        "history = vgg_model.fit(train_images, train_labels, epochs=10, validation_data=(test_images, test_labels))"
      ],
      "execution_count": null,
      "outputs": [
        {
          "output_type": "stream",
          "text": [
            "Epoch 1/10\n",
            "1563/1563 [==============================] - 54s 34ms/step - loss: 2.2665 - accuracy: 0.2582 - val_loss: 2.0322 - val_accuracy: 0.3183\n",
            "Epoch 2/10\n",
            "1563/1563 [==============================] - 53s 34ms/step - loss: 1.7165 - accuracy: 0.3938 - val_loss: 1.9255 - val_accuracy: 0.4224\n",
            "Epoch 3/10\n",
            "1563/1563 [==============================] - 53s 34ms/step - loss: 1.4692 - accuracy: 0.4797 - val_loss: 1.7698 - val_accuracy: 0.4658\n",
            "Epoch 4/10\n",
            "1563/1563 [==============================] - 53s 34ms/step - loss: 1.3043 - accuracy: 0.5365 - val_loss: 1.4525 - val_accuracy: 0.5423\n",
            "Epoch 5/10\n",
            "1563/1563 [==============================] - 52s 34ms/step - loss: 1.1863 - accuracy: 0.5825 - val_loss: 1.3243 - val_accuracy: 0.5777\n",
            "Epoch 6/10\n",
            "1563/1563 [==============================] - 52s 34ms/step - loss: 1.0919 - accuracy: 0.6160 - val_loss: 1.2428 - val_accuracy: 0.5994\n",
            "Epoch 7/10\n",
            "1563/1563 [==============================] - 52s 34ms/step - loss: 1.0132 - accuracy: 0.6452 - val_loss: 1.0798 - val_accuracy: 0.6494\n",
            "Epoch 8/10\n",
            "1563/1563 [==============================] - 52s 34ms/step - loss: 0.9511 - accuracy: 0.6695 - val_loss: 1.0481 - val_accuracy: 0.6571\n",
            "Epoch 9/10\n",
            "1563/1563 [==============================] - 52s 34ms/step - loss: 0.9019 - accuracy: 0.6869 - val_loss: 1.0581 - val_accuracy: 0.6617\n",
            "Epoch 10/10\n",
            "1563/1563 [==============================] - 52s 34ms/step - loss: 0.8570 - accuracy: 0.7060 - val_loss: 1.0377 - val_accuracy: 0.6742\n"
          ],
          "name": "stdout"
        }
      ]
    },
    {
      "cell_type": "code",
      "metadata": {
        "id": "T7T-W7XYswwf",
        "colab_type": "code",
        "colab": {
          "base_uri": "https://localhost:8080/",
          "height": 368
        },
        "outputId": "cf4f9130-170e-47f0-eb78-7b15c4446d0d"
      },
      "source": [
        "# Plot train and validation curves\n",
        "loss = history.history['loss']\n",
        "v_loss = history.history['val_loss']\n",
        "\n",
        "acc = history.history['accuracy']\n",
        "v_acc = history.history['val_accuracy']\n",
        "\n",
        "epochs = range(len(loss))\n",
        "\n",
        "fig = plt.figure(figsize=(9, 5))\n",
        "plt.subplot(1, 2, 1)\n",
        "plt.yscale('log')\n",
        "plt.plot(epochs, loss, linestyle='--', linewidth=3, color='orange', alpha=0.7, label='Train Loss')\n",
        "plt.plot(epochs, v_loss, linestyle='-.', linewidth=2, color='lime', alpha=0.8, label='Valid Loss')\n",
        "plt.ylim(0.3, 100)\n",
        "plt.xlabel('Epochs', fontsize=11)\n",
        "plt.ylabel('Loss', fontsize=12)\n",
        "plt.legend(fontsize=12)\n",
        "plt.subplot(1, 2, 2)\n",
        "plt.plot(epochs, acc, linestyle='--', linewidth=3, color='orange', alpha=0.7, label='Train Acc')\n",
        "plt.plot(epochs, v_acc, linestyle='-.', linewidth=2, color='lime', alpha=0.8, label='Valid Acc') \n",
        "plt.xlabel('Epochs', fontsize=11)\n",
        "plt.ylabel('Accuracy', fontsize=12)\n",
        "plt.legend(fontsize=12)\n",
        "plt.tight_layout()\n",
        "plt.savefig('/content/drive/My Drive/Colab Notebooks/IDL course OvGU/accuracy_ada_vgg.png', dpi=250)\n",
        "plt.show()"
      ],
      "execution_count": null,
      "outputs": [
        {
          "output_type": "display_data",
          "data": {
            "image/png": "[encoded data removed]",
            "text/plain": [
              "<Figure size 648x360 with 2 Axes>"
            ]
          },
          "metadata": {
            "tags": [],
            "needs_background": "light"
          }
        }
      ]
    },
    {
      "cell_type": "code",
      "metadata": {
        "id": "6dOqYLPKoRLm",
        "colab_type": "code",
        "colab": {
          "base_uri": "https://localhost:8080/",
          "height": 52
        },
        "outputId": "67524ea4-e678-4419-cb12-992aced8578f"
      },
      "source": [
        "# Checking the performance on the test data \n",
        "test_result = vgg_model.evaluate(test_images, test_labels, verbose=0)\n",
        "\n",
        "print (\"VGG loss: \", test_result[0])\n",
        "print (\"VGG accuracy: \", test_result[1])"
      ],
      "execution_count": null,
      "outputs": [
        {
          "output_type": "stream",
          "text": [
            "VGG loss:  1.0377427339553833\n",
            "VGG accuracy:  0.6741999983787537\n"
          ],
          "name": "stdout"
        }
      ]
    },
    {
      "cell_type": "markdown",
      "metadata": {
        "id": "w8t6wIOmtOFN",
        "colab_type": "text"
      },
      "source": [
        "### RMSprop optimizer"
      ]
    },
    {
      "cell_type": "code",
      "metadata": {
        "id": "UiTg1781AKb4",
        "colab_type": "code",
        "colab": {
          "base_uri": "https://localhost:8080/",
          "height": 372
        },
        "outputId": "889e62c0-e019-4105-9c95-ec3f07162ad7"
      },
      "source": [
        "learning_rate = 0.005\n",
        "rmsprop = optimizers.RMSprop(lr=learning_rate)\n",
        "vgg_model.compile(optimizer=rmsprop, loss= 'sparse_categorical_crossentropy',metrics = ['accuracy'])\n",
        "history = vgg_model.fit(train_images, train_labels, epochs=10, validation_data=(test_images, test_labels))"
      ],
      "execution_count": null,
      "outputs": [
        {
          "output_type": "stream",
          "text": [
            "Epoch 1/10\n",
            "1563/1563 [==============================] - 60s 38ms/step - loss: 2.3521 - accuracy: 0.1816 - val_loss: 2.2497 - val_accuracy: 0.2189\n",
            "Epoch 2/10\n",
            "1563/1563 [==============================] - 59s 38ms/step - loss: 1.8003 - accuracy: 0.3167 - val_loss: 1.5981 - val_accuracy: 0.4041\n",
            "Epoch 3/10\n",
            "1563/1563 [==============================] - 59s 38ms/step - loss: 1.4790 - accuracy: 0.4616 - val_loss: 1.3675 - val_accuracy: 0.5121\n",
            "Epoch 4/10\n",
            "1563/1563 [==============================] - 59s 38ms/step - loss: 1.2094 - accuracy: 0.5795 - val_loss: 1.1894 - val_accuracy: 0.6086\n",
            "Epoch 5/10\n",
            "1563/1563 [==============================] - 59s 38ms/step - loss: 1.0460 - accuracy: 0.6441 - val_loss: 0.9459 - val_accuracy: 0.6679\n",
            "Epoch 6/10\n",
            "1563/1563 [==============================] - 59s 38ms/step - loss: 0.9297 - accuracy: 0.6872 - val_loss: 1.0003 - val_accuracy: 0.6844\n",
            "Epoch 7/10\n",
            "1563/1563 [==============================] - 59s 38ms/step - loss: 0.8488 - accuracy: 0.7192 - val_loss: 1.0544 - val_accuracy: 0.6870\n",
            "Epoch 8/10\n",
            "1563/1563 [==============================] - 59s 38ms/step - loss: 0.7795 - accuracy: 0.7472 - val_loss: 0.8162 - val_accuracy: 0.7325\n",
            "Epoch 9/10\n",
            "1563/1563 [==============================] - 59s 38ms/step - loss: 0.7367 - accuracy: 0.7627 - val_loss: 0.8256 - val_accuracy: 0.7317\n",
            "Epoch 10/10\n",
            "1563/1563 [==============================] - 59s 38ms/step - loss: 0.6856 - accuracy: 0.7798 - val_loss: 0.8643 - val_accuracy: 0.7411\n"
          ],
          "name": "stdout"
        }
      ]
    },
    {
      "cell_type": "code",
      "metadata": {
        "id": "nNvImP0Ysz15",
        "colab_type": "code",
        "colab": {
          "base_uri": "https://localhost:8080/",
          "height": 368
        },
        "outputId": "4b65d897-b869-4411-975f-f5e1de1b4064"
      },
      "source": [
        "# Plot train and validation curves\n",
        "loss = history.history['loss']\n",
        "v_loss = history.history['val_loss']\n",
        "\n",
        "acc = history.history['accuracy']\n",
        "v_acc = history.history['val_accuracy']\n",
        "\n",
        "epochs = range(len(loss))\n",
        "\n",
        "fig = plt.figure(figsize=(9, 5))\n",
        "plt.subplot(1, 2, 1)\n",
        "plt.yscale('log')\n",
        "plt.plot(epochs, loss, linestyle='--', linewidth=3, color='orange', alpha=0.7, label='Train Loss')\n",
        "plt.plot(epochs, v_loss, linestyle='-.', linewidth=2, color='lime', alpha=0.8, label='Valid Loss')\n",
        "plt.ylim(0.3, 100)\n",
        "plt.xlabel('Epochs', fontsize=11)\n",
        "plt.ylabel('Loss', fontsize=12)\n",
        "plt.legend(fontsize=12)\n",
        "plt.subplot(1, 2, 2)\n",
        "plt.plot(epochs, acc, linestyle='--', linewidth=3, color='orange', alpha=0.7, label='Train Acc')\n",
        "plt.plot(epochs, v_acc, linestyle='-.', linewidth=2, color='lime', alpha=0.8, label='Valid Acc') \n",
        "plt.xlabel('Epochs', fontsize=11)\n",
        "plt.ylabel('Accuracy', fontsize=12)\n",
        "plt.legend(fontsize=12)\n",
        "plt.tight_layout()\n",
        "plt.savefig('/content/drive/My Drive/Colab Notebooks/IDL course OvGU/accuracy_rmsprop_vgg.png', dpi=250)\n",
        "plt.show()"
      ],
      "execution_count": null,
      "outputs": [
        {
          "output_type": "display_data",
          "data": {
            "image/png": "[encoded data removed]",
            "text/plain": [
              "<Figure size 648x360 with 2 Axes>"
            ]
          },
          "metadata": {
            "tags": [],
            "needs_background": "light"
          }
        }
      ]
    },
    {
      "cell_type": "code",
      "metadata": {
        "id": "UCxJgbm0oU9x",
        "colab_type": "code",
        "colab": {
          "base_uri": "https://localhost:8080/",
          "height": 52
        },
        "outputId": "c5d4e9cc-ad32-4241-931b-dc02025ce742"
      },
      "source": [
        "# Checking the performance on the test data \n",
        "test_result = vgg_model.evaluate(test_images, test_labels, verbose=0)\n",
        "\n",
        "print (\"VGG loss: \", test_result[0])\n",
        "print (\"VGG accuracy: \", test_result[1])"
      ],
      "execution_count": null,
      "outputs": [
        {
          "output_type": "stream",
          "text": [
            "VGG loss:  0.8642755746841431\n",
            "VGG accuracy:  0.741100013256073\n"
          ],
          "name": "stdout"
        }
      ]
    },
    {
      "cell_type": "markdown",
      "metadata": {
        "id": "EhNsRhWvK3KD",
        "colab_type": "text"
      },
      "source": [
        "## ResNet"
      ]
    },
    {
      "cell_type": "code",
      "metadata": {
        "id": "_IybWzQ4K9xt",
        "colab_type": "code",
        "colab": {}
      },
      "source": [
        "(train_images, train_labels) , (test_images , test_labels) = datasets.cifar10.load_data()\n",
        "\n",
        "class_names = ['airplane', 'automobile', 'bird', 'cat', 'deer',\n",
        "               'dog', 'frog', 'horse', 'ship', 'truck']\n",
        "# print(train_labels.shape,test_labels.shape)\n",
        "\n",
        "\n",
        "train_images = train_images.astype(np.float32) / 255.0\n",
        "train_labels = train_labels.astype(np.int32)\n",
        "\n",
        "\n",
        "test_images = test_images.astype(np.float32) / 255.0\n",
        "test_labels = test_labels.astype(np.int32)"
      ],
      "execution_count": 190,
      "outputs": []
    },
    {
      "cell_type": "code",
      "metadata": {
        "id": "6gKuf4HM_owx",
        "colab_type": "code",
        "colab": {}
      },
      "source": [
        "### One hot encoding for labels \n",
        "\n",
        "train_lab_categorical = tf.keras.utils.to_categorical(\n",
        "    train_labels, num_classes=10, dtype='uint8')\n",
        "\n",
        "test_lab_categorical = tf.keras.utils.to_categorical(\n",
        "    test_labels, num_classes=10, dtype='uint8')"
      ],
      "execution_count": 191,
      "outputs": []
    },
    {
      "cell_type": "code",
      "metadata": {
        "id": "CP5NxpmKLEAN",
        "colab_type": "code",
        "colab": {
          "base_uri": "https://localhost:8080/",
          "height": 70
        },
        "outputId": "999c0624-e506-4986-82c2-686472ed0af7"
      },
      "source": [
        "# Train -test split \n",
        "\n",
        "from sklearn.model_selection import train_test_split \n",
        "train_img, valid_img, train_label, valid_label = train_test_split(train_images, train_lab_categorical, test_size=0.20, \n",
        "                                                            stratify=train_lab_categorical,random_state=40,shuffle = True)\n",
        "\n",
        "print (\"train data shape after the split: \", train_img.shape)\n",
        "print ('validation data shape: ', valid_img.shape)\n",
        "print (\"validation labels shape: \", valid_label.shape)"
      ],
      "execution_count": 192,
      "outputs": [
        {
          "output_type": "stream",
          "text": [
            "train data shape after the split:  (40000, 32, 32, 3)\n",
            "validation data shape:  (10000, 32, 32, 3)\n",
            "validation labels shape:  (10000, 10)\n"
          ],
          "name": "stdout"
        }
      ]
    },
    {
      "cell_type": "code",
      "metadata": {
        "id": "3GQjvPCPML21",
        "colab_type": "code",
        "colab": {}
      },
      "source": [
        "#  Including Data Augmentation \n",
        "batch_size = 64 \n",
        "\n",
        "train_DataGen = tf.keras.preprocessing.image.ImageDataGenerator(zoom_range=0.2, \n",
        "                                                                width_shift_range=0.1, \n",
        "                                                                height_shift_range = 0.1, \n",
        "                                                                horizontal_flip=True)\n",
        " \n",
        "valid_datagen = tf.keras.preprocessing.image.ImageDataGenerator()\n",
        "\n",
        "train_set_conv = train_DataGen.flow(train_img, train_label, batch_size=batch_size) \n",
        "valid_set_conv = valid_datagen.flow(valid_img, valid_label, batch_size=batch_size) "
      ],
      "execution_count": 193,
      "outputs": []
    },
    {
      "cell_type": "code",
      "metadata": {
        "id": "fIil20xVIN7G",
        "colab_type": "code",
        "colab": {}
      },
      "source": [
        "# Reference from https://github.com/suvoooo/Learn-TensorFlow/blob/master/resnet/Implement_Resnet_TensorFlow.ipynb\n",
        "\n",
        "# ResNet-50\n",
        "\n",
        "def resnet_identity(x, filters): \n",
        "\n",
        "  x_skip = x # this will be used for addition with the residual block \n",
        "  f1, f2 = filters\n",
        "\n",
        "  #first block \n",
        "  x = Conv2D(f1, kernel_size=(1, 1), strides=(1, 1), padding='valid', kernel_regularizer=l2(0.001))(x)\n",
        "  x = BatchNormalization()(x)\n",
        "  x = Activation(activations.relu)(x)\n",
        "\n",
        "  #second block # bottleneck (but size kept same with padding)\n",
        "  x = Conv2D(f1, kernel_size=(3, 3), strides=(1, 1), padding='same', kernel_regularizer=l2(0.001))(x)\n",
        "  x = BatchNormalization()(x)\n",
        "  x = Activation(activations.relu)(x)\n",
        "\n",
        "  # third block activation used after adding the input\n",
        "  x = Conv2D(f2, kernel_size=(1, 1), strides=(1, 1), padding='valid', kernel_regularizer=l2(0.001))(x)\n",
        "  x = BatchNormalization()(x)\n",
        "  # x = Activation(activations.relu)(x)\n",
        "\n",
        "  # add the input \n",
        "  x = Add()([x, x_skip])\n",
        "  x = Activation(activations.relu)(x)\n",
        "\n",
        "  return x\n"
      ],
      "execution_count": 194,
      "outputs": []
    },
    {
      "cell_type": "code",
      "metadata": {
        "id": "LzYppGSANHK8",
        "colab_type": "code",
        "colab": {}
      },
      "source": [
        "def resnet_conv(x, s, filters):\n",
        "  '''\n",
        "  here the input size changes, when it goes via conv blocks\n",
        "  so the skip connection uses a projection (conv layer) matrix\n",
        "  ''' \n",
        "  x_skip = x\n",
        "  f1, f2 = filters\n",
        "\n",
        "  # first block\n",
        "  x = Conv2D(f1, kernel_size=(1, 1), strides=(s, s), padding='valid', kernel_regularizer=l2(0.001))(x) \n",
        "  x = BatchNormalization()(x)\n",
        "  x = Activation(activations.relu)(x)\n",
        "\n",
        "  # second block\n",
        "  x = Conv2D(f1, kernel_size=(3, 3), strides=(1, 1), padding='same', kernel_regularizer=l2(0.001))(x)\n",
        "  x = BatchNormalization()(x)\n",
        "  x = Activation(activations.relu)(x)\n",
        "\n",
        "  #third block\n",
        "  x = Conv2D(f2, kernel_size=(1, 1), strides=(1, 1), padding='valid', kernel_regularizer=l2(0.001))(x)\n",
        "  x = BatchNormalization()(x)\n",
        "\n",
        "  # shortcut \n",
        "  x_skip = Conv2D(f2, kernel_size=(1, 1), strides=(s, s), padding='valid', kernel_regularizer=l2(0.001))(x_skip)\n",
        "  x_skip = BatchNormalization()(x_skip)\n",
        "\n",
        "  # add \n",
        "  x = Add()([x, x_skip])\n",
        "  x = Activation(activations.relu)(x)\n",
        "\n",
        "  return x"
      ],
      "execution_count": 195,
      "outputs": []
    },
    {
      "cell_type": "code",
      "metadata": {
        "id": "utCcdl8WN-cX",
        "colab_type": "code",
        "colab": {}
      },
      "source": [
        "def resnet50():\n",
        "\n",
        "  input_img = Input(shape=(train_img.shape[1], train_img.shape[2], train_img.shape[3])) # cifar 10 images size\n",
        "  x = ZeroPadding2D(padding=(3, 3))(input_img)\n",
        "\n",
        "  # 1st stage\n",
        "  x = Conv2D(64, kernel_size=(7, 7), strides=(2, 2))(x)\n",
        "  x = BatchNormalization()(x)\n",
        "  x = Activation(activations.relu)(x)\n",
        "  x = MaxPooling2D((3, 3), strides=(2, 2))(x)\n",
        "\n",
        "  #2nd stage \n",
        "  x = resnet_conv(x, s=1, filters=(64, 256))\n",
        "  x = resnet_identity(x, filters=(64, 256))\n",
        "  x = resnet_identity(x, filters=(64, 256))\n",
        "\n",
        "  # 3rd stage\n",
        "\n",
        "  x = resnet_conv(x, s=2, filters=(128, 512))\n",
        "  x = resnet_identity(x, filters=(128, 512))\n",
        "  x = resnet_identity(x, filters=(128, 512))\n",
        "  x = resnet_identity(x, filters=(128, 512))\n",
        "\n",
        "  # 4th stage\n",
        "\n",
        "  x = resnet_conv(x, s=2, filters=(256, 1024))\n",
        "  x = resnet_identity(x, filters=(256, 1024))\n",
        "  x = resnet_identity(x, filters=(256, 1024))\n",
        "  x = resnet_identity(x, filters=(256, 1024))\n",
        "  x = resnet_identity(x, filters=(256, 1024))\n",
        "  x = resnet_identity(x, filters=(256, 1024))\n",
        "\n",
        "  # 5th stage\n",
        "\n",
        "  x = resnet_conv(x, s=2, filters=(512, 2048))\n",
        "  x = resnet_identity(x, filters=(512, 2048))\n",
        "  x = resnet_identity(x, filters=(512, 2048))\n",
        "\n",
        "  # ends with average pooling and dense connection\n",
        "\n",
        "  x = AveragePooling2D((2, 2), padding='same')(x)\n",
        "\n",
        "  x = Flatten()(x)\n",
        "  x = Dense(10, activation='softmax', kernel_initializer='he_normal')(x)\n",
        "\n",
        "  # define the model \n",
        "\n",
        "  model = Model(inputs=input_img, outputs=x, name='Resnet50')\n",
        "\n",
        "  return model"
      ],
      "execution_count": 196,
      "outputs": []
    },
    {
      "cell_type": "code",
      "metadata": {
        "id": "13LEz6sqOqlB",
        "colab_type": "code",
        "colab": {}
      },
      "source": [
        "resnet50_model = resnet50()\n",
        "# resnet50_model.summary()"
      ],
      "execution_count": 197,
      "outputs": []
    },
    {
      "cell_type": "markdown",
      "metadata": {
        "id": "jBeF-jDCtnzU",
        "colab_type": "text"
      },
      "source": [
        "### SGD optimizer"
      ]
    },
    {
      "cell_type": "code",
      "metadata": {
        "id": "sy1MJ6E_SoYt",
        "colab_type": "code",
        "colab": {
          "base_uri": "https://localhost:8080/",
          "height": 1000
        },
        "outputId": "2593869e-33c7-4d11-db9f-d651eb1b484f"
      },
      "source": [
        "learning_rate = 0.1\n",
        "lr_decay = 1e-6\n",
        "sgd = optimizers.SGD(lr=learning_rate, decay=lr_decay, momentum=0.9)\n",
        "resnet50_model.compile(optimizer=sgd, loss= 'categorical_crossentropy',metrics = ['accuracy'])\n",
        "\n",
        "history = resnet50_model.fit(train_set_conv, epochs=120, steps_per_epoch=train_img.shape[0]/batch_size, \n",
        "                                  validation_steps=valid_img.shape[0]/batch_size, validation_data=valid_set_conv)"
      ],
      "execution_count": 174,
      "outputs": [
        {
          "output_type": "stream",
          "text": [
            "Epoch 1/120\n",
            "625/625 [==============================] - 35s 57ms/step - loss: 219.3990 - accuracy: 0.1903 - val_loss: 52.2915 - val_accuracy: 0.1206\n",
            "Epoch 2/120\n",
            "625/625 [==============================] - 34s 54ms/step - loss: 23.0207 - accuracy: 0.2152 - val_loss: 8.9319 - val_accuracy: 0.1455\n",
            "Epoch 3/120\n",
            "625/625 [==============================] - 33s 54ms/step - loss: 8.2706 - accuracy: 0.2206 - val_loss: 11.8588 - val_accuracy: 0.2124\n",
            "Epoch 4/120\n",
            "625/625 [==============================] - 33s 53ms/step - loss: 5.6581 - accuracy: 0.2412 - val_loss: 3.5030 - val_accuracy: 0.1580\n",
            "Epoch 5/120\n",
            "625/625 [==============================] - 33s 53ms/step - loss: 4.7126 - accuracy: 0.2403 - val_loss: 844724864.0000 - val_accuracy: 0.1000\n",
            "Epoch 6/120\n",
            "625/625 [==============================] - 34s 54ms/step - loss: 6.8219 - accuracy: 0.2158 - val_loss: 3.7082 - val_accuracy: 0.1075\n",
            "Epoch 7/120\n",
            "625/625 [==============================] - 33s 53ms/step - loss: 3.6852 - accuracy: 0.2259 - val_loss: 4.1377 - val_accuracy: 0.1110\n",
            "Epoch 8/120\n",
            "625/625 [==============================] - 34s 54ms/step - loss: 3.1671 - accuracy: 0.2528 - val_loss: 3.4946 - val_accuracy: 0.1060\n",
            "Epoch 9/120\n",
            "625/625 [==============================] - 34s 54ms/step - loss: 2.7294 - accuracy: 0.2797 - val_loss: 8034.4233 - val_accuracy: 0.0974\n",
            "Epoch 10/120\n",
            "625/625 [==============================] - 34s 54ms/step - loss: 2.6986 - accuracy: 0.2860 - val_loss: 4.2392 - val_accuracy: 0.1635\n",
            "Epoch 11/120\n",
            "625/625 [==============================] - 33s 53ms/step - loss: 2.1648 - accuracy: 0.3349 - val_loss: 4.5152 - val_accuracy: 0.2101\n",
            "Epoch 12/120\n",
            "625/625 [==============================] - 34s 54ms/step - loss: 2.1785 - accuracy: 0.3405 - val_loss: 7.1262 - val_accuracy: 0.2237\n",
            "Epoch 13/120\n",
            "625/625 [==============================] - 34s 54ms/step - loss: 2.0681 - accuracy: 0.3617 - val_loss: 31.6910 - val_accuracy: 0.1108\n",
            "Epoch 14/120\n",
            "625/625 [==============================] - 33s 53ms/step - loss: 2.0803 - accuracy: 0.3624 - val_loss: 2.1824 - val_accuracy: 0.2684\n",
            "Epoch 15/120\n",
            "625/625 [==============================] - 34s 54ms/step - loss: 2.0896 - accuracy: 0.3496 - val_loss: 2.0059 - val_accuracy: 0.3528\n",
            "Epoch 16/120\n",
            "625/625 [==============================] - 33s 53ms/step - loss: 1.9467 - accuracy: 0.3812 - val_loss: 2.0872 - val_accuracy: 0.3041\n",
            "Epoch 17/120\n",
            "625/625 [==============================] - 33s 53ms/step - loss: 1.9325 - accuracy: 0.3872 - val_loss: 2.3462 - val_accuracy: 0.2453\n",
            "Epoch 18/120\n",
            "625/625 [==============================] - 34s 54ms/step - loss: 1.9794 - accuracy: 0.3870 - val_loss: 3.7221 - val_accuracy: 0.2326\n",
            "Epoch 19/120\n",
            "625/625 [==============================] - 33s 53ms/step - loss: 1.9370 - accuracy: 0.3858 - val_loss: 2.8585 - val_accuracy: 0.2294\n",
            "Epoch 20/120\n",
            "625/625 [==============================] - 33s 53ms/step - loss: 1.9334 - accuracy: 0.3890 - val_loss: 2.6708 - val_accuracy: 0.2850\n",
            "Epoch 21/120\n",
            "625/625 [==============================] - 34s 54ms/step - loss: 1.8896 - accuracy: 0.4015 - val_loss: 2.5749 - val_accuracy: 0.2172\n",
            "Epoch 22/120\n",
            "625/625 [==============================] - 34s 54ms/step - loss: 1.8734 - accuracy: 0.3992 - val_loss: 2.0412 - val_accuracy: 0.3227\n",
            "Epoch 23/120\n",
            "625/625 [==============================] - 33s 53ms/step - loss: 1.8658 - accuracy: 0.4074 - val_loss: 2.0617 - val_accuracy: 0.3270\n",
            "Epoch 24/120\n",
            "625/625 [==============================] - 34s 54ms/step - loss: 1.8764 - accuracy: 0.4063 - val_loss: 2.4311 - val_accuracy: 0.3065\n",
            "Epoch 25/120\n",
            "625/625 [==============================] - 33s 53ms/step - loss: 1.8577 - accuracy: 0.4084 - val_loss: 1.9084 - val_accuracy: 0.3998\n",
            "Epoch 26/120\n",
            "625/625 [==============================] - 34s 54ms/step - loss: 1.8540 - accuracy: 0.4152 - val_loss: 2.3596 - val_accuracy: 0.2729\n",
            "Epoch 27/120\n",
            "625/625 [==============================] - 35s 56ms/step - loss: 1.8511 - accuracy: 0.4203 - val_loss: 2.1072 - val_accuracy: 0.3638\n",
            "Epoch 28/120\n",
            "625/625 [==============================] - 34s 55ms/step - loss: 1.8429 - accuracy: 0.4220 - val_loss: 2.4987 - val_accuracy: 0.2935\n",
            "Epoch 29/120\n",
            "625/625 [==============================] - 34s 54ms/step - loss: 1.8387 - accuracy: 0.4227 - val_loss: 2.0982 - val_accuracy: 0.3503\n",
            "Epoch 30/120\n",
            "625/625 [==============================] - 34s 55ms/step - loss: 1.8385 - accuracy: 0.4217 - val_loss: 2.3092 - val_accuracy: 0.2839\n",
            "Epoch 31/120\n",
            "625/625 [==============================] - 34s 54ms/step - loss: 1.8338 - accuracy: 0.4235 - val_loss: 2.0598 - val_accuracy: 0.3503\n",
            "Epoch 32/120\n",
            "625/625 [==============================] - 33s 53ms/step - loss: 1.8341 - accuracy: 0.4295 - val_loss: 1.8549 - val_accuracy: 0.4143\n",
            "Epoch 33/120\n",
            "625/625 [==============================] - 33s 54ms/step - loss: 1.8344 - accuracy: 0.4244 - val_loss: 2.0208 - val_accuracy: 0.3317\n",
            "Epoch 34/120\n",
            "625/625 [==============================] - 33s 53ms/step - loss: 1.8295 - accuracy: 0.4262 - val_loss: 2.0194 - val_accuracy: 0.3678\n",
            "Epoch 35/120\n",
            "625/625 [==============================] - 33s 53ms/step - loss: 1.8208 - accuracy: 0.4309 - val_loss: 1.8782 - val_accuracy: 0.4069\n",
            "Epoch 36/120\n",
            "625/625 [==============================] - 33s 52ms/step - loss: 1.8308 - accuracy: 0.4260 - val_loss: 2.1193 - val_accuracy: 0.3177\n",
            "Epoch 37/120\n",
            "625/625 [==============================] - 33s 52ms/step - loss: 1.8183 - accuracy: 0.4329 - val_loss: 2.4894 - val_accuracy: 0.2595\n",
            "Epoch 38/120\n",
            "625/625 [==============================] - 33s 52ms/step - loss: 1.8236 - accuracy: 0.4302 - val_loss: 1.8975 - val_accuracy: 0.4114\n",
            "Epoch 39/120\n",
            "625/625 [==============================] - 33s 52ms/step - loss: 1.8246 - accuracy: 0.4321 - val_loss: 1.9066 - val_accuracy: 0.4137\n",
            "Epoch 40/120\n",
            "625/625 [==============================] - 33s 52ms/step - loss: 1.8226 - accuracy: 0.4325 - val_loss: 2.0233 - val_accuracy: 0.3508\n",
            "Epoch 41/120\n",
            "625/625 [==============================] - 33s 52ms/step - loss: 1.8135 - accuracy: 0.4339 - val_loss: 2.0935 - val_accuracy: 0.3460\n",
            "Epoch 42/120\n",
            "625/625 [==============================] - 33s 52ms/step - loss: 1.8131 - accuracy: 0.4331 - val_loss: 1.9329 - val_accuracy: 0.3891\n",
            "Epoch 43/120\n",
            "625/625 [==============================] - 32s 52ms/step - loss: 1.8150 - accuracy: 0.4322 - val_loss: 1.9249 - val_accuracy: 0.4146\n",
            "Epoch 44/120\n",
            "625/625 [==============================] - 33s 52ms/step - loss: 1.8082 - accuracy: 0.4363 - val_loss: 2.3735 - val_accuracy: 0.3250\n",
            "Epoch 45/120\n",
            "625/625 [==============================] - 32s 52ms/step - loss: 1.8079 - accuracy: 0.4354 - val_loss: 1.8831 - val_accuracy: 0.3982\n",
            "Epoch 46/120\n",
            "625/625 [==============================] - 33s 52ms/step - loss: 1.8155 - accuracy: 0.4371 - val_loss: 1.8751 - val_accuracy: 0.4161\n",
            "Epoch 47/120\n",
            "625/625 [==============================] - 33s 52ms/step - loss: 1.8014 - accuracy: 0.4412 - val_loss: 1.8476 - val_accuracy: 0.4019\n",
            "Epoch 48/120\n",
            "625/625 [==============================] - 32s 52ms/step - loss: 1.7974 - accuracy: 0.4402 - val_loss: 1.8993 - val_accuracy: 0.3814\n",
            "Epoch 49/120\n",
            "625/625 [==============================] - 33s 52ms/step - loss: 1.8093 - accuracy: 0.4387 - val_loss: 2.1411 - val_accuracy: 0.3585\n",
            "Epoch 50/120\n",
            "625/625 [==============================] - 33s 52ms/step - loss: 1.8114 - accuracy: 0.4419 - val_loss: 1.9921 - val_accuracy: 0.3695\n",
            "Epoch 51/120\n",
            "625/625 [==============================] - 32s 52ms/step - loss: 1.8056 - accuracy: 0.4417 - val_loss: 2.2449 - val_accuracy: 0.2805\n",
            "Epoch 52/120\n",
            "625/625 [==============================] - 32s 52ms/step - loss: 1.8040 - accuracy: 0.4398 - val_loss: 2.7840 - val_accuracy: 0.2294\n",
            "Epoch 53/120\n",
            "625/625 [==============================] - 32s 52ms/step - loss: 1.8137 - accuracy: 0.4384 - val_loss: 2.3810 - val_accuracy: 0.3302\n",
            "Epoch 54/120\n",
            "625/625 [==============================] - 32s 52ms/step - loss: 1.8033 - accuracy: 0.4412 - val_loss: 1.9149 - val_accuracy: 0.3697\n",
            "Epoch 55/120\n",
            "625/625 [==============================] - 32s 52ms/step - loss: 1.8099 - accuracy: 0.4418 - val_loss: 2.2257 - val_accuracy: 0.3226\n",
            "Epoch 56/120\n",
            "625/625 [==============================] - 32s 52ms/step - loss: 1.8049 - accuracy: 0.4449 - val_loss: 1.9313 - val_accuracy: 0.3811\n",
            "Epoch 57/120\n",
            "625/625 [==============================] - 32s 52ms/step - loss: 1.7966 - accuracy: 0.4433 - val_loss: 2.0752 - val_accuracy: 0.3731\n",
            "Epoch 58/120\n",
            "625/625 [==============================] - 32s 52ms/step - loss: 1.8011 - accuracy: 0.4429 - val_loss: 1.9088 - val_accuracy: 0.3981\n",
            "Epoch 59/120\n",
            "625/625 [==============================] - 33s 52ms/step - loss: 1.8044 - accuracy: 0.4381 - val_loss: 2.1143 - val_accuracy: 0.3208\n",
            "Epoch 60/120\n",
            "625/625 [==============================] - 32s 52ms/step - loss: 1.8062 - accuracy: 0.4420 - val_loss: 2.2659 - val_accuracy: 0.3151\n",
            "Epoch 61/120\n",
            "625/625 [==============================] - 32s 52ms/step - loss: 1.8006 - accuracy: 0.4404 - val_loss: 1.9636 - val_accuracy: 0.3816\n",
            "Epoch 62/120\n",
            "625/625 [==============================] - 32s 52ms/step - loss: 1.7968 - accuracy: 0.4436 - val_loss: 1.8497 - val_accuracy: 0.4144\n",
            "Epoch 63/120\n",
            "625/625 [==============================] - 32s 52ms/step - loss: 1.7919 - accuracy: 0.4433 - val_loss: 2.0341 - val_accuracy: 0.3761\n",
            "Epoch 64/120\n",
            "625/625 [==============================] - 32s 52ms/step - loss: 1.7966 - accuracy: 0.4454 - val_loss: 1.8511 - val_accuracy: 0.4221\n",
            "Epoch 65/120\n",
            "625/625 [==============================] - 33s 52ms/step - loss: 1.7883 - accuracy: 0.4492 - val_loss: 1.8560 - val_accuracy: 0.4142\n",
            "Epoch 66/120\n",
            "625/625 [==============================] - 32s 52ms/step - loss: 1.7994 - accuracy: 0.4453 - val_loss: 2.1365 - val_accuracy: 0.3624\n",
            "Epoch 67/120\n",
            "625/625 [==============================] - 32s 52ms/step - loss: 1.8013 - accuracy: 0.4445 - val_loss: 1.9499 - val_accuracy: 0.3818\n",
            "Epoch 68/120\n",
            "625/625 [==============================] - 32s 52ms/step - loss: 1.7920 - accuracy: 0.4489 - val_loss: 2.0214 - val_accuracy: 0.3940\n",
            "Epoch 69/120\n",
            "625/625 [==============================] - 33s 52ms/step - loss: 1.7901 - accuracy: 0.4478 - val_loss: 2.1385 - val_accuracy: 0.3815\n",
            "Epoch 70/120\n",
            "625/625 [==============================] - 33s 52ms/step - loss: 1.7858 - accuracy: 0.4472 - val_loss: 2.1172 - val_accuracy: 0.3108\n",
            "Epoch 71/120\n",
            "625/625 [==============================] - 33s 52ms/step - loss: 1.7900 - accuracy: 0.4476 - val_loss: 1.7888 - val_accuracy: 0.4290\n",
            "Epoch 72/120\n",
            "625/625 [==============================] - 32s 52ms/step - loss: 1.7959 - accuracy: 0.4461 - val_loss: 2.0537 - val_accuracy: 0.3889\n",
            "Epoch 73/120\n",
            "625/625 [==============================] - 33s 52ms/step - loss: 1.7906 - accuracy: 0.4486 - val_loss: 1.8585 - val_accuracy: 0.4257\n",
            "Epoch 74/120\n",
            "625/625 [==============================] - 33s 52ms/step - loss: 1.8001 - accuracy: 0.4443 - val_loss: 1.9848 - val_accuracy: 0.3853\n",
            "Epoch 75/120\n",
            "625/625 [==============================] - 32s 52ms/step - loss: 1.7970 - accuracy: 0.4485 - val_loss: 1.9102 - val_accuracy: 0.4028\n",
            "Epoch 76/120\n",
            "625/625 [==============================] - 33s 52ms/step - loss: 1.7872 - accuracy: 0.4529 - val_loss: 1.7753 - val_accuracy: 0.4570\n",
            "Epoch 77/120\n",
            "625/625 [==============================] - 32s 52ms/step - loss: 1.7753 - accuracy: 0.4529 - val_loss: 2.7698 - val_accuracy: 0.2788\n",
            "Epoch 78/120\n",
            "625/625 [==============================] - 33s 52ms/step - loss: 1.7869 - accuracy: 0.4512 - val_loss: 1.8827 - val_accuracy: 0.3990\n",
            "Epoch 79/120\n",
            "625/625 [==============================] - 33s 52ms/step - loss: 1.7746 - accuracy: 0.4524 - val_loss: 2.0029 - val_accuracy: 0.3862\n",
            "Epoch 80/120\n",
            "625/625 [==============================] - 32s 52ms/step - loss: 1.7893 - accuracy: 0.4505 - val_loss: 2.0008 - val_accuracy: 0.3933\n",
            "Epoch 81/120\n",
            "625/625 [==============================] - 32s 52ms/step - loss: 1.7785 - accuracy: 0.4510 - val_loss: 1.9670 - val_accuracy: 0.3859\n",
            "Epoch 82/120\n",
            "625/625 [==============================] - 32s 52ms/step - loss: 1.7837 - accuracy: 0.4530 - val_loss: 1.7912 - val_accuracy: 0.4361\n",
            "Epoch 83/120\n",
            "625/625 [==============================] - 32s 52ms/step - loss: 1.7959 - accuracy: 0.4510 - val_loss: 2.2245 - val_accuracy: 0.3415\n",
            "Epoch 84/120\n",
            "625/625 [==============================] - 32s 52ms/step - loss: 1.7844 - accuracy: 0.4533 - val_loss: 1.8277 - val_accuracy: 0.4475\n",
            "Epoch 85/120\n",
            "625/625 [==============================] - 32s 52ms/step - loss: 1.7798 - accuracy: 0.4569 - val_loss: 2.0985 - val_accuracy: 0.3678\n",
            "Epoch 86/120\n",
            "625/625 [==============================] - 33s 52ms/step - loss: 1.7824 - accuracy: 0.4550 - val_loss: 2.1046 - val_accuracy: 0.3579\n",
            "Epoch 87/120\n",
            "625/625 [==============================] - 32s 52ms/step - loss: 1.7757 - accuracy: 0.4570 - val_loss: 1.8542 - val_accuracy: 0.4202\n",
            "Epoch 88/120\n",
            "625/625 [==============================] - 32s 52ms/step - loss: 1.7791 - accuracy: 0.4575 - val_loss: 3.0895 - val_accuracy: 0.2546\n",
            "Epoch 89/120\n",
            "625/625 [==============================] - 32s 52ms/step - loss: 1.7719 - accuracy: 0.4586 - val_loss: 2.2300 - val_accuracy: 0.3447\n",
            "Epoch 90/120\n",
            "625/625 [==============================] - 32s 52ms/step - loss: 1.7808 - accuracy: 0.4544 - val_loss: 1.9308 - val_accuracy: 0.4123\n",
            "Epoch 91/120\n",
            "625/625 [==============================] - 32s 52ms/step - loss: 1.7746 - accuracy: 0.4565 - val_loss: 2.1115 - val_accuracy: 0.3358\n",
            "Epoch 92/120\n",
            "625/625 [==============================] - 32s 52ms/step - loss: 1.7797 - accuracy: 0.4569 - val_loss: 2.3398 - val_accuracy: 0.2634\n",
            "Epoch 93/120\n",
            "625/625 [==============================] - 32s 52ms/step - loss: 1.7801 - accuracy: 0.4559 - val_loss: 2.1873 - val_accuracy: 0.3738\n",
            "Epoch 94/120\n",
            "625/625 [==============================] - 32s 52ms/step - loss: 1.7754 - accuracy: 0.4584 - val_loss: 2.3881 - val_accuracy: 0.2886\n",
            "Epoch 95/120\n",
            "625/625 [==============================] - 32s 52ms/step - loss: 1.7738 - accuracy: 0.4600 - val_loss: 2.0234 - val_accuracy: 0.4054\n",
            "Epoch 96/120\n",
            "625/625 [==============================] - 32s 52ms/step - loss: 1.7853 - accuracy: 0.4590 - val_loss: 2.0180 - val_accuracy: 0.3805\n",
            "Epoch 97/120\n",
            "625/625 [==============================] - 32s 52ms/step - loss: 1.7730 - accuracy: 0.4593 - val_loss: 1.8175 - val_accuracy: 0.4289\n",
            "Epoch 98/120\n",
            "625/625 [==============================] - 33s 52ms/step - loss: 1.7708 - accuracy: 0.4604 - val_loss: 2.0298 - val_accuracy: 0.3671\n",
            "Epoch 99/120\n",
            "625/625 [==============================] - 33s 52ms/step - loss: 1.7669 - accuracy: 0.4617 - val_loss: 1.9972 - val_accuracy: 0.3649\n",
            "Epoch 100/120\n",
            "625/625 [==============================] - 33s 52ms/step - loss: 1.7748 - accuracy: 0.4620 - val_loss: 2.3058 - val_accuracy: 0.3437\n",
            "Epoch 101/120\n",
            "625/625 [==============================] - 33s 53ms/step - loss: 1.7858 - accuracy: 0.4564 - val_loss: 1.8816 - val_accuracy: 0.4184\n",
            "Epoch 102/120\n",
            "625/625 [==============================] - 33s 52ms/step - loss: 1.7751 - accuracy: 0.4583 - val_loss: 1.8958 - val_accuracy: 0.4196\n",
            "Epoch 103/120\n",
            "625/625 [==============================] - 33s 52ms/step - loss: 1.7710 - accuracy: 0.4639 - val_loss: 2.2708 - val_accuracy: 0.3636\n",
            "Epoch 104/120\n",
            "625/625 [==============================] - 33s 53ms/step - loss: 1.7707 - accuracy: 0.4623 - val_loss: 2.2250 - val_accuracy: 0.3358\n",
            "Epoch 105/120\n",
            "625/625 [==============================] - 33s 53ms/step - loss: 1.7656 - accuracy: 0.4629 - val_loss: 2.0790 - val_accuracy: 0.3677\n",
            "Epoch 106/120\n",
            "625/625 [==============================] - 33s 54ms/step - loss: 1.7664 - accuracy: 0.4647 - val_loss: 2.1724 - val_accuracy: 0.3468\n",
            "Epoch 107/120\n",
            "625/625 [==============================] - 34s 54ms/step - loss: 1.7698 - accuracy: 0.4630 - val_loss: 2.2448 - val_accuracy: 0.3296\n",
            "Epoch 108/120\n",
            "625/625 [==============================] - 33s 53ms/step - loss: 1.7732 - accuracy: 0.4614 - val_loss: 1.8725 - val_accuracy: 0.4328\n",
            "Epoch 109/120\n",
            "625/625 [==============================] - 33s 52ms/step - loss: 1.7733 - accuracy: 0.4660 - val_loss: 1.8843 - val_accuracy: 0.4305\n",
            "Epoch 110/120\n",
            "625/625 [==============================] - 33s 52ms/step - loss: 1.7711 - accuracy: 0.4640 - val_loss: 2.3949 - val_accuracy: 0.3302\n",
            "Epoch 111/120\n",
            "625/625 [==============================] - 33s 53ms/step - loss: 1.7691 - accuracy: 0.4655 - val_loss: 2.1886 - val_accuracy: 0.3506\n",
            "Epoch 112/120\n",
            "625/625 [==============================] - 34s 54ms/step - loss: 1.7668 - accuracy: 0.4672 - val_loss: 1.7312 - val_accuracy: 0.4651\n",
            "Epoch 113/120\n",
            "625/625 [==============================] - 33s 53ms/step - loss: 1.7616 - accuracy: 0.4655 - val_loss: 3.0305 - val_accuracy: 0.2945\n",
            "Epoch 114/120\n",
            "625/625 [==============================] - 33s 52ms/step - loss: 1.7735 - accuracy: 0.4618 - val_loss: 2.2370 - val_accuracy: 0.3523\n",
            "Epoch 115/120\n",
            "625/625 [==============================] - 33s 52ms/step - loss: 1.7695 - accuracy: 0.4661 - val_loss: 1.9286 - val_accuracy: 0.4076\n",
            "Epoch 116/120\n",
            "625/625 [==============================] - 33s 52ms/step - loss: 1.7598 - accuracy: 0.4677 - val_loss: 2.1376 - val_accuracy: 0.3924\n",
            "Epoch 117/120\n",
            "625/625 [==============================] - 32s 52ms/step - loss: 1.7699 - accuracy: 0.4684 - val_loss: 1.9334 - val_accuracy: 0.4100\n",
            "Epoch 118/120\n",
            "625/625 [==============================] - 32s 52ms/step - loss: 1.7650 - accuracy: 0.4665 - val_loss: 1.8188 - val_accuracy: 0.4270\n",
            "Epoch 119/120\n",
            "625/625 [==============================] - 32s 52ms/step - loss: 1.7678 - accuracy: 0.4665 - val_loss: 1.9879 - val_accuracy: 0.3569\n",
            "Epoch 120/120\n",
            "625/625 [==============================] - 32s 52ms/step - loss: 1.7618 - accuracy: 0.4667 - val_loss: 2.4155 - val_accuracy: 0.3185\n"
          ],
          "name": "stdout"
        }
      ]
    },
    {
      "cell_type": "code",
      "metadata": {
        "id": "rc_m-1zfUPSD",
        "colab_type": "code",
        "colab": {}
      },
      "source": [
        "resnet50_model.save('resnet50_model.h5')"
      ],
      "execution_count": 175,
      "outputs": []
    },
    {
      "cell_type": "code",
      "metadata": {
        "id": "RjqCjf6dTjSL",
        "colab_type": "code",
        "colab": {
          "base_uri": "https://localhost:8080/",
          "height": 368
        },
        "outputId": "76fc0ece-8d91-4790-92b6-d92b33314a2d"
      },
      "source": [
        "# Plot train and validation curves\n",
        "loss = history.history['loss']\n",
        "v_loss = history.history['val_loss']\n",
        "\n",
        "acc = history.history['accuracy']\n",
        "v_acc = history.history['val_accuracy']\n",
        "\n",
        "epochs = range(len(loss))\n",
        "\n",
        "fig = plt.figure(figsize=(9, 5))\n",
        "plt.subplot(1, 2, 1)\n",
        "plt.yscale('log')\n",
        "plt.plot(epochs, loss, linestyle='--', linewidth=3, color='orange', alpha=0.7, label='Train Loss')\n",
        "plt.plot(epochs, v_loss, linestyle='-.', linewidth=2, color='lime', alpha=0.8, label='Valid Loss')\n",
        "plt.ylim(0.3, 100)\n",
        "plt.xlabel('Epochs', fontsize=11)\n",
        "plt.ylabel('Loss', fontsize=12)\n",
        "plt.legend(fontsize=12)\n",
        "plt.subplot(1, 2, 2)\n",
        "plt.plot(epochs, acc, linestyle='--', linewidth=3, color='orange', alpha=0.7, label='Train Acc')\n",
        "plt.plot(epochs, v_acc, linestyle='-.', linewidth=2, color='lime', alpha=0.8, label='Valid Acc') \n",
        "plt.xlabel('Epochs', fontsize=11)\n",
        "plt.ylabel('Accuracy', fontsize=12)\n",
        "plt.legend(fontsize=12)\n",
        "plt.tight_layout()\n",
        "plt.savefig('/content/drive/My Drive/Colab Notebooks/IDL course OvGU/accuracy_sgd_res.png', dpi=250)\n",
        "plt.show()"
      ],
      "execution_count": 176,
      "outputs": [
        {
          "output_type": "display_data",
          "data": {
            "image/png": "[encoded data removed]",
            "text/plain": [
              "<Figure size 648x360 with 2 Axes>"
            ]
          },
          "metadata": {
            "tags": [],
            "needs_background": "light"
          }
        }
      ]
    },
    {
      "cell_type": "code",
      "metadata": {
        "id": "b6dlkBsMT8LJ",
        "colab_type": "code",
        "colab": {
          "base_uri": "https://localhost:8080/",
          "height": 52
        },
        "outputId": "0c1ae2da-85dd-4da2-b8fd-27f13c9b6c4d"
      },
      "source": [
        "# Checking the performance on the test data \n",
        "test_result = resnet50_model.evaluate(test_images, test_lab_categorical, verbose=0)\n",
        "\n",
        "print (\"ResNet50 loss: \", test_result[0])\n",
        "print (\"ResNet50 accuracy: \", test_result[1])"
      ],
      "execution_count": 177,
      "outputs": [
        {
          "output_type": "stream",
          "text": [
            "ResNet50 loss:  2.4215316772460938\n",
            "ResNet50 accuracy:  0.31610000133514404\n"
          ],
          "name": "stdout"
        }
      ]
    },
    {
      "cell_type": "markdown",
      "metadata": {
        "id": "AaeJoN_Ztt_f",
        "colab_type": "text"
      },
      "source": [
        "### ADAM optimizer"
      ]
    },
    {
      "cell_type": "code",
      "metadata": {
        "id": "sgQJ-Norsu76",
        "colab_type": "code",
        "colab": {
          "base_uri": "https://localhost:8080/",
          "height": 1000
        },
        "outputId": "ed427494-adef-4513-94b3-0a0721e28233"
      },
      "source": [
        "learning_rate = 0.003\n",
        "adam = optimizers.Adam(lr=learning_rate)\n",
        "resnet50_model.compile(optimizer=adam, loss= 'categorical_crossentropy',metrics = ['accuracy'])\n",
        "\n",
        "history = resnet50_model.fit(train_set_conv, epochs=160, steps_per_epoch=train_img.shape[0]/batch_size, \n",
        "                                  validation_steps=valid_img.shape[0]/batch_size, validation_data=valid_set_conv)"
      ],
      "execution_count": null,
      "outputs": [
        {
          "output_type": "stream",
          "text": [
            "Epoch 1/160\n",
            "625/625 [==============================] - 31s 50ms/step - loss: 13.0462 - accuracy: 0.2527 - val_loss: 725.0502 - val_accuracy: 0.1134\n",
            "Epoch 2/160\n",
            "625/625 [==============================] - 30s 47ms/step - loss: 6.8643 - accuracy: 0.2462 - val_loss: 5.3137 - val_accuracy: 0.2034\n",
            "Epoch 3/160\n",
            "625/625 [==============================] - 30s 48ms/step - loss: 5.7777 - accuracy: 0.2398 - val_loss: 6.6617 - val_accuracy: 0.1352\n",
            "Epoch 4/160\n",
            "625/625 [==============================] - 30s 48ms/step - loss: 4.9952 - accuracy: 0.2266 - val_loss: 3.7682 - val_accuracy: 0.2147\n",
            "Epoch 5/160\n",
            "625/625 [==============================] - 30s 47ms/step - loss: 4.2057 - accuracy: 0.2591 - val_loss: 3.2736 - val_accuracy: 0.2006\n",
            "Epoch 6/160\n",
            "625/625 [==============================] - 30s 48ms/step - loss: 3.4763 - accuracy: 0.2819 - val_loss: 2.8184 - val_accuracy: 0.2658\n",
            "Epoch 7/160\n",
            "625/625 [==============================] - 30s 47ms/step - loss: 2.6360 - accuracy: 0.3233 - val_loss: 2.1854 - val_accuracy: 0.3457\n",
            "Epoch 8/160\n",
            "625/625 [==============================] - 30s 47ms/step - loss: 2.5207 - accuracy: 0.3473 - val_loss: 2.1315 - val_accuracy: 0.3178\n",
            "Epoch 9/160\n",
            "625/625 [==============================] - 30s 48ms/step - loss: 2.0643 - accuracy: 0.3822 - val_loss: 2.8668 - val_accuracy: 0.2146\n",
            "Epoch 10/160\n",
            "625/625 [==============================] - 30s 47ms/step - loss: 2.0325 - accuracy: 0.3954 - val_loss: 2.3422 - val_accuracy: 0.2867\n",
            "Epoch 11/160\n",
            "625/625 [==============================] - 30s 48ms/step - loss: 1.9326 - accuracy: 0.4202 - val_loss: 153.9931 - val_accuracy: 0.1331\n",
            "Epoch 12/160\n",
            "625/625 [==============================] - 30s 48ms/step - loss: 1.8862 - accuracy: 0.4493 - val_loss: 3.1777 - val_accuracy: 0.3251\n",
            "Epoch 13/160\n",
            "625/625 [==============================] - 30s 47ms/step - loss: 1.8257 - accuracy: 0.4780 - val_loss: 2.9138 - val_accuracy: 0.2602\n",
            "Epoch 14/160\n",
            "625/625 [==============================] - 30s 48ms/step - loss: 1.7292 - accuracy: 0.5010 - val_loss: 1.9891 - val_accuracy: 0.3943\n",
            "Epoch 15/160\n",
            "625/625 [==============================] - 30s 48ms/step - loss: 1.6420 - accuracy: 0.5292 - val_loss: 2.1630 - val_accuracy: 0.3401\n",
            "Epoch 16/160\n",
            "625/625 [==============================] - 30s 48ms/step - loss: 1.5663 - accuracy: 0.5404 - val_loss: 2.3682 - val_accuracy: 0.3671\n",
            "Epoch 17/160\n",
            "625/625 [==============================] - 30s 48ms/step - loss: 1.5013 - accuracy: 0.5671 - val_loss: 1.9154 - val_accuracy: 0.4346\n",
            "Epoch 18/160\n",
            "625/625 [==============================] - 30s 48ms/step - loss: 1.4357 - accuracy: 0.5760 - val_loss: 1.6831 - val_accuracy: 0.4672\n",
            "Epoch 19/160\n",
            "625/625 [==============================] - 30s 47ms/step - loss: 1.3980 - accuracy: 0.5864 - val_loss: 1.4977 - val_accuracy: 0.5552\n",
            "Epoch 20/160\n",
            "625/625 [==============================] - 30s 48ms/step - loss: 1.3755 - accuracy: 0.5936 - val_loss: 1.6857 - val_accuracy: 0.4780\n",
            "Epoch 21/160\n",
            "625/625 [==============================] - 30s 47ms/step - loss: 1.3544 - accuracy: 0.6034 - val_loss: 1.3705 - val_accuracy: 0.5979\n",
            "Epoch 22/160\n",
            "625/625 [==============================] - 30s 48ms/step - loss: 1.3238 - accuracy: 0.6075 - val_loss: 1.9736 - val_accuracy: 0.4276\n",
            "Epoch 23/160\n",
            "625/625 [==============================] - 30s 47ms/step - loss: 1.3136 - accuracy: 0.6126 - val_loss: 1.5243 - val_accuracy: 0.5403\n",
            "Epoch 24/160\n",
            "625/625 [==============================] - 30s 47ms/step - loss: 1.2855 - accuracy: 0.6178 - val_loss: 1.5778 - val_accuracy: 0.5393\n",
            "Epoch 25/160\n",
            "625/625 [==============================] - 30s 47ms/step - loss: 1.2815 - accuracy: 0.6252 - val_loss: 1.3431 - val_accuracy: 0.5988\n",
            "Epoch 26/160\n",
            "625/625 [==============================] - 30s 47ms/step - loss: 1.2704 - accuracy: 0.6295 - val_loss: 1.4379 - val_accuracy: 0.5724\n",
            "Epoch 27/160\n",
            "625/625 [==============================] - 29s 47ms/step - loss: 1.2638 - accuracy: 0.6288 - val_loss: 1.8728 - val_accuracy: 0.4732\n",
            "Epoch 28/160\n",
            "625/625 [==============================] - 30s 47ms/step - loss: 1.2389 - accuracy: 0.6355 - val_loss: 1.4054 - val_accuracy: 0.5747\n",
            "Epoch 29/160\n",
            "625/625 [==============================] - 29s 47ms/step - loss: 1.2405 - accuracy: 0.6355 - val_loss: 1.5202 - val_accuracy: 0.5476\n",
            "Epoch 30/160\n",
            "625/625 [==============================] - 30s 47ms/step - loss: 1.2231 - accuracy: 0.6413 - val_loss: 1.5110 - val_accuracy: 0.5583\n",
            "Epoch 31/160\n",
            "625/625 [==============================] - 30s 47ms/step - loss: 1.2205 - accuracy: 0.6420 - val_loss: 1.2636 - val_accuracy: 0.6257\n",
            "Epoch 32/160\n",
            "625/625 [==============================] - 30s 47ms/step - loss: 1.2123 - accuracy: 0.6429 - val_loss: 1.5802 - val_accuracy: 0.5337\n",
            "Epoch 33/160\n",
            "625/625 [==============================] - 30s 47ms/step - loss: 1.2162 - accuracy: 0.6440 - val_loss: 1.4672 - val_accuracy: 0.5684\n",
            "Epoch 34/160\n",
            "625/625 [==============================] - 29s 47ms/step - loss: 1.2098 - accuracy: 0.6462 - val_loss: 1.2925 - val_accuracy: 0.6101\n",
            "Epoch 35/160\n",
            "625/625 [==============================] - 29s 47ms/step - loss: 1.1936 - accuracy: 0.6490 - val_loss: 1.2321 - val_accuracy: 0.6365\n",
            "Epoch 36/160\n",
            "625/625 [==============================] - 30s 47ms/step - loss: 1.2025 - accuracy: 0.6458 - val_loss: 1.5907 - val_accuracy: 0.5472\n",
            "Epoch 37/160\n",
            "625/625 [==============================] - 30s 47ms/step - loss: 1.1916 - accuracy: 0.6528 - val_loss: 1.8330 - val_accuracy: 0.4756\n",
            "Epoch 38/160\n",
            "625/625 [==============================] - 30s 47ms/step - loss: 1.1894 - accuracy: 0.6512 - val_loss: 1.3215 - val_accuracy: 0.6305\n",
            "Epoch 39/160\n",
            "625/625 [==============================] - 29s 47ms/step - loss: 1.1784 - accuracy: 0.6539 - val_loss: 1.6701 - val_accuracy: 0.5409\n",
            "Epoch 40/160\n",
            "625/625 [==============================] - 29s 47ms/step - loss: 1.1719 - accuracy: 0.6573 - val_loss: 1.4676 - val_accuracy: 0.5648\n",
            "Epoch 41/160\n",
            "625/625 [==============================] - 29s 47ms/step - loss: 1.1805 - accuracy: 0.6578 - val_loss: 1.2446 - val_accuracy: 0.6366\n",
            "Epoch 42/160\n",
            "625/625 [==============================] - 29s 47ms/step - loss: 1.1828 - accuracy: 0.6556 - val_loss: 1.3500 - val_accuracy: 0.6080\n",
            "Epoch 43/160\n",
            "625/625 [==============================] - 29s 47ms/step - loss: 1.1876 - accuracy: 0.6561 - val_loss: 1.6654 - val_accuracy: 0.5235\n",
            "Epoch 44/160\n",
            "625/625 [==============================] - 29s 47ms/step - loss: 1.1642 - accuracy: 0.6625 - val_loss: 1.3781 - val_accuracy: 0.6023\n",
            "Epoch 45/160\n",
            "625/625 [==============================] - 29s 47ms/step - loss: 1.1648 - accuracy: 0.6643 - val_loss: 1.3082 - val_accuracy: 0.6178\n",
            "Epoch 46/160\n",
            "625/625 [==============================] - 29s 47ms/step - loss: 1.1631 - accuracy: 0.6604 - val_loss: 1.6041 - val_accuracy: 0.5391\n",
            "Epoch 47/160\n",
            "625/625 [==============================] - 29s 47ms/step - loss: 1.1625 - accuracy: 0.6625 - val_loss: 1.0944 - val_accuracy: 0.6821\n",
            "Epoch 48/160\n",
            "625/625 [==============================] - 30s 48ms/step - loss: 1.1590 - accuracy: 0.6646 - val_loss: 1.4258 - val_accuracy: 0.5801\n",
            "Epoch 49/160\n",
            "625/625 [==============================] - 30s 47ms/step - loss: 1.1650 - accuracy: 0.6627 - val_loss: 1.4246 - val_accuracy: 0.5863\n",
            "Epoch 50/160\n",
            "625/625 [==============================] - 30s 47ms/step - loss: 1.1550 - accuracy: 0.6674 - val_loss: 1.1833 - val_accuracy: 0.6488\n",
            "Epoch 51/160\n",
            "625/625 [==============================] - 29s 47ms/step - loss: 1.1353 - accuracy: 0.6709 - val_loss: 1.5980 - val_accuracy: 0.5242\n",
            "Epoch 52/160\n",
            "625/625 [==============================] - 30s 47ms/step - loss: 1.1556 - accuracy: 0.6685 - val_loss: 1.3066 - val_accuracy: 0.6296\n",
            "Epoch 53/160\n",
            "625/625 [==============================] - 30s 47ms/step - loss: 1.1448 - accuracy: 0.6712 - val_loss: 1.6287 - val_accuracy: 0.5377\n",
            "Epoch 54/160\n",
            "625/625 [==============================] - 30s 47ms/step - loss: 1.1399 - accuracy: 0.6714 - val_loss: 1.2196 - val_accuracy: 0.6338\n",
            "Epoch 55/160\n",
            "625/625 [==============================] - 30s 47ms/step - loss: 1.1386 - accuracy: 0.6689 - val_loss: 1.5669 - val_accuracy: 0.5507\n",
            "Epoch 56/160\n",
            "625/625 [==============================] - 30s 47ms/step - loss: 1.1385 - accuracy: 0.6736 - val_loss: 1.5976 - val_accuracy: 0.5551\n",
            "Epoch 57/160\n",
            "625/625 [==============================] - 30s 47ms/step - loss: 1.1484 - accuracy: 0.6708 - val_loss: 1.5146 - val_accuracy: 0.5818\n",
            "Epoch 58/160\n",
            "625/625 [==============================] - 30s 48ms/step - loss: 1.1401 - accuracy: 0.6730 - val_loss: 1.1818 - val_accuracy: 0.6518\n",
            "Epoch 59/160\n",
            "625/625 [==============================] - 30s 47ms/step - loss: 1.1281 - accuracy: 0.6749 - val_loss: 1.3133 - val_accuracy: 0.6285\n",
            "Epoch 60/160\n",
            "625/625 [==============================] - 30s 48ms/step - loss: 1.1368 - accuracy: 0.6733 - val_loss: 1.2717 - val_accuracy: 0.6332\n",
            "Epoch 61/160\n",
            "625/625 [==============================] - 29s 47ms/step - loss: 1.1279 - accuracy: 0.6772 - val_loss: 1.2921 - val_accuracy: 0.6207\n",
            "Epoch 62/160\n",
            "625/625 [==============================] - 30s 47ms/step - loss: 1.1450 - accuracy: 0.6746 - val_loss: 1.3296 - val_accuracy: 0.6116\n",
            "Epoch 63/160\n",
            "625/625 [==============================] - 30s 47ms/step - loss: 1.1287 - accuracy: 0.6742 - val_loss: 1.6286 - val_accuracy: 0.5470\n",
            "Epoch 64/160\n",
            "625/625 [==============================] - 30s 47ms/step - loss: 1.1241 - accuracy: 0.6777 - val_loss: 1.2159 - val_accuracy: 0.6472\n",
            "Epoch 65/160\n",
            "625/625 [==============================] - 30s 47ms/step - loss: 1.1239 - accuracy: 0.6774 - val_loss: 1.2863 - val_accuracy: 0.6316\n",
            "Epoch 66/160\n",
            "625/625 [==============================] - 30s 47ms/step - loss: 1.1225 - accuracy: 0.6747 - val_loss: 1.3899 - val_accuracy: 0.5896\n",
            "Epoch 67/160\n",
            "625/625 [==============================] - 29s 47ms/step - loss: 1.1146 - accuracy: 0.6807 - val_loss: 1.2299 - val_accuracy: 0.6538\n",
            "Epoch 68/160\n",
            "625/625 [==============================] - 30s 47ms/step - loss: 1.1217 - accuracy: 0.6790 - val_loss: 1.0959 - val_accuracy: 0.6949\n",
            "Epoch 69/160\n",
            "625/625 [==============================] - 30s 48ms/step - loss: 1.1258 - accuracy: 0.6805 - val_loss: 1.3520 - val_accuracy: 0.6119\n",
            "Epoch 70/160\n",
            "625/625 [==============================] - 29s 47ms/step - loss: 1.1240 - accuracy: 0.6769 - val_loss: 1.1555 - val_accuracy: 0.6582\n",
            "Epoch 71/160\n",
            "625/625 [==============================] - 30s 47ms/step - loss: 1.1148 - accuracy: 0.6799 - val_loss: 2.1492 - val_accuracy: 0.4741\n",
            "Epoch 72/160\n",
            "625/625 [==============================] - 30s 47ms/step - loss: 1.1210 - accuracy: 0.6768 - val_loss: 1.5006 - val_accuracy: 0.5890\n",
            "Epoch 73/160\n",
            "625/625 [==============================] - 30s 47ms/step - loss: 1.1172 - accuracy: 0.6802 - val_loss: 1.7710 - val_accuracy: 0.5223\n",
            "Epoch 74/160\n",
            "625/625 [==============================] - 30s 47ms/step - loss: 1.1145 - accuracy: 0.6823 - val_loss: 1.5324 - val_accuracy: 0.5778\n",
            "Epoch 75/160\n",
            "625/625 [==============================] - 29s 47ms/step - loss: 1.1247 - accuracy: 0.6810 - val_loss: 1.4341 - val_accuracy: 0.5845\n",
            "Epoch 76/160\n",
            "625/625 [==============================] - 29s 47ms/step - loss: 1.1135 - accuracy: 0.6835 - val_loss: 1.3674 - val_accuracy: 0.5970\n",
            "Epoch 77/160\n",
            "625/625 [==============================] - 30s 47ms/step - loss: 1.1051 - accuracy: 0.6815 - val_loss: 1.2408 - val_accuracy: 0.6271\n",
            "Epoch 78/160\n",
            "625/625 [==============================] - 29s 47ms/step - loss: 1.1157 - accuracy: 0.6823 - val_loss: 1.2387 - val_accuracy: 0.6443\n",
            "Epoch 79/160\n",
            "625/625 [==============================] - 30s 48ms/step - loss: 1.1078 - accuracy: 0.6834 - val_loss: 1.5994 - val_accuracy: 0.5405\n",
            "Epoch 80/160\n",
            "625/625 [==============================] - 30s 47ms/step - loss: 1.1161 - accuracy: 0.6824 - val_loss: 1.4593 - val_accuracy: 0.5948\n",
            "Epoch 81/160\n",
            "625/625 [==============================] - 30s 47ms/step - loss: 1.1093 - accuracy: 0.6862 - val_loss: 1.2845 - val_accuracy: 0.6148\n",
            "Epoch 82/160\n",
            "625/625 [==============================] - 30s 48ms/step - loss: 1.1142 - accuracy: 0.6825 - val_loss: 1.8035 - val_accuracy: 0.5115\n",
            "Epoch 83/160\n",
            "625/625 [==============================] - 30s 47ms/step - loss: 1.1041 - accuracy: 0.6860 - val_loss: 1.5415 - val_accuracy: 0.5727\n",
            "Epoch 84/160\n",
            "625/625 [==============================] - 30s 47ms/step - loss: 1.0998 - accuracy: 0.6836 - val_loss: 1.4033 - val_accuracy: 0.5934\n",
            "Epoch 85/160\n",
            "625/625 [==============================] - 30s 47ms/step - loss: 1.1031 - accuracy: 0.6817 - val_loss: 1.1792 - val_accuracy: 0.6660\n",
            "Epoch 86/160\n",
            "625/625 [==============================] - 30s 47ms/step - loss: 1.1049 - accuracy: 0.6835 - val_loss: 1.1737 - val_accuracy: 0.6627\n",
            "Epoch 87/160\n",
            "625/625 [==============================] - 30s 47ms/step - loss: 1.1040 - accuracy: 0.6833 - val_loss: 1.1770 - val_accuracy: 0.6553\n",
            "Epoch 88/160\n",
            "625/625 [==============================] - 30s 47ms/step - loss: 1.1082 - accuracy: 0.6891 - val_loss: 1.1969 - val_accuracy: 0.6582\n",
            "Epoch 89/160\n",
            "625/625 [==============================] - 30s 48ms/step - loss: 1.0962 - accuracy: 0.6896 - val_loss: 1.1809 - val_accuracy: 0.6601\n",
            "Epoch 90/160\n",
            "625/625 [==============================] - 30s 48ms/step - loss: 1.0921 - accuracy: 0.6898 - val_loss: 1.6565 - val_accuracy: 0.5445\n",
            "Epoch 91/160\n",
            "625/625 [==============================] - 30s 47ms/step - loss: 1.0941 - accuracy: 0.6890 - val_loss: 1.1403 - val_accuracy: 0.6722\n",
            "Epoch 92/160\n",
            "625/625 [==============================] - 30s 47ms/step - loss: 1.0925 - accuracy: 0.6883 - val_loss: 1.4757 - val_accuracy: 0.5770\n",
            "Epoch 93/160\n",
            "625/625 [==============================] - 30s 47ms/step - loss: 1.0980 - accuracy: 0.6901 - val_loss: 1.9205 - val_accuracy: 0.5100\n",
            "Epoch 94/160\n",
            "625/625 [==============================] - 30s 47ms/step - loss: 1.0995 - accuracy: 0.6886 - val_loss: 1.1267 - val_accuracy: 0.6679\n",
            "Epoch 95/160\n",
            "625/625 [==============================] - 30s 47ms/step - loss: 1.0945 - accuracy: 0.6899 - val_loss: 1.4157 - val_accuracy: 0.5975\n",
            "Epoch 96/160\n",
            "625/625 [==============================] - 30s 48ms/step - loss: 1.0925 - accuracy: 0.6890 - val_loss: 1.6036 - val_accuracy: 0.5309\n",
            "Epoch 97/160\n",
            "625/625 [==============================] - 30s 48ms/step - loss: 1.0891 - accuracy: 0.6912 - val_loss: 1.5758 - val_accuracy: 0.5410\n",
            "Epoch 98/160\n",
            "625/625 [==============================] - 30s 48ms/step - loss: 1.0953 - accuracy: 0.6883 - val_loss: 1.4864 - val_accuracy: 0.5949\n",
            "Epoch 99/160\n",
            "625/625 [==============================] - 30s 48ms/step - loss: 1.0816 - accuracy: 0.6929 - val_loss: 1.5075 - val_accuracy: 0.5707\n",
            "Epoch 100/160\n",
            "625/625 [==============================] - 30s 48ms/step - loss: 1.0999 - accuracy: 0.6901 - val_loss: 1.9103 - val_accuracy: 0.5416\n",
            "Epoch 101/160\n",
            "625/625 [==============================] - 30s 48ms/step - loss: 1.1016 - accuracy: 0.6880 - val_loss: 1.3604 - val_accuracy: 0.6208\n",
            "Epoch 102/160\n",
            "625/625 [==============================] - 30s 48ms/step - loss: 1.1028 - accuracy: 0.6901 - val_loss: 1.3085 - val_accuracy: 0.6241\n",
            "Epoch 103/160\n",
            "625/625 [==============================] - 30s 48ms/step - loss: 1.0891 - accuracy: 0.6945 - val_loss: 1.3908 - val_accuracy: 0.6120\n",
            "Epoch 104/160\n",
            "625/625 [==============================] - 30s 48ms/step - loss: 1.0950 - accuracy: 0.6916 - val_loss: 1.7041 - val_accuracy: 0.5584\n",
            "Epoch 105/160\n",
            "625/625 [==============================] - 30s 48ms/step - loss: 1.0954 - accuracy: 0.6890 - val_loss: 1.2590 - val_accuracy: 0.6436\n",
            "Epoch 106/160\n",
            "625/625 [==============================] - 30s 48ms/step - loss: 1.0865 - accuracy: 0.6905 - val_loss: 1.2155 - val_accuracy: 0.6513\n",
            "Epoch 107/160\n",
            "625/625 [==============================] - 30s 48ms/step - loss: 1.0818 - accuracy: 0.6931 - val_loss: 1.7016 - val_accuracy: 0.5400\n",
            "Epoch 108/160\n",
            "625/625 [==============================] - 30s 48ms/step - loss: 1.0984 - accuracy: 0.6943 - val_loss: 1.2606 - val_accuracy: 0.6357\n",
            "Epoch 109/160\n",
            "625/625 [==============================] - 30s 48ms/step - loss: 1.0766 - accuracy: 0.6921 - val_loss: 1.5828 - val_accuracy: 0.5595\n",
            "Epoch 110/160\n",
            "625/625 [==============================] - 30s 48ms/step - loss: 1.1003 - accuracy: 0.6931 - val_loss: 1.9798 - val_accuracy: 0.5393\n",
            "Epoch 111/160\n",
            "625/625 [==============================] - 30s 49ms/step - loss: 1.0854 - accuracy: 0.6923 - val_loss: 1.4003 - val_accuracy: 0.6072\n",
            "Epoch 112/160\n",
            "625/625 [==============================] - 30s 49ms/step - loss: 1.0775 - accuracy: 0.6914 - val_loss: 1.3517 - val_accuracy: 0.6001\n",
            "Epoch 113/160\n",
            "625/625 [==============================] - 30s 48ms/step - loss: 1.0788 - accuracy: 0.6920 - val_loss: 1.3532 - val_accuracy: 0.6161\n",
            "Epoch 114/160\n",
            "625/625 [==============================] - 30s 49ms/step - loss: 1.0861 - accuracy: 0.6930 - val_loss: 1.1741 - val_accuracy: 0.6518\n",
            "Epoch 115/160\n",
            "625/625 [==============================] - 30s 49ms/step - loss: 1.0837 - accuracy: 0.6930 - val_loss: 1.4506 - val_accuracy: 0.5856\n",
            "Epoch 116/160\n",
            "625/625 [==============================] - 30s 49ms/step - loss: 1.0819 - accuracy: 0.6962 - val_loss: 1.2958 - val_accuracy: 0.6275\n",
            "Epoch 117/160\n",
            "625/625 [==============================] - 31s 49ms/step - loss: 1.0858 - accuracy: 0.6938 - val_loss: 1.5089 - val_accuracy: 0.5604\n",
            "Epoch 118/160\n",
            "625/625 [==============================] - 30s 48ms/step - loss: 1.0860 - accuracy: 0.6965 - val_loss: 1.5712 - val_accuracy: 0.5662\n",
            "Epoch 119/160\n",
            "625/625 [==============================] - 30s 48ms/step - loss: 1.0993 - accuracy: 0.6934 - val_loss: 1.1977 - val_accuracy: 0.6719\n",
            "Epoch 120/160\n",
            "625/625 [==============================] - 31s 49ms/step - loss: 1.0920 - accuracy: 0.6933 - val_loss: 1.4282 - val_accuracy: 0.5868\n",
            "Epoch 121/160\n",
            "625/625 [==============================] - 31s 49ms/step - loss: 1.0844 - accuracy: 0.6967 - val_loss: 1.7319 - val_accuracy: 0.5474\n",
            "Epoch 122/160\n",
            "625/625 [==============================] - 31s 49ms/step - loss: 1.0849 - accuracy: 0.6923 - val_loss: 1.4316 - val_accuracy: 0.6192\n",
            "Epoch 123/160\n",
            "625/625 [==============================] - 30s 48ms/step - loss: 1.0830 - accuracy: 0.6939 - val_loss: 1.3506 - val_accuracy: 0.5956\n",
            "Epoch 124/160\n",
            "625/625 [==============================] - 30s 49ms/step - loss: 1.0961 - accuracy: 0.6936 - val_loss: 1.5873 - val_accuracy: 0.5558\n",
            "Epoch 125/160\n",
            "625/625 [==============================] - 31s 49ms/step - loss: 1.0784 - accuracy: 0.6961 - val_loss: 1.3373 - val_accuracy: 0.6217\n",
            "Epoch 126/160\n",
            "625/625 [==============================] - 31s 49ms/step - loss: 1.0830 - accuracy: 0.6915 - val_loss: 1.2025 - val_accuracy: 0.6677\n",
            "Epoch 127/160\n",
            "625/625 [==============================] - 31s 49ms/step - loss: 1.0855 - accuracy: 0.6977 - val_loss: 1.1984 - val_accuracy: 0.6640\n",
            "Epoch 128/160\n",
            "625/625 [==============================] - 31s 49ms/step - loss: 1.0764 - accuracy: 0.6966 - val_loss: 1.1206 - val_accuracy: 0.6792\n",
            "Epoch 129/160\n",
            "625/625 [==============================] - 31s 49ms/step - loss: 1.0769 - accuracy: 0.6971 - val_loss: 1.4552 - val_accuracy: 0.6169\n",
            "Epoch 130/160\n",
            "625/625 [==============================] - 31s 50ms/step - loss: 1.0776 - accuracy: 0.6964 - val_loss: 1.8475 - val_accuracy: 0.5373\n",
            "Epoch 131/160\n",
            "625/625 [==============================] - 31s 49ms/step - loss: 1.0848 - accuracy: 0.6936 - val_loss: 1.3095 - val_accuracy: 0.6596\n",
            "Epoch 132/160\n",
            "625/625 [==============================] - 31s 49ms/step - loss: 1.0894 - accuracy: 0.6933 - val_loss: 1.3431 - val_accuracy: 0.6010\n",
            "Epoch 133/160\n",
            "625/625 [==============================] - 31s 49ms/step - loss: 1.0834 - accuracy: 0.6961 - val_loss: 1.3892 - val_accuracy: 0.6139\n",
            "Epoch 134/160\n",
            "625/625 [==============================] - 31s 49ms/step - loss: 1.0778 - accuracy: 0.6986 - val_loss: 1.2400 - val_accuracy: 0.6470\n",
            "Epoch 135/160\n",
            "625/625 [==============================] - 31s 49ms/step - loss: 1.0811 - accuracy: 0.6956 - val_loss: 1.5059 - val_accuracy: 0.5843\n",
            "Epoch 136/160\n",
            "625/625 [==============================] - 31s 49ms/step - loss: 1.0741 - accuracy: 0.6977 - val_loss: 1.2474 - val_accuracy: 0.6365\n",
            "Epoch 137/160\n",
            "625/625 [==============================] - 31s 49ms/step - loss: 1.0870 - accuracy: 0.6972 - val_loss: 1.2526 - val_accuracy: 0.6316\n",
            "Epoch 138/160\n",
            "625/625 [==============================] - 31s 49ms/step - loss: 1.0742 - accuracy: 0.6966 - val_loss: 1.5105 - val_accuracy: 0.5624\n",
            "Epoch 139/160\n",
            "625/625 [==============================] - 30s 49ms/step - loss: 1.0726 - accuracy: 0.6984 - val_loss: 1.2180 - val_accuracy: 0.6484\n",
            "Epoch 140/160\n",
            "625/625 [==============================] - 30s 49ms/step - loss: 1.0794 - accuracy: 0.6987 - val_loss: 1.1768 - val_accuracy: 0.6679\n",
            "Epoch 141/160\n",
            "625/625 [==============================] - 31s 49ms/step - loss: 1.0703 - accuracy: 0.7004 - val_loss: 1.2500 - val_accuracy: 0.6487\n",
            "Epoch 142/160\n",
            "625/625 [==============================] - 31s 50ms/step - loss: 1.0787 - accuracy: 0.6970 - val_loss: 1.1980 - val_accuracy: 0.6510\n",
            "Epoch 143/160\n",
            "625/625 [==============================] - 31s 50ms/step - loss: 1.0800 - accuracy: 0.6950 - val_loss: 1.2766 - val_accuracy: 0.6311\n",
            "Epoch 144/160\n",
            "625/625 [==============================] - 32s 51ms/step - loss: 1.0765 - accuracy: 0.6966 - val_loss: 1.6341 - val_accuracy: 0.5507\n",
            "Epoch 145/160\n",
            "625/625 [==============================] - 32s 51ms/step - loss: 1.0770 - accuracy: 0.6978 - val_loss: 1.1933 - val_accuracy: 0.6655\n",
            "Epoch 146/160\n",
            "625/625 [==============================] - 31s 49ms/step - loss: 1.0693 - accuracy: 0.6956 - val_loss: 1.8231 - val_accuracy: 0.5333\n",
            "Epoch 147/160\n",
            "625/625 [==============================] - 30s 49ms/step - loss: 1.0764 - accuracy: 0.6951 - val_loss: 1.3288 - val_accuracy: 0.6234\n",
            "Epoch 148/160\n",
            "625/625 [==============================] - 31s 49ms/step - loss: 1.0769 - accuracy: 0.6966 - val_loss: 1.2172 - val_accuracy: 0.6602\n",
            "Epoch 149/160\n",
            "625/625 [==============================] - 31s 50ms/step - loss: 1.0733 - accuracy: 0.7005 - val_loss: 1.3046 - val_accuracy: 0.6265\n",
            "Epoch 150/160\n",
            "625/625 [==============================] - 31s 49ms/step - loss: 1.0647 - accuracy: 0.6993 - val_loss: 1.5323 - val_accuracy: 0.5910\n",
            "Epoch 151/160\n",
            "625/625 [==============================] - 31s 49ms/step - loss: 1.0722 - accuracy: 0.6964 - val_loss: 1.1152 - val_accuracy: 0.6766\n",
            "Epoch 152/160\n",
            "625/625 [==============================] - 31s 49ms/step - loss: 1.0842 - accuracy: 0.6951 - val_loss: 1.1822 - val_accuracy: 0.6578\n",
            "Epoch 153/160\n",
            "625/625 [==============================] - 30s 49ms/step - loss: 1.0765 - accuracy: 0.6978 - val_loss: 1.2589 - val_accuracy: 0.6542\n",
            "Epoch 154/160\n",
            "625/625 [==============================] - 30s 49ms/step - loss: 1.0624 - accuracy: 0.6990 - val_loss: 2.0579 - val_accuracy: 0.4593\n",
            "Epoch 155/160\n",
            "625/625 [==============================] - 30s 48ms/step - loss: 1.0771 - accuracy: 0.7005 - val_loss: 1.2335 - val_accuracy: 0.6549\n",
            "Epoch 156/160\n",
            "625/625 [==============================] - 30s 49ms/step - loss: 1.0734 - accuracy: 0.6969 - val_loss: 1.7498 - val_accuracy: 0.5215\n",
            "Epoch 157/160\n",
            "625/625 [==============================] - 30s 49ms/step - loss: 1.0768 - accuracy: 0.6995 - val_loss: 1.2768 - val_accuracy: 0.6380\n",
            "Epoch 158/160\n",
            "625/625 [==============================] - 30s 48ms/step - loss: 1.0703 - accuracy: 0.6995 - val_loss: 1.4003 - val_accuracy: 0.5979\n",
            "Epoch 159/160\n",
            "625/625 [==============================] - 30s 48ms/step - loss: 1.0746 - accuracy: 0.6987 - val_loss: 1.3789 - val_accuracy: 0.6139\n",
            "Epoch 160/160\n",
            "625/625 [==============================] - 30s 48ms/step - loss: 1.0764 - accuracy: 0.6960 - val_loss: 1.2047 - val_accuracy: 0.6413\n"
          ],
          "name": "stdout"
        }
      ]
    },
    {
      "cell_type": "code",
      "metadata": {
        "id": "TPDDotwAtdd-",
        "colab_type": "code",
        "colab": {}
      },
      "source": [
        "resnet50_model.save('resnet50_model_adam.h5')"
      ],
      "execution_count": null,
      "outputs": []
    },
    {
      "cell_type": "code",
      "metadata": {
        "id": "7hRsDhH6tlmE",
        "colab_type": "code",
        "colab": {
          "base_uri": "https://localhost:8080/",
          "height": 368
        },
        "outputId": "d0a373c2-2b00-4f8f-b504-582a34a9263a"
      },
      "source": [
        "# Plot train and validation curves\n",
        "loss = history.history['loss']\n",
        "v_loss = history.history['val_loss']\n",
        "\n",
        "acc = history.history['accuracy']\n",
        "v_acc = history.history['val_accuracy']\n",
        "\n",
        "epochs = range(len(loss))\n",
        "\n",
        "fig = plt.figure(figsize=(9, 5))\n",
        "plt.subplot(1, 2, 1)\n",
        "plt.yscale('log')\n",
        "plt.plot(epochs, loss, linestyle='--', linewidth=3, color='orange', alpha=0.7, label='Train Loss')\n",
        "plt.plot(epochs, v_loss, linestyle='-.', linewidth=2, color='lime', alpha=0.8, label='Valid Loss')\n",
        "plt.ylim(0.3, 100)\n",
        "plt.xlabel('Epochs', fontsize=11)\n",
        "plt.ylabel('Loss', fontsize=12)\n",
        "plt.legend(fontsize=12)\n",
        "plt.subplot(1, 2, 2)\n",
        "plt.plot(epochs, acc, linestyle='--', linewidth=3, color='orange', alpha=0.7, label='Train Acc')\n",
        "plt.plot(epochs, v_acc, linestyle='-.', linewidth=2, color='lime', alpha=0.8, label='Valid Acc') \n",
        "plt.xlabel('Epochs', fontsize=11)\n",
        "plt.ylabel('Accuracy', fontsize=12)\n",
        "plt.legend(fontsize=12)\n",
        "plt.tight_layout()\n",
        "plt.savefig('/content/drive/My Drive/Colab Notebooks/IDL course OvGU/accuracy_adam_res.png', dpi=250)\n",
        "plt.show()"
      ],
      "execution_count": null,
      "outputs": [
        {
          "output_type": "display_data",
          "data": {
            "image/png": "[encoded data removed]",
            "text/plain": [
              "<Figure size 648x360 with 2 Axes>"
            ]
          },
          "metadata": {
            "tags": [],
            "needs_background": "light"
          }
        }
      ]
    },
    {
      "cell_type": "code",
      "metadata": {
        "id": "nXffypHttqC4",
        "colab_type": "code",
        "colab": {
          "base_uri": "https://localhost:8080/",
          "height": 52
        },
        "outputId": "57955fc8-b036-4bb1-d69f-dcc03412f92c"
      },
      "source": [
        "# Checking the performance on the test data \n",
        "test_result = resnet50_model.evaluate(test_images, test_lab_categorical, verbose=0)\n",
        "\n",
        "print (\"ResNet50 loss: \", test_result[0])\n",
        "print (\"ResNet50 accuracy: \", test_result[1])"
      ],
      "execution_count": null,
      "outputs": [
        {
          "output_type": "stream",
          "text": [
            "ResNet50 loss:  1.229108214378357\n",
            "ResNet50 accuracy:  0.632099986076355\n"
          ],
          "name": "stdout"
        }
      ]
    },
    {
      "cell_type": "markdown",
      "metadata": {
        "id": "Dp1jNt_xtzMt",
        "colab_type": "text"
      },
      "source": [
        "### Adagrad optimizer"
      ]
    },
    {
      "cell_type": "code",
      "metadata": {
        "id": "ylRPtqd4Ga8j",
        "colab_type": "code",
        "colab": {
          "base_uri": "https://localhost:8080/",
          "height": 1000
        },
        "outputId": "843898c4-3383-4f8d-c359-968df1d78b93"
      },
      "source": [
        "learning_rate = 0.005\n",
        "ada = optimizers.Adagrad(lr=learning_rate)\n",
        "resnet50_model.compile(optimizer=ada, loss= 'categorical_crossentropy',metrics = ['accuracy'])\n",
        "\n",
        "history = resnet50_model.fit(train_set_conv, epochs=120, steps_per_epoch=train_img.shape[0]/batch_size, \n",
        "                                  validation_steps=valid_img.shape[0]/batch_size, validation_data=valid_set_conv)"
      ],
      "execution_count": 186,
      "outputs": [
        {
          "output_type": "stream",
          "text": [
            "Epoch 1/120\n",
            "625/625 [==============================] - 34s 55ms/step - loss: 19.8474 - accuracy: 0.3265 - val_loss: 19.1292 - val_accuracy: 0.4141\n",
            "Epoch 2/120\n",
            "625/625 [==============================] - 32s 52ms/step - loss: 18.8221 - accuracy: 0.4228 - val_loss: 18.4517 - val_accuracy: 0.4494\n",
            "Epoch 3/120\n",
            "625/625 [==============================] - 33s 52ms/step - loss: 18.1304 - accuracy: 0.4586 - val_loss: 17.7385 - val_accuracy: 0.4999\n",
            "Epoch 4/120\n",
            "625/625 [==============================] - 33s 52ms/step - loss: 17.4992 - accuracy: 0.4903 - val_loss: 17.1560 - val_accuracy: 0.5152\n",
            "Epoch 5/120\n",
            "625/625 [==============================] - 33s 52ms/step - loss: 16.8941 - accuracy: 0.5171 - val_loss: 16.6433 - val_accuracy: 0.5271\n",
            "Epoch 6/120\n",
            "625/625 [==============================] - 33s 53ms/step - loss: 16.3343 - accuracy: 0.5333 - val_loss: 16.0022 - val_accuracy: 0.5650\n",
            "Epoch 7/120\n",
            "625/625 [==============================] - 33s 53ms/step - loss: 15.7891 - accuracy: 0.5488 - val_loss: 15.5486 - val_accuracy: 0.5434\n",
            "Epoch 8/120\n",
            "625/625 [==============================] - 33s 53ms/step - loss: 15.2755 - accuracy: 0.5660 - val_loss: 15.0012 - val_accuracy: 0.5825\n",
            "Epoch 9/120\n",
            "625/625 [==============================] - 33s 52ms/step - loss: 14.7885 - accuracy: 0.5744 - val_loss: 14.5852 - val_accuracy: 0.5762\n",
            "Epoch 10/120\n",
            "625/625 [==============================] - 33s 53ms/step - loss: 14.3203 - accuracy: 0.5854 - val_loss: 14.1112 - val_accuracy: 0.5885\n",
            "Epoch 11/120\n",
            "625/625 [==============================] - 33s 53ms/step - loss: 13.8723 - accuracy: 0.5971 - val_loss: 13.6474 - val_accuracy: 0.6049\n",
            "Epoch 12/120\n",
            "625/625 [==============================] - 33s 53ms/step - loss: 13.4337 - accuracy: 0.6098 - val_loss: 13.2641 - val_accuracy: 0.6026\n",
            "Epoch 13/120\n",
            "625/625 [==============================] - 33s 53ms/step - loss: 13.0217 - accuracy: 0.6196 - val_loss: 12.9594 - val_accuracy: 0.5801\n",
            "Epoch 14/120\n",
            "625/625 [==============================] - 33s 53ms/step - loss: 12.6282 - accuracy: 0.6263 - val_loss: 12.5171 - val_accuracy: 0.6101\n",
            "Epoch 15/120\n",
            "625/625 [==============================] - 33s 53ms/step - loss: 12.2432 - accuracy: 0.6387 - val_loss: 12.0828 - val_accuracy: 0.6293\n",
            "Epoch 16/120\n",
            "625/625 [==============================] - 33s 53ms/step - loss: 11.8750 - accuracy: 0.6425 - val_loss: 11.7981 - val_accuracy: 0.6111\n",
            "Epoch 17/120\n",
            "625/625 [==============================] - 33s 53ms/step - loss: 11.5293 - accuracy: 0.6498 - val_loss: 11.4400 - val_accuracy: 0.6259\n",
            "Epoch 18/120\n",
            "625/625 [==============================] - 33s 53ms/step - loss: 11.1889 - accuracy: 0.6581 - val_loss: 11.0714 - val_accuracy: 0.6420\n",
            "Epoch 19/120\n",
            "625/625 [==============================] - 33s 53ms/step - loss: 10.8582 - accuracy: 0.6689 - val_loss: 10.7538 - val_accuracy: 0.6448\n",
            "Epoch 20/120\n",
            "625/625 [==============================] - 33s 53ms/step - loss: 10.5489 - accuracy: 0.6705 - val_loss: 10.4491 - val_accuracy: 0.6489\n",
            "Epoch 21/120\n",
            "625/625 [==============================] - 33s 53ms/step - loss: 10.2447 - accuracy: 0.6760 - val_loss: 10.2242 - val_accuracy: 0.6417\n",
            "Epoch 22/120\n",
            "625/625 [==============================] - 33s 53ms/step - loss: 9.9645 - accuracy: 0.6809 - val_loss: 9.9308 - val_accuracy: 0.6456\n",
            "Epoch 23/120\n",
            "625/625 [==============================] - 33s 53ms/step - loss: 9.6895 - accuracy: 0.6850 - val_loss: 9.6053 - val_accuracy: 0.6664\n",
            "Epoch 24/120\n",
            "625/625 [==============================] - 33s 53ms/step - loss: 9.4127 - accuracy: 0.6959 - val_loss: 9.4662 - val_accuracy: 0.6358\n",
            "Epoch 25/120\n",
            "625/625 [==============================] - 33s 53ms/step - loss: 9.1518 - accuracy: 0.7002 - val_loss: 9.1037 - val_accuracy: 0.6755\n",
            "Epoch 26/120\n",
            "625/625 [==============================] - 33s 53ms/step - loss: 8.9151 - accuracy: 0.7028 - val_loss: 8.9566 - val_accuracy: 0.6519\n",
            "Epoch 27/120\n",
            "625/625 [==============================] - 33s 53ms/step - loss: 8.6647 - accuracy: 0.7078 - val_loss: 8.7108 - val_accuracy: 0.6629\n",
            "Epoch 28/120\n",
            "625/625 [==============================] - 33s 53ms/step - loss: 8.4389 - accuracy: 0.7148 - val_loss: 8.4543 - val_accuracy: 0.6714\n",
            "Epoch 29/120\n",
            "625/625 [==============================] - 33s 53ms/step - loss: 8.2140 - accuracy: 0.7182 - val_loss: 8.2725 - val_accuracy: 0.6750\n",
            "Epoch 30/120\n",
            "625/625 [==============================] - 33s 53ms/step - loss: 8.0053 - accuracy: 0.7233 - val_loss: 8.0649 - val_accuracy: 0.6726\n",
            "Epoch 31/120\n",
            "625/625 [==============================] - 33s 53ms/step - loss: 7.7951 - accuracy: 0.7333 - val_loss: 7.8569 - val_accuracy: 0.6768\n",
            "Epoch 32/120\n",
            "625/625 [==============================] - 33s 53ms/step - loss: 7.6027 - accuracy: 0.7296 - val_loss: 7.6136 - val_accuracy: 0.6981\n",
            "Epoch 33/120\n",
            "625/625 [==============================] - 33s 53ms/step - loss: 7.4079 - accuracy: 0.7366 - val_loss: 7.4704 - val_accuracy: 0.6949\n",
            "Epoch 34/120\n",
            "625/625 [==============================] - 33s 53ms/step - loss: 7.2293 - accuracy: 0.7390 - val_loss: 7.3360 - val_accuracy: 0.6761\n",
            "Epoch 35/120\n",
            "625/625 [==============================] - 33s 53ms/step - loss: 7.0436 - accuracy: 0.7490 - val_loss: 7.2172 - val_accuracy: 0.6742\n",
            "Epoch 36/120\n",
            "625/625 [==============================] - 33s 53ms/step - loss: 6.8702 - accuracy: 0.7539 - val_loss: 7.2496 - val_accuracy: 0.6673\n",
            "Epoch 37/120\n",
            "625/625 [==============================] - 33s 53ms/step - loss: 6.7156 - accuracy: 0.7518 - val_loss: 6.7875 - val_accuracy: 0.7043\n",
            "Epoch 38/120\n",
            "625/625 [==============================] - 33s 53ms/step - loss: 6.5553 - accuracy: 0.7558 - val_loss: 6.6619 - val_accuracy: 0.7019\n",
            "Epoch 39/120\n",
            "625/625 [==============================] - 33s 53ms/step - loss: 6.4032 - accuracy: 0.7586 - val_loss: 6.5567 - val_accuracy: 0.6907\n",
            "Epoch 40/120\n",
            "625/625 [==============================] - 33s 53ms/step - loss: 6.2548 - accuracy: 0.7629 - val_loss: 6.3531 - val_accuracy: 0.7119\n",
            "Epoch 41/120\n",
            "625/625 [==============================] - 33s 53ms/step - loss: 6.1100 - accuracy: 0.7674 - val_loss: 6.3150 - val_accuracy: 0.6954\n",
            "Epoch 42/120\n",
            "625/625 [==============================] - 33s 53ms/step - loss: 5.9718 - accuracy: 0.7725 - val_loss: 6.2191 - val_accuracy: 0.6764\n",
            "Epoch 43/120\n",
            "625/625 [==============================] - 33s 53ms/step - loss: 5.8397 - accuracy: 0.7754 - val_loss: 6.0067 - val_accuracy: 0.7066\n",
            "Epoch 44/120\n",
            "625/625 [==============================] - 33s 53ms/step - loss: 5.7227 - accuracy: 0.7707 - val_loss: 5.9294 - val_accuracy: 0.6950\n",
            "Epoch 45/120\n",
            "625/625 [==============================] - 33s 53ms/step - loss: 5.5825 - accuracy: 0.7807 - val_loss: 5.7436 - val_accuracy: 0.7176\n",
            "Epoch 46/120\n",
            "625/625 [==============================] - 33s 53ms/step - loss: 5.4668 - accuracy: 0.7852 - val_loss: 5.6598 - val_accuracy: 0.7132\n",
            "Epoch 47/120\n",
            "625/625 [==============================] - 33s 53ms/step - loss: 5.3537 - accuracy: 0.7878 - val_loss: 5.5537 - val_accuracy: 0.7159\n",
            "Epoch 48/120\n",
            "625/625 [==============================] - 33s 53ms/step - loss: 5.2423 - accuracy: 0.7893 - val_loss: 5.4379 - val_accuracy: 0.7165\n",
            "Epoch 49/120\n",
            "625/625 [==============================] - 33s 53ms/step - loss: 5.1309 - accuracy: 0.7942 - val_loss: 5.3424 - val_accuracy: 0.7210\n",
            "Epoch 50/120\n",
            "625/625 [==============================] - 33s 53ms/step - loss: 5.0239 - accuracy: 0.7974 - val_loss: 5.2763 - val_accuracy: 0.7179\n",
            "Epoch 51/120\n",
            "625/625 [==============================] - 33s 53ms/step - loss: 4.9235 - accuracy: 0.8015 - val_loss: 5.1932 - val_accuracy: 0.7108\n",
            "Epoch 52/120\n",
            "625/625 [==============================] - 33s 53ms/step - loss: 4.8245 - accuracy: 0.8059 - val_loss: 5.1040 - val_accuracy: 0.7150\n",
            "Epoch 53/120\n",
            "625/625 [==============================] - 33s 53ms/step - loss: 4.7283 - accuracy: 0.8072 - val_loss: 5.0074 - val_accuracy: 0.7175\n",
            "Epoch 54/120\n",
            "625/625 [==============================] - 33s 53ms/step - loss: 4.6410 - accuracy: 0.8108 - val_loss: 4.9309 - val_accuracy: 0.7114\n",
            "Epoch 55/120\n",
            "625/625 [==============================] - 33s 53ms/step - loss: 4.5571 - accuracy: 0.8129 - val_loss: 4.9776 - val_accuracy: 0.7027\n",
            "Epoch 56/120\n",
            "625/625 [==============================] - 33s 53ms/step - loss: 4.4661 - accuracy: 0.8177 - val_loss: 4.7262 - val_accuracy: 0.7318\n",
            "Epoch 57/120\n",
            "625/625 [==============================] - 33s 53ms/step - loss: 4.3902 - accuracy: 0.8181 - val_loss: 4.6978 - val_accuracy: 0.7193\n",
            "Epoch 58/120\n",
            "625/625 [==============================] - 33s 53ms/step - loss: 4.3068 - accuracy: 0.8200 - val_loss: 4.6550 - val_accuracy: 0.7161\n",
            "Epoch 59/120\n",
            "625/625 [==============================] - 33s 53ms/step - loss: 4.2277 - accuracy: 0.8253 - val_loss: 4.5646 - val_accuracy: 0.7163\n",
            "Epoch 60/120\n",
            "625/625 [==============================] - 33s 53ms/step - loss: 4.1500 - accuracy: 0.8297 - val_loss: 4.5733 - val_accuracy: 0.7156\n",
            "Epoch 61/120\n",
            "625/625 [==============================] - 34s 54ms/step - loss: 4.0815 - accuracy: 0.8281 - val_loss: 4.4747 - val_accuracy: 0.7143\n",
            "Epoch 62/120\n",
            "625/625 [==============================] - 33s 53ms/step - loss: 4.0021 - accuracy: 0.8344 - val_loss: 4.3912 - val_accuracy: 0.7192\n",
            "Epoch 63/120\n",
            "625/625 [==============================] - 33s 53ms/step - loss: 3.9415 - accuracy: 0.8346 - val_loss: 4.3065 - val_accuracy: 0.7272\n",
            "Epoch 64/120\n",
            "625/625 [==============================] - 34s 54ms/step - loss: 3.8704 - accuracy: 0.8389 - val_loss: 4.2360 - val_accuracy: 0.7339\n",
            "Epoch 65/120\n",
            "625/625 [==============================] - 33s 53ms/step - loss: 3.8042 - accuracy: 0.8411 - val_loss: 4.2266 - val_accuracy: 0.7225\n",
            "Epoch 66/120\n",
            "625/625 [==============================] - 33s 53ms/step - loss: 3.7510 - accuracy: 0.8412 - val_loss: 4.2161 - val_accuracy: 0.7193\n",
            "Epoch 67/120\n",
            "625/625 [==============================] - 33s 53ms/step - loss: 3.6878 - accuracy: 0.8445 - val_loss: 4.1482 - val_accuracy: 0.7235\n",
            "Epoch 68/120\n",
            "625/625 [==============================] - 33s 53ms/step - loss: 3.6337 - accuracy: 0.8456 - val_loss: 3.9850 - val_accuracy: 0.7380\n",
            "Epoch 69/120\n",
            "625/625 [==============================] - 34s 54ms/step - loss: 3.5734 - accuracy: 0.8485 - val_loss: 4.1614 - val_accuracy: 0.7070\n",
            "Epoch 70/120\n",
            "625/625 [==============================] - 33s 54ms/step - loss: 3.5232 - accuracy: 0.8495 - val_loss: 4.0064 - val_accuracy: 0.7184\n",
            "Epoch 71/120\n",
            "625/625 [==============================] - 34s 54ms/step - loss: 3.4712 - accuracy: 0.8516 - val_loss: 3.8866 - val_accuracy: 0.7330\n",
            "Epoch 72/120\n",
            "625/625 [==============================] - 34s 54ms/step - loss: 3.4154 - accuracy: 0.8543 - val_loss: 3.8310 - val_accuracy: 0.7340\n",
            "Epoch 73/120\n",
            "625/625 [==============================] - 34s 54ms/step - loss: 3.3623 - accuracy: 0.8575 - val_loss: 3.9466 - val_accuracy: 0.7222\n",
            "Epoch 74/120\n",
            "625/625 [==============================] - 34s 54ms/step - loss: 3.3123 - accuracy: 0.8602 - val_loss: 3.7493 - val_accuracy: 0.7400\n",
            "Epoch 75/120\n",
            "625/625 [==============================] - 34s 54ms/step - loss: 3.2693 - accuracy: 0.8617 - val_loss: 3.7279 - val_accuracy: 0.7299\n",
            "Epoch 76/120\n",
            "625/625 [==============================] - 34s 55ms/step - loss: 3.2253 - accuracy: 0.8621 - val_loss: 3.7182 - val_accuracy: 0.7286\n",
            "Epoch 77/120\n",
            "625/625 [==============================] - 34s 55ms/step - loss: 3.1774 - accuracy: 0.8663 - val_loss: 3.7243 - val_accuracy: 0.7251\n",
            "Epoch 78/120\n",
            "625/625 [==============================] - 35s 56ms/step - loss: 3.1354 - accuracy: 0.8700 - val_loss: 3.6495 - val_accuracy: 0.7299\n",
            "Epoch 79/120\n",
            "625/625 [==============================] - 35s 55ms/step - loss: 3.0922 - accuracy: 0.8691 - val_loss: 3.5700 - val_accuracy: 0.7411\n",
            "Epoch 80/120\n",
            "625/625 [==============================] - 35s 55ms/step - loss: 3.0539 - accuracy: 0.8734 - val_loss: 3.5791 - val_accuracy: 0.7332\n",
            "Epoch 81/120\n",
            "625/625 [==============================] - 35s 56ms/step - loss: 3.0083 - accuracy: 0.8747 - val_loss: 3.5499 - val_accuracy: 0.7282\n",
            "Epoch 82/120\n",
            "625/625 [==============================] - 35s 56ms/step - loss: 2.9810 - accuracy: 0.8756 - val_loss: 3.5353 - val_accuracy: 0.7277\n",
            "Epoch 83/120\n",
            "625/625 [==============================] - 35s 56ms/step - loss: 2.9380 - accuracy: 0.8775 - val_loss: 3.4853 - val_accuracy: 0.7282\n",
            "Epoch 84/120\n",
            "625/625 [==============================] - 35s 55ms/step - loss: 2.8999 - accuracy: 0.8795 - val_loss: 3.4851 - val_accuracy: 0.7258\n",
            "Epoch 85/120\n",
            "625/625 [==============================] - 35s 55ms/step - loss: 2.8659 - accuracy: 0.8802 - val_loss: 3.3739 - val_accuracy: 0.7397\n",
            "Epoch 86/120\n",
            "625/625 [==============================] - 35s 56ms/step - loss: 2.8307 - accuracy: 0.8817 - val_loss: 3.3465 - val_accuracy: 0.7450\n",
            "Epoch 87/120\n",
            "625/625 [==============================] - 35s 56ms/step - loss: 2.7983 - accuracy: 0.8833 - val_loss: 3.3067 - val_accuracy: 0.7423\n",
            "Epoch 88/120\n",
            "625/625 [==============================] - 35s 56ms/step - loss: 2.7660 - accuracy: 0.8849 - val_loss: 3.3659 - val_accuracy: 0.7309\n",
            "Epoch 89/120\n",
            "625/625 [==============================] - 35s 55ms/step - loss: 2.7271 - accuracy: 0.8891 - val_loss: 3.2882 - val_accuracy: 0.7427\n",
            "Epoch 90/120\n",
            "625/625 [==============================] - 35s 56ms/step - loss: 2.6989 - accuracy: 0.8895 - val_loss: 3.2799 - val_accuracy: 0.7383\n",
            "Epoch 91/120\n",
            "625/625 [==============================] - 35s 56ms/step - loss: 2.6686 - accuracy: 0.8913 - val_loss: 3.2670 - val_accuracy: 0.7418\n",
            "Epoch 92/120\n",
            "625/625 [==============================] - 35s 56ms/step - loss: 2.6401 - accuracy: 0.8919 - val_loss: 3.2069 - val_accuracy: 0.7430\n",
            "Epoch 93/120\n",
            "625/625 [==============================] - 35s 56ms/step - loss: 2.6090 - accuracy: 0.8957 - val_loss: 3.2036 - val_accuracy: 0.7432\n",
            "Epoch 94/120\n",
            "625/625 [==============================] - 35s 56ms/step - loss: 2.5842 - accuracy: 0.8931 - val_loss: 3.1439 - val_accuracy: 0.7511\n",
            "Epoch 95/120\n",
            "625/625 [==============================] - 35s 56ms/step - loss: 2.5577 - accuracy: 0.8972 - val_loss: 3.2274 - val_accuracy: 0.7277\n",
            "Epoch 96/120\n",
            "625/625 [==============================] - 35s 56ms/step - loss: 2.5340 - accuracy: 0.8964 - val_loss: 3.5637 - val_accuracy: 0.7122\n",
            "Epoch 97/120\n",
            "625/625 [==============================] - 35s 56ms/step - loss: 2.4998 - accuracy: 0.8997 - val_loss: 3.1258 - val_accuracy: 0.7402\n",
            "Epoch 98/120\n",
            "625/625 [==============================] - 35s 56ms/step - loss: 2.4761 - accuracy: 0.9018 - val_loss: 3.1635 - val_accuracy: 0.7462\n",
            "Epoch 99/120\n",
            "625/625 [==============================] - 35s 56ms/step - loss: 2.4432 - accuracy: 0.9062 - val_loss: 3.0391 - val_accuracy: 0.7531\n",
            "Epoch 100/120\n",
            "625/625 [==============================] - 35s 56ms/step - loss: 2.4313 - accuracy: 0.9029 - val_loss: 3.0378 - val_accuracy: 0.7463\n",
            "Epoch 101/120\n",
            "625/625 [==============================] - 35s 56ms/step - loss: 2.4055 - accuracy: 0.9042 - val_loss: 3.1315 - val_accuracy: 0.7330\n",
            "Epoch 102/120\n",
            "625/625 [==============================] - 35s 56ms/step - loss: 2.3803 - accuracy: 0.9076 - val_loss: 2.9906 - val_accuracy: 0.7499\n",
            "Epoch 103/120\n",
            "625/625 [==============================] - 35s 56ms/step - loss: 2.3579 - accuracy: 0.9065 - val_loss: 3.0005 - val_accuracy: 0.7443\n",
            "Epoch 104/120\n",
            "625/625 [==============================] - 35s 56ms/step - loss: 2.3342 - accuracy: 0.9096 - val_loss: 3.1644 - val_accuracy: 0.7165\n",
            "Epoch 105/120\n",
            "625/625 [==============================] - 35s 56ms/step - loss: 2.3162 - accuracy: 0.9100 - val_loss: 3.0802 - val_accuracy: 0.7326\n",
            "Epoch 106/120\n",
            "625/625 [==============================] - 35s 56ms/step - loss: 2.2922 - accuracy: 0.9105 - val_loss: 2.9331 - val_accuracy: 0.7507\n",
            "Epoch 107/120\n",
            "625/625 [==============================] - 35s 56ms/step - loss: 2.2717 - accuracy: 0.9116 - val_loss: 3.0193 - val_accuracy: 0.7362\n",
            "Epoch 108/120\n",
            "625/625 [==============================] - 35s 56ms/step - loss: 2.2546 - accuracy: 0.9111 - val_loss: 2.9460 - val_accuracy: 0.7413\n",
            "Epoch 109/120\n",
            "625/625 [==============================] - 35s 56ms/step - loss: 2.2365 - accuracy: 0.9127 - val_loss: 2.9731 - val_accuracy: 0.7336\n",
            "Epoch 110/120\n",
            "625/625 [==============================] - 35s 56ms/step - loss: 2.2104 - accuracy: 0.9169 - val_loss: 2.9191 - val_accuracy: 0.7463\n",
            "Epoch 111/120\n",
            "625/625 [==============================] - 35s 56ms/step - loss: 2.1925 - accuracy: 0.9170 - val_loss: 2.9214 - val_accuracy: 0.7347\n",
            "Epoch 112/120\n",
            "625/625 [==============================] - 35s 56ms/step - loss: 2.1770 - accuracy: 0.9178 - val_loss: 2.8338 - val_accuracy: 0.7506\n",
            "Epoch 113/120\n",
            "625/625 [==============================] - 35s 56ms/step - loss: 2.1572 - accuracy: 0.9183 - val_loss: 2.9527 - val_accuracy: 0.7396\n",
            "Epoch 114/120\n",
            "625/625 [==============================] - 35s 57ms/step - loss: 2.1415 - accuracy: 0.9201 - val_loss: 2.8152 - val_accuracy: 0.7557\n",
            "Epoch 115/120\n",
            "625/625 [==============================] - 35s 57ms/step - loss: 2.1273 - accuracy: 0.9190 - val_loss: 2.8335 - val_accuracy: 0.7470\n",
            "Epoch 116/120\n",
            "625/625 [==============================] - 35s 57ms/step - loss: 2.1103 - accuracy: 0.9188 - val_loss: 2.9270 - val_accuracy: 0.7483\n",
            "Epoch 117/120\n",
            "625/625 [==============================] - 35s 57ms/step - loss: 2.0860 - accuracy: 0.9233 - val_loss: 2.8412 - val_accuracy: 0.7455\n",
            "Epoch 118/120\n",
            "625/625 [==============================] - 35s 56ms/step - loss: 2.0767 - accuracy: 0.9232 - val_loss: 2.7994 - val_accuracy: 0.7521\n",
            "Epoch 119/120\n",
            "625/625 [==============================] - 35s 56ms/step - loss: 2.0601 - accuracy: 0.9241 - val_loss: 2.8017 - val_accuracy: 0.7421\n",
            "Epoch 120/120\n",
            "625/625 [==============================] - 35s 56ms/step - loss: 2.0453 - accuracy: 0.9233 - val_loss: 2.7411 - val_accuracy: 0.7556\n"
          ],
          "name": "stdout"
        }
      ]
    },
    {
      "cell_type": "code",
      "metadata": {
        "id": "Wra3p-DXGR2j",
        "colab_type": "code",
        "colab": {}
      },
      "source": [
        "resnet50_model.save('resnet50_model_ada.h5')"
      ],
      "execution_count": 187,
      "outputs": []
    },
    {
      "cell_type": "code",
      "metadata": {
        "id": "jbjvMvj_GSGy",
        "colab_type": "code",
        "colab": {
          "base_uri": "https://localhost:8080/",
          "height": 368
        },
        "outputId": "452fb8d6-3d36-44e4-cff8-f30bb6dcc9fd"
      },
      "source": [
        "# Plot train and validation curves\n",
        "loss = history.history['loss']\n",
        "v_loss = history.history['val_loss']\n",
        "\n",
        "acc = history.history['accuracy']\n",
        "v_acc = history.history['val_accuracy']\n",
        "\n",
        "epochs = range(len(loss))\n",
        "\n",
        "fig = plt.figure(figsize=(9, 5))\n",
        "plt.subplot(1, 2, 1)\n",
        "plt.yscale('log')\n",
        "plt.plot(epochs, loss, linestyle='--', linewidth=3, color='orange', alpha=0.7, label='Train Loss')\n",
        "plt.plot(epochs, v_loss, linestyle='-.', linewidth=2, color='lime', alpha=0.8, label='Valid Loss')\n",
        "plt.ylim(0.3, 100)\n",
        "plt.xlabel('Epochs', fontsize=11)\n",
        "plt.ylabel('Loss', fontsize=12)\n",
        "plt.legend(fontsize=12)\n",
        "plt.subplot(1, 2, 2)\n",
        "plt.plot(epochs, acc, linestyle='--', linewidth=3, color='orange', alpha=0.7, label='Train Acc')\n",
        "plt.plot(epochs, v_acc, linestyle='-.', linewidth=2, color='lime', alpha=0.8, label='Valid Acc') \n",
        "plt.xlabel('Epochs', fontsize=11)\n",
        "plt.ylabel('Accuracy', fontsize=12)\n",
        "plt.legend(fontsize=12)\n",
        "plt.tight_layout()\n",
        "plt.savefig('/content/drive/My Drive/Colab Notebooks/IDL course OvGU/accuracy_ada_res.png', dpi=250)\n",
        "plt.show()"
      ],
      "execution_count": 188,
      "outputs": [
        {
          "output_type": "display_data",
          "data": {
            "image/png": "[encoded data removed]",
            "text/plain": [
              "<Figure size 648x360 with 2 Axes>"
            ]
          },
          "metadata": {
            "tags": [],
            "needs_background": "light"
          }
        }
      ]
    },
    {
      "cell_type": "code",
      "metadata": {
        "id": "YHyPVix6GSWN",
        "colab_type": "code",
        "colab": {
          "base_uri": "https://localhost:8080/",
          "height": 52
        },
        "outputId": "2734b660-72a1-46d3-8e20-ec0b069c67ab"
      },
      "source": [
        "# Checking the performance on the test data \n",
        "test_result = resnet50_model.evaluate(test_images, test_lab_categorical, verbose=0)\n",
        "\n",
        "print (\"ResNet50 loss: \", test_result[0])\n",
        "print (\"ResNet50 accuracy: \", test_result[1])"
      ],
      "execution_count": 189,
      "outputs": [
        {
          "output_type": "stream",
          "text": [
            "ResNet50 loss:  2.8227338790893555\n",
            "ResNet50 accuracy:  0.7444000244140625\n"
          ],
          "name": "stdout"
        }
      ]
    },
    {
      "cell_type": "markdown",
      "metadata": {
        "id": "7zACkr9ft4dz",
        "colab_type": "text"
      },
      "source": [
        "### RMSprop optimizer"
      ]
    },
    {
      "cell_type": "code",
      "metadata": {
        "id": "JJ7INY9EaO-9",
        "colab_type": "code",
        "colab": {
          "base_uri": "https://localhost:8080/",
          "height": 1000
        },
        "outputId": "1a51aa83-6c6e-4193-815c-4175c9e789ce"
      },
      "source": [
        "learning_rate = 0.005\n",
        "rmsprop = optimizers.RMSprop(lr=learning_rate)\n",
        "resnet50_model.compile(optimizer=rmsprop, loss= 'categorical_crossentropy',metrics = ['accuracy'])\n",
        "\n",
        "history = resnet50_model.fit(train_set_conv, epochs=120, steps_per_epoch=train_img.shape[0]/batch_size, \n",
        "                                  validation_steps=valid_img.shape[0]/batch_size, validation_data=valid_set_conv)"
      ],
      "execution_count": 198,
      "outputs": [
        {
          "output_type": "stream",
          "text": [
            "Epoch 1/120\n",
            "625/625 [==============================] - 42s 68ms/step - loss: 10.8492 - accuracy: 0.1187 - val_loss: 17.1677 - val_accuracy: 0.1041\n",
            "Epoch 2/120\n",
            "625/625 [==============================] - 41s 65ms/step - loss: 6.6622 - accuracy: 0.1330 - val_loss: 5.0929 - val_accuracy: 0.1006\n",
            "Epoch 3/120\n",
            "625/625 [==============================] - 40s 65ms/step - loss: 5.0805 - accuracy: 0.1255 - val_loss: 10.5414 - val_accuracy: 0.1000\n",
            "Epoch 4/120\n",
            "625/625 [==============================] - 40s 65ms/step - loss: 3.7514 - accuracy: 0.1413 - val_loss: 2.9757 - val_accuracy: 0.1218\n",
            "Epoch 5/120\n",
            "625/625 [==============================] - 40s 65ms/step - loss: 3.1814 - accuracy: 0.1726 - val_loss: 7.5131 - val_accuracy: 0.1000\n",
            "Epoch 6/120\n",
            "625/625 [==============================] - 41s 65ms/step - loss: 2.7278 - accuracy: 0.2097 - val_loss: 2.5186 - val_accuracy: 0.2047\n",
            "Epoch 7/120\n",
            "625/625 [==============================] - 40s 65ms/step - loss: 2.4218 - accuracy: 0.2812 - val_loss: 2.9013 - val_accuracy: 0.2712\n",
            "Epoch 8/120\n",
            "625/625 [==============================] - 40s 65ms/step - loss: 2.2132 - accuracy: 0.3325 - val_loss: 4.6551 - val_accuracy: 0.2205\n",
            "Epoch 9/120\n",
            "625/625 [==============================] - 41s 65ms/step - loss: 2.0949 - accuracy: 0.3591 - val_loss: 22.4480 - val_accuracy: 0.1011\n",
            "Epoch 10/120\n",
            "625/625 [==============================] - 40s 65ms/step - loss: 2.0123 - accuracy: 0.3944 - val_loss: 5.0663 - val_accuracy: 0.1811\n",
            "Epoch 11/120\n",
            "625/625 [==============================] - 40s 65ms/step - loss: 1.9330 - accuracy: 0.4274 - val_loss: 35.8309 - val_accuracy: 0.1007\n",
            "Epoch 12/120\n",
            "625/625 [==============================] - 40s 65ms/step - loss: 1.8828 - accuracy: 0.4525 - val_loss: 6.7015 - val_accuracy: 0.3019\n",
            "Epoch 13/120\n",
            "625/625 [==============================] - 40s 65ms/step - loss: 1.8409 - accuracy: 0.4676 - val_loss: 9.9986 - val_accuracy: 0.2012\n",
            "Epoch 14/120\n",
            "625/625 [==============================] - 40s 64ms/step - loss: 1.8185 - accuracy: 0.4785 - val_loss: 15.5346 - val_accuracy: 0.1037\n",
            "Epoch 15/120\n",
            "625/625 [==============================] - 40s 64ms/step - loss: 1.8021 - accuracy: 0.4922 - val_loss: 5.0822 - val_accuracy: 0.2643\n",
            "Epoch 16/120\n",
            "625/625 [==============================] - 40s 64ms/step - loss: 1.7995 - accuracy: 0.4967 - val_loss: 4.8046 - val_accuracy: 0.3393\n",
            "Epoch 17/120\n",
            "625/625 [==============================] - 40s 64ms/step - loss: 1.7675 - accuracy: 0.5109 - val_loss: 9.4434 - val_accuracy: 0.1775\n",
            "Epoch 18/120\n",
            "625/625 [==============================] - 40s 64ms/step - loss: 1.7676 - accuracy: 0.5168 - val_loss: 8.8492 - val_accuracy: 0.2094\n",
            "Epoch 19/120\n",
            "625/625 [==============================] - 40s 63ms/step - loss: 1.7438 - accuracy: 0.5253 - val_loss: 35.2942 - val_accuracy: 0.1886\n",
            "Epoch 20/120\n",
            "625/625 [==============================] - 39s 63ms/step - loss: 1.7360 - accuracy: 0.5302 - val_loss: 53.2813 - val_accuracy: 0.1000\n",
            "Epoch 21/120\n",
            "625/625 [==============================] - 39s 63ms/step - loss: 1.7345 - accuracy: 0.5354 - val_loss: 5.5177 - val_accuracy: 0.2372\n",
            "Epoch 22/120\n",
            "625/625 [==============================] - 39s 63ms/step - loss: 1.7239 - accuracy: 0.5329 - val_loss: 15.3683 - val_accuracy: 0.1752\n",
            "Epoch 23/120\n",
            "625/625 [==============================] - 39s 62ms/step - loss: 1.7225 - accuracy: 0.5389 - val_loss: 54.3820 - val_accuracy: 0.1000\n",
            "Epoch 24/120\n",
            "625/625 [==============================] - 39s 63ms/step - loss: 1.7108 - accuracy: 0.5444 - val_loss: 7.4392 - val_accuracy: 0.2126\n",
            "Epoch 25/120\n",
            "625/625 [==============================] - 39s 63ms/step - loss: 1.7018 - accuracy: 0.5441 - val_loss: 7.4052 - val_accuracy: 0.3080\n",
            "Epoch 26/120\n",
            "625/625 [==============================] - 39s 62ms/step - loss: 1.7005 - accuracy: 0.5466 - val_loss: 26.5612 - val_accuracy: 0.1898\n",
            "Epoch 27/120\n",
            "625/625 [==============================] - 39s 62ms/step - loss: 1.6919 - accuracy: 0.5502 - val_loss: 9.9250 - val_accuracy: 0.2141\n",
            "Epoch 28/120\n",
            "625/625 [==============================] - 39s 62ms/step - loss: 1.6869 - accuracy: 0.5495 - val_loss: 4.0520 - val_accuracy: 0.2635\n",
            "Epoch 29/120\n",
            "625/625 [==============================] - 39s 62ms/step - loss: 1.6815 - accuracy: 0.5534 - val_loss: 15.0701 - val_accuracy: 0.1889\n",
            "Epoch 30/120\n",
            "625/625 [==============================] - 39s 62ms/step - loss: 1.6875 - accuracy: 0.5523 - val_loss: 103.0287 - val_accuracy: 0.1000\n",
            "Epoch 31/120\n",
            "625/625 [==============================] - 39s 62ms/step - loss: 1.6790 - accuracy: 0.5565 - val_loss: 36.9503 - val_accuracy: 0.1470\n",
            "Epoch 32/120\n",
            "625/625 [==============================] - 39s 63ms/step - loss: 1.6741 - accuracy: 0.5617 - val_loss: 5.8241 - val_accuracy: 0.3807\n",
            "Epoch 33/120\n",
            "625/625 [==============================] - 39s 63ms/step - loss: 1.6747 - accuracy: 0.5611 - val_loss: 7.1704 - val_accuracy: 0.2894\n",
            "Epoch 34/120\n",
            "625/625 [==============================] - 39s 62ms/step - loss: 1.6677 - accuracy: 0.5628 - val_loss: 10.5847 - val_accuracy: 0.3742\n",
            "Epoch 35/120\n",
            "625/625 [==============================] - 39s 63ms/step - loss: 1.6664 - accuracy: 0.5659 - val_loss: 4.2913 - val_accuracy: 0.3796\n",
            "Epoch 36/120\n",
            "625/625 [==============================] - 39s 63ms/step - loss: 1.6690 - accuracy: 0.5634 - val_loss: 11.6066 - val_accuracy: 0.2481\n",
            "Epoch 37/120\n",
            "625/625 [==============================] - 39s 63ms/step - loss: 1.6658 - accuracy: 0.5639 - val_loss: 14.6269 - val_accuracy: 0.2004\n",
            "Epoch 38/120\n",
            "625/625 [==============================] - 39s 62ms/step - loss: 1.6516 - accuracy: 0.5691 - val_loss: 11.7259 - val_accuracy: 0.1568\n",
            "Epoch 39/120\n",
            "625/625 [==============================] - 39s 62ms/step - loss: 1.6637 - accuracy: 0.5665 - val_loss: 25.0341 - val_accuracy: 0.2230\n",
            "Epoch 40/120\n",
            "625/625 [==============================] - 39s 62ms/step - loss: 1.6612 - accuracy: 0.5687 - val_loss: 14.1847 - val_accuracy: 0.1792\n",
            "Epoch 41/120\n",
            "625/625 [==============================] - 39s 62ms/step - loss: 1.6583 - accuracy: 0.5687 - val_loss: 22.4888 - val_accuracy: 0.1477\n",
            "Epoch 42/120\n",
            "625/625 [==============================] - 39s 63ms/step - loss: 1.6477 - accuracy: 0.5746 - val_loss: 7.9395 - val_accuracy: 0.2435\n",
            "Epoch 43/120\n",
            "625/625 [==============================] - 39s 62ms/step - loss: 1.6501 - accuracy: 0.5775 - val_loss: 15.3046 - val_accuracy: 0.2929\n",
            "Epoch 44/120\n",
            "625/625 [==============================] - 39s 62ms/step - loss: 1.6482 - accuracy: 0.5782 - val_loss: 21.2320 - val_accuracy: 0.2460\n",
            "Epoch 45/120\n",
            "625/625 [==============================] - 39s 62ms/step - loss: 1.6445 - accuracy: 0.5752 - val_loss: 7.9930 - val_accuracy: 0.3189\n",
            "Epoch 46/120\n",
            "625/625 [==============================] - 39s 63ms/step - loss: 1.6388 - accuracy: 0.5761 - val_loss: 13.0526 - val_accuracy: 0.1624\n",
            "Epoch 47/120\n",
            "625/625 [==============================] - 39s 62ms/step - loss: 1.6281 - accuracy: 0.5796 - val_loss: 13.6771 - val_accuracy: 0.1186\n",
            "Epoch 48/120\n",
            "625/625 [==============================] - 39s 63ms/step - loss: 1.6339 - accuracy: 0.5793 - val_loss: 43.4761 - val_accuracy: 0.1950\n",
            "Epoch 49/120\n",
            "625/625 [==============================] - 39s 63ms/step - loss: 1.6296 - accuracy: 0.5804 - val_loss: 6.8407 - val_accuracy: 0.2562\n",
            "Epoch 50/120\n",
            "625/625 [==============================] - 39s 62ms/step - loss: 1.6341 - accuracy: 0.5815 - val_loss: 1.9488 - val_accuracy: 0.4691\n",
            "Epoch 51/120\n",
            "625/625 [==============================] - 39s 62ms/step - loss: 1.6201 - accuracy: 0.5823 - val_loss: 7.7676 - val_accuracy: 0.3899\n",
            "Epoch 52/120\n",
            "625/625 [==============================] - 39s 62ms/step - loss: 1.6178 - accuracy: 0.5817 - val_loss: 4.0653 - val_accuracy: 0.3625\n",
            "Epoch 53/120\n",
            "625/625 [==============================] - 39s 62ms/step - loss: 1.6340 - accuracy: 0.5803 - val_loss: 10.7818 - val_accuracy: 0.2233\n",
            "Epoch 54/120\n",
            "625/625 [==============================] - 39s 62ms/step - loss: 1.6264 - accuracy: 0.5795 - val_loss: 19.8758 - val_accuracy: 0.2742\n",
            "Epoch 55/120\n",
            "625/625 [==============================] - 39s 62ms/step - loss: 1.6264 - accuracy: 0.5813 - val_loss: 4.1243 - val_accuracy: 0.4051\n",
            "Epoch 56/120\n",
            "625/625 [==============================] - 39s 62ms/step - loss: 1.6199 - accuracy: 0.5795 - val_loss: 162.8141 - val_accuracy: 0.1014\n",
            "Epoch 57/120\n",
            "625/625 [==============================] - 39s 62ms/step - loss: 1.6121 - accuracy: 0.5840 - val_loss: 49.1971 - val_accuracy: 0.1922\n",
            "Epoch 58/120\n",
            "625/625 [==============================] - 39s 62ms/step - loss: 1.6128 - accuracy: 0.5853 - val_loss: 12.8631 - val_accuracy: 0.2520\n",
            "Epoch 59/120\n",
            "625/625 [==============================] - 39s 62ms/step - loss: 1.6136 - accuracy: 0.5870 - val_loss: 107.8387 - val_accuracy: 0.1351\n",
            "Epoch 60/120\n",
            "625/625 [==============================] - 39s 62ms/step - loss: 1.6182 - accuracy: 0.5868 - val_loss: 6.2976 - val_accuracy: 0.2978\n",
            "Epoch 61/120\n",
            "625/625 [==============================] - 39s 62ms/step - loss: 1.6131 - accuracy: 0.5875 - val_loss: 3.8281 - val_accuracy: 0.3952\n",
            "Epoch 62/120\n",
            "625/625 [==============================] - 39s 62ms/step - loss: 1.6153 - accuracy: 0.5847 - val_loss: 17.5067 - val_accuracy: 0.1855\n",
            "Epoch 63/120\n",
            "625/625 [==============================] - 39s 62ms/step - loss: 1.6078 - accuracy: 0.5862 - val_loss: 8.7618 - val_accuracy: 0.3433\n",
            "Epoch 64/120\n",
            "625/625 [==============================] - 39s 62ms/step - loss: 1.6239 - accuracy: 0.5840 - val_loss: 2.4923 - val_accuracy: 0.4500\n",
            "Epoch 65/120\n",
            "625/625 [==============================] - 39s 62ms/step - loss: 1.6130 - accuracy: 0.5882 - val_loss: 5.2770 - val_accuracy: 0.3621\n",
            "Epoch 66/120\n",
            "625/625 [==============================] - 39s 62ms/step - loss: 1.5983 - accuracy: 0.5886 - val_loss: 4.3440 - val_accuracy: 0.3004\n",
            "Epoch 67/120\n",
            "625/625 [==============================] - 39s 62ms/step - loss: 1.6127 - accuracy: 0.5861 - val_loss: 7.0094 - val_accuracy: 0.2057\n",
            "Epoch 68/120\n",
            "625/625 [==============================] - 39s 62ms/step - loss: 1.6083 - accuracy: 0.5871 - val_loss: 13.9740 - val_accuracy: 0.1787\n",
            "Epoch 69/120\n",
            "625/625 [==============================] - 39s 62ms/step - loss: 1.5908 - accuracy: 0.5900 - val_loss: 15.8566 - val_accuracy: 0.2385\n",
            "Epoch 70/120\n",
            "625/625 [==============================] - 39s 63ms/step - loss: 1.6056 - accuracy: 0.5861 - val_loss: 6.5695 - val_accuracy: 0.2806\n",
            "Epoch 71/120\n",
            "625/625 [==============================] - 39s 62ms/step - loss: 1.6036 - accuracy: 0.5908 - val_loss: 10.3944 - val_accuracy: 0.2940\n",
            "Epoch 72/120\n",
            "625/625 [==============================] - 39s 63ms/step - loss: 1.6095 - accuracy: 0.5891 - val_loss: 8.4496 - val_accuracy: 0.2524\n",
            "Epoch 73/120\n",
            "625/625 [==============================] - 39s 63ms/step - loss: 1.5944 - accuracy: 0.5899 - val_loss: 4.3293 - val_accuracy: 0.3599\n",
            "Epoch 74/120\n",
            "625/625 [==============================] - 39s 63ms/step - loss: 1.6015 - accuracy: 0.5906 - val_loss: 4.1605 - val_accuracy: 0.3081\n",
            "Epoch 75/120\n",
            "625/625 [==============================] - 39s 62ms/step - loss: 1.6025 - accuracy: 0.5919 - val_loss: 11.0007 - val_accuracy: 0.2740\n",
            "Epoch 76/120\n",
            "625/625 [==============================] - 39s 63ms/step - loss: 1.5853 - accuracy: 0.5911 - val_loss: 80.2406 - val_accuracy: 0.1057\n",
            "Epoch 77/120\n",
            "625/625 [==============================] - 39s 62ms/step - loss: 1.5973 - accuracy: 0.5941 - val_loss: 17.0678 - val_accuracy: 0.2281\n",
            "Epoch 78/120\n",
            "625/625 [==============================] - 39s 63ms/step - loss: 1.5973 - accuracy: 0.5916 - val_loss: 57.3279 - val_accuracy: 0.1467\n",
            "Epoch 79/120\n",
            "625/625 [==============================] - 39s 62ms/step - loss: 1.5803 - accuracy: 0.5929 - val_loss: 7.9585 - val_accuracy: 0.2895\n",
            "Epoch 80/120\n",
            "625/625 [==============================] - 39s 62ms/step - loss: 1.5781 - accuracy: 0.5953 - val_loss: 4.9751 - val_accuracy: 0.2913\n",
            "Epoch 81/120\n",
            "625/625 [==============================] - 39s 62ms/step - loss: 1.5698 - accuracy: 0.5925 - val_loss: 20.6452 - val_accuracy: 0.1131\n",
            "Epoch 82/120\n",
            "625/625 [==============================] - 39s 63ms/step - loss: 1.5961 - accuracy: 0.5908 - val_loss: 18.2050 - val_accuracy: 0.1463\n",
            "Epoch 83/120\n",
            "625/625 [==============================] - 39s 62ms/step - loss: 1.5943 - accuracy: 0.5957 - val_loss: 8.3292 - val_accuracy: 0.3212\n",
            "Epoch 84/120\n",
            "625/625 [==============================] - 39s 62ms/step - loss: 1.5899 - accuracy: 0.5948 - val_loss: 19.0638 - val_accuracy: 0.1974\n",
            "Epoch 85/120\n",
            "625/625 [==============================] - 39s 62ms/step - loss: 1.5965 - accuracy: 0.5924 - val_loss: 89.5653 - val_accuracy: 0.1083\n",
            "Epoch 86/120\n",
            "625/625 [==============================] - 39s 62ms/step - loss: 1.5869 - accuracy: 0.5966 - val_loss: 23.9440 - val_accuracy: 0.1802\n",
            "Epoch 87/120\n",
            "625/625 [==============================] - 39s 62ms/step - loss: 1.6068 - accuracy: 0.5927 - val_loss: 15.5689 - val_accuracy: 0.2754\n",
            "Epoch 88/120\n",
            "625/625 [==============================] - 39s 62ms/step - loss: 1.5862 - accuracy: 0.5985 - val_loss: 10.3021 - val_accuracy: 0.2016\n",
            "Epoch 89/120\n",
            "625/625 [==============================] - 39s 62ms/step - loss: 1.5906 - accuracy: 0.5947 - val_loss: 2.1030 - val_accuracy: 0.4652\n",
            "Epoch 90/120\n",
            "625/625 [==============================] - 39s 62ms/step - loss: 1.6058 - accuracy: 0.5924 - val_loss: 53.8782 - val_accuracy: 0.1093\n",
            "Epoch 91/120\n",
            "625/625 [==============================] - 39s 62ms/step - loss: 1.5998 - accuracy: 0.5973 - val_loss: 25.4111 - val_accuracy: 0.2616\n",
            "Epoch 92/120\n",
            "625/625 [==============================] - 39s 62ms/step - loss: 1.6054 - accuracy: 0.5971 - val_loss: 17.6474 - val_accuracy: 0.2227\n",
            "Epoch 93/120\n",
            "625/625 [==============================] - 39s 62ms/step - loss: 1.5841 - accuracy: 0.5980 - val_loss: 18.8317 - val_accuracy: 0.2594\n",
            "Epoch 94/120\n",
            "625/625 [==============================] - 39s 62ms/step - loss: 1.5809 - accuracy: 0.5970 - val_loss: 14.0778 - val_accuracy: 0.2730\n",
            "Epoch 95/120\n",
            "625/625 [==============================] - 39s 62ms/step - loss: 1.5837 - accuracy: 0.5959 - val_loss: 52.1244 - val_accuracy: 0.1357\n",
            "Epoch 96/120\n",
            "625/625 [==============================] - 39s 62ms/step - loss: 1.6019 - accuracy: 0.5944 - val_loss: 15.1421 - val_accuracy: 0.1648\n",
            "Epoch 97/120\n",
            "625/625 [==============================] - 39s 62ms/step - loss: 1.5707 - accuracy: 0.5957 - val_loss: 6.7103 - val_accuracy: 0.2883\n",
            "Epoch 98/120\n",
            "625/625 [==============================] - 39s 62ms/step - loss: 1.5761 - accuracy: 0.5977 - val_loss: 22.3332 - val_accuracy: 0.2784\n",
            "Epoch 99/120\n",
            "625/625 [==============================] - 39s 62ms/step - loss: 1.5893 - accuracy: 0.5997 - val_loss: 15.1700 - val_accuracy: 0.2095\n",
            "Epoch 100/120\n",
            "625/625 [==============================] - 39s 62ms/step - loss: 1.5799 - accuracy: 0.5989 - val_loss: 14.3995 - val_accuracy: 0.2146\n",
            "Epoch 101/120\n",
            "625/625 [==============================] - 39s 62ms/step - loss: 1.5660 - accuracy: 0.5977 - val_loss: 8.1915 - val_accuracy: 0.2475\n",
            "Epoch 102/120\n",
            "625/625 [==============================] - 39s 62ms/step - loss: 1.5845 - accuracy: 0.5983 - val_loss: 6.0081 - val_accuracy: 0.3105\n",
            "Epoch 103/120\n",
            "625/625 [==============================] - 39s 62ms/step - loss: 1.5643 - accuracy: 0.5993 - val_loss: 20.1087 - val_accuracy: 0.1433\n",
            "Epoch 104/120\n",
            "625/625 [==============================] - 39s 62ms/step - loss: 1.5835 - accuracy: 0.5995 - val_loss: 10.0253 - val_accuracy: 0.2806\n",
            "Epoch 105/120\n",
            "625/625 [==============================] - 39s 62ms/step - loss: 1.5870 - accuracy: 0.5976 - val_loss: 11.8720 - val_accuracy: 0.2570\n",
            "Epoch 106/120\n",
            "625/625 [==============================] - 39s 62ms/step - loss: 1.5777 - accuracy: 0.6007 - val_loss: 50.4014 - val_accuracy: 0.1916\n",
            "Epoch 107/120\n",
            "625/625 [==============================] - 39s 62ms/step - loss: 1.5928 - accuracy: 0.5978 - val_loss: 28.2181 - val_accuracy: 0.1514\n",
            "Epoch 108/120\n",
            "625/625 [==============================] - 39s 62ms/step - loss: 1.5688 - accuracy: 0.6007 - val_loss: 15.7206 - val_accuracy: 0.2211\n",
            "Epoch 109/120\n",
            "625/625 [==============================] - 39s 62ms/step - loss: 1.5682 - accuracy: 0.5995 - val_loss: 5.5900 - val_accuracy: 0.2890\n",
            "Epoch 110/120\n",
            "625/625 [==============================] - 39s 62ms/step - loss: 1.5691 - accuracy: 0.5993 - val_loss: 26.0275 - val_accuracy: 0.2226\n",
            "Epoch 111/120\n",
            "625/625 [==============================] - 39s 62ms/step - loss: 1.5909 - accuracy: 0.5988 - val_loss: 6.2890 - val_accuracy: 0.2867\n",
            "Epoch 112/120\n",
            "625/625 [==============================] - 39s 62ms/step - loss: 1.5678 - accuracy: 0.6003 - val_loss: 12.2306 - val_accuracy: 0.3063\n",
            "Epoch 113/120\n",
            "625/625 [==============================] - 39s 62ms/step - loss: 1.5776 - accuracy: 0.5979 - val_loss: 5.4495 - val_accuracy: 0.2897\n",
            "Epoch 114/120\n",
            "625/625 [==============================] - 39s 62ms/step - loss: 1.5688 - accuracy: 0.6012 - val_loss: 113.4244 - val_accuracy: 0.1009\n",
            "Epoch 115/120\n",
            "625/625 [==============================] - 39s 62ms/step - loss: 1.5758 - accuracy: 0.5986 - val_loss: 22.1352 - val_accuracy: 0.2071\n",
            "Epoch 116/120\n",
            "625/625 [==============================] - 39s 62ms/step - loss: 1.5754 - accuracy: 0.5997 - val_loss: 28.2787 - val_accuracy: 0.1500\n",
            "Epoch 117/120\n",
            "625/625 [==============================] - 39s 62ms/step - loss: 1.5775 - accuracy: 0.6025 - val_loss: 5.3854 - val_accuracy: 0.3346\n",
            "Epoch 118/120\n",
            "625/625 [==============================] - 39s 62ms/step - loss: 1.5972 - accuracy: 0.6026 - val_loss: 27.6638 - val_accuracy: 0.1699\n",
            "Epoch 119/120\n",
            "625/625 [==============================] - 39s 62ms/step - loss: 1.5814 - accuracy: 0.6026 - val_loss: 8.5767 - val_accuracy: 0.2692\n",
            "Epoch 120/120\n",
            "625/625 [==============================] - 39s 62ms/step - loss: 1.5757 - accuracy: 0.6059 - val_loss: 5.3717 - val_accuracy: 0.3476\n"
          ],
          "name": "stdout"
        }
      ]
    },
    {
      "cell_type": "code",
      "metadata": {
        "id": "4GO-wPC3aaLh",
        "colab_type": "code",
        "colab": {}
      },
      "source": [
        "resnet50_model.save('resnet50_model_rmsprop.h5')"
      ],
      "execution_count": 199,
      "outputs": []
    },
    {
      "cell_type": "code",
      "metadata": {
        "id": "vDGp7TrlaabH",
        "colab_type": "code",
        "colab": {
          "base_uri": "https://localhost:8080/",
          "height": 368
        },
        "outputId": "20b80099-83ef-4ffb-abda-03b07db9fec4"
      },
      "source": [
        "# Plot train and validation curves\n",
        "loss = history.history['loss']\n",
        "v_loss = history.history['val_loss']\n",
        "\n",
        "acc = history.history['accuracy']\n",
        "v_acc = history.history['val_accuracy']\n",
        "\n",
        "epochs = range(len(loss))\n",
        "\n",
        "fig = plt.figure(figsize=(9, 5))\n",
        "plt.subplot(1, 2, 1)\n",
        "plt.yscale('log')\n",
        "plt.plot(epochs, loss, linestyle='--', linewidth=3, color='orange', alpha=0.7, label='Train Loss')\n",
        "plt.plot(epochs, v_loss, linestyle='-.', linewidth=2, color='lime', alpha=0.8, label='Valid Loss')\n",
        "plt.ylim(0.3, 100)\n",
        "plt.xlabel('Epochs', fontsize=11)\n",
        "plt.ylabel('Loss', fontsize=12)\n",
        "plt.legend(fontsize=12)\n",
        "plt.subplot(1, 2, 2)\n",
        "plt.plot(epochs, acc, linestyle='--', linewidth=3, color='orange', alpha=0.7, label='Train Acc')\n",
        "plt.plot(epochs, v_acc, linestyle='-.', linewidth=2, color='lime', alpha=0.8, label='Valid Acc') \n",
        "plt.xlabel('Epochs', fontsize=11)\n",
        "plt.ylabel('Accuracy', fontsize=12)\n",
        "plt.legend(fontsize=12)\n",
        "plt.tight_layout()\n",
        "plt.savefig('/content/drive/My Drive/Colab Notebooks/IDL course OvGU/accuracy_rmsprop_res.png', dpi=250)\n",
        "plt.show()"
      ],
      "execution_count": 200,
      "outputs": [
        {
          "output_type": "display_data",
          "data": {
            "image/png": "[encoded data removed]",
            "text/plain": [
              "<Figure size 648x360 with 2 Axes>"
            ]
          },
          "metadata": {
            "tags": [],
            "needs_background": "light"
          }
        }
      ]
    },
    {
      "cell_type": "code",
      "metadata": {
        "id": "0ct1Axg0aXOv",
        "colab_type": "code",
        "colab": {
          "base_uri": "https://localhost:8080/",
          "height": 52
        },
        "outputId": "f7ce3421-026f-4b7e-a1cb-e23d1ecad06b"
      },
      "source": [
        "# Checking the performance on the test data \n",
        "test_result = resnet50_model.evaluate(test_images, test_lab_categorical, verbose=0)\n",
        "\n",
        "print (\"ResNet50 loss: \", test_result[0])\n",
        "print (\"ResNet50 accuracy: \", test_result[1])"
      ],
      "execution_count": 201,
      "outputs": [
        {
          "output_type": "stream",
          "text": [
            "ResNet50 loss:  5.36508846282959\n",
            "ResNet50 accuracy:  0.3440999984741211\n"
          ],
          "name": "stdout"
        }
      ]
    },
    {
      "cell_type": "markdown",
      "metadata": {
        "id": "bPehXiE6u017",
        "colab_type": "text"
      },
      "source": [
        "# Task 2 Regularization\n"
      ]
    },
    {
      "cell_type": "markdown",
      "metadata": {
        "id": "0_1Hw3vNvh4w",
        "colab_type": "text"
      },
      "source": [
        "## Without regularization - VGG"
      ]
    },
    {
      "cell_type": "code",
      "metadata": {
        "id": "gp8X-QbJu7Fw",
        "colab_type": "code",
        "colab": {
          "base_uri": "https://localhost:8080/",
          "height": 52
        },
        "outputId": "b583d3cd-cf58-44ad-bcbf-dfe34e2c9013"
      },
      "source": [
        "(train_images, train_labels) , (test_images , test_labels) = datasets.cifar10.load_data()\n",
        "\n",
        "class_names = ['airplane', 'automobile', 'bird', 'cat', 'deer',\n",
        "               'dog', 'frog', 'horse', 'ship', 'truck']\n",
        "# print(train_labels.shape,test_labels.shape)\n",
        "\n",
        "\n",
        "train_images = train_images.astype(np.float32) / 255.0\n",
        "train_labels = train_labels.astype(np.int32)\n",
        "\n",
        "\n",
        "test_images = test_images.astype(np.float32) / 255.0\n",
        "test_labels = test_labels.astype(np.int32)"
      ],
      "execution_count": null,
      "outputs": [
        {
          "output_type": "stream",
          "text": [
            "Downloading data from https://www.cs.toronto.edu/~kriz/cifar-10-python.tar.gz\n",
            "170500096/170498071 [==============================] - 11s 0us/step\n"
          ],
          "name": "stdout"
        }
      ]
    },
    {
      "cell_type": "code",
      "metadata": {
        "id": "SW0vvEgnwms2",
        "colab_type": "code",
        "colab": {}
      },
      "source": [
        "# VGG-16 \n",
        "\n",
        "vgg_model = tf.keras.Sequential([ tf.keras.layers.Conv2D(filters= 64, kernel_size= 3 , input_shape=(32,32,3),padding='same',activation='relu'),\n",
        "                              tf.keras.layers.BatchNormalization(),\n",
        "                              # tf.keras.layers.Dropout(0.3),\n",
        "                             \n",
        "                              tf.keras.layers.Conv2D(filters= 64, kernel_size= 3,padding='same',activation='relu'),\n",
        "                              tf.keras.layers.BatchNormalization(),\n",
        "                             \n",
        "                              tf.keras.layers.MaxPooling2D(pool_size=(2,2)),\n",
        "                             \n",
        "                              tf.keras.layers.Conv2D(filters= 128, kernel_size= 3,padding='same',activation='relu'),\n",
        "                              tf.keras.layers.BatchNormalization(),\n",
        "                              # tf.keras.layers.Dropout(0.4),\n",
        "                             \n",
        "                              tf.keras.layers.Conv2D(filters= 128, kernel_size= 3,padding='same',activation='relu'),\n",
        "                              tf.keras.layers.BatchNormalization(),\n",
        "                             \n",
        "                              tf.keras.layers.MaxPooling2D(pool_size=(2,2)),\n",
        "                             \n",
        "                              tf.keras.layers.Conv2D(filters= 256 , kernel_size= 3, padding='same',activation='relu'),\n",
        "                              tf.keras.layers.BatchNormalization(),\n",
        "                              # tf.keras.layers.Dropout(0.4),\n",
        "                             \n",
        "                              tf.keras.layers.Conv2D(filters= 256, kernel_size= 3,padding='same',activation='relu'),\n",
        "                              tf.keras.layers.BatchNormalization(),\n",
        "                              # tf.keras.layers.Dropout(0.4),\n",
        "                             \n",
        "                              tf.keras.layers.Conv2D(filters= 256, kernel_size= 3,padding='same',activation='relu'),\n",
        "                              tf.keras.layers.BatchNormalization(),\n",
        "                             \n",
        "                              tf.keras.layers.MaxPooling2D(pool_size=(2,2)),\n",
        "                             \n",
        "                              tf.keras.layers.Conv2D(filters= 512, kernel_size= 3, padding='same',activation='relu'),\n",
        "                              tf.keras.layers.BatchNormalization(),\n",
        "                              # tf.keras.layers.Dropout(0.4),\n",
        "                             \n",
        "                              tf.keras.layers.Conv2D(filters= 512 , kernel_size= 3,padding='same',activation='relu'),\n",
        "                              tf.keras.layers.BatchNormalization(),\n",
        "                              # tf.keras.layers.Dropout(0.4),\n",
        "                             \n",
        "                              tf.keras.layers.Conv2D(filters= 512, kernel_size= 3,padding='same',activation='relu'),\n",
        "                              tf.keras.layers.BatchNormalization(),\n",
        "                             \n",
        "                              tf.keras.layers.MaxPooling2D(pool_size=(2,2)),\n",
        "                             \n",
        "                              tf.keras.layers.Conv2D(filters= 512, kernel_size=3, padding='same',activation='relu'),\n",
        "                              tf.keras.layers.BatchNormalization(),\n",
        "                              # tf.keras.layers.Dropout(0.4),\n",
        "                             \n",
        "                              tf.keras.layers.Conv2D(filters= 512, kernel_size= 3,padding='same',activation='relu'),\n",
        "                              tf.keras.layers.BatchNormalization(),\n",
        "                              # tf.keras.layers.Dropout(0.4),\n",
        "                             \n",
        "                              tf.keras.layers.Conv2D(filters= 512, kernel_size= 3,padding='same',activation='relu'),\n",
        "                              tf.keras.layers.BatchNormalization(),\n",
        "                             \n",
        "                              tf.keras.layers.MaxPooling2D(pool_size=(2,2)),\n",
        "                              # tf.keras.layers.Dropout(0.5),\n",
        "                             \n",
        "                              tf.keras.layers.Flatten(),\n",
        "                              tf.keras.layers.Dense(512, activation='relu'),\n",
        "                              tf.keras.layers.BatchNormalization(),\n",
        "                              # tf.keras.layers.Dropout(0.5),\n",
        "                              \n",
        "                              tf.keras.layers.Dense(10, activation='softmax'),\n",
        "])"
      ],
      "execution_count": null,
      "outputs": []
    },
    {
      "cell_type": "code",
      "metadata": {
        "id": "II7njqxMxBM9",
        "colab_type": "code",
        "colab": {
          "base_uri": "https://localhost:8080/",
          "height": 372
        },
        "outputId": "742a887b-a7ae-4f7b-e133-f2cd4ec718ac"
      },
      "source": [
        "learning_rate = 0.005\n",
        "adam = optimizers.Adam(lr=learning_rate)\n",
        "vgg_model.compile(optimizer=adam, loss= 'sparse_categorical_crossentropy',metrics = ['accuracy'])\n",
        "history = vgg_model.fit(train_images, train_labels, epochs=10, validation_data=(test_images, test_labels))"
      ],
      "execution_count": null,
      "outputs": [
        {
          "output_type": "stream",
          "text": [
            "Epoch 1/10\n",
            "1563/1563 [==============================] - 32s 21ms/step - loss: 1.7734 - accuracy: 0.3534 - val_loss: 1.7038 - val_accuracy: 0.4140\n",
            "Epoch 2/10\n",
            "1563/1563 [==============================] - 32s 20ms/step - loss: 1.1695 - accuracy: 0.5889 - val_loss: 1.0975 - val_accuracy: 0.6345\n",
            "Epoch 3/10\n",
            "1563/1563 [==============================] - 32s 20ms/step - loss: 0.8976 - accuracy: 0.6952 - val_loss: 1.1133 - val_accuracy: 0.6483\n",
            "Epoch 4/10\n",
            "1563/1563 [==============================] - 32s 20ms/step - loss: 0.7497 - accuracy: 0.7534 - val_loss: 0.8109 - val_accuracy: 0.7428\n",
            "Epoch 5/10\n",
            "1563/1563 [==============================] - 32s 21ms/step - loss: 0.6467 - accuracy: 0.7890 - val_loss: 0.7013 - val_accuracy: 0.7654\n",
            "Epoch 6/10\n",
            "1563/1563 [==============================] - 32s 20ms/step - loss: 0.5504 - accuracy: 0.8215 - val_loss: 0.7980 - val_accuracy: 0.7453\n",
            "Epoch 7/10\n",
            "1563/1563 [==============================] - 32s 20ms/step - loss: 0.4669 - accuracy: 0.8488 - val_loss: 0.5914 - val_accuracy: 0.8141\n",
            "Epoch 8/10\n",
            "1563/1563 [==============================] - 31s 20ms/step - loss: 0.3882 - accuracy: 0.8755 - val_loss: 0.5971 - val_accuracy: 0.8158\n",
            "Epoch 9/10\n",
            "1563/1563 [==============================] - 32s 20ms/step - loss: 0.3191 - accuracy: 0.8960 - val_loss: 0.7325 - val_accuracy: 0.7852\n",
            "Epoch 10/10\n",
            "1563/1563 [==============================] - 32s 20ms/step - loss: 0.2626 - accuracy: 0.9151 - val_loss: 0.9093 - val_accuracy: 0.7642\n"
          ],
          "name": "stdout"
        }
      ]
    },
    {
      "cell_type": "code",
      "metadata": {
        "id": "4AcVI4qBxNi0",
        "colab_type": "code",
        "colab": {
          "base_uri": "https://localhost:8080/",
          "height": 368
        },
        "outputId": "ab461b05-8afa-4208-93e9-fc54288b1083"
      },
      "source": [
        "# Plot train and validation curves\n",
        "loss = history.history['loss']\n",
        "v_loss = history.history['val_loss']\n",
        "\n",
        "acc = history.history['accuracy']\n",
        "v_acc = history.history['val_accuracy']\n",
        "\n",
        "epochs = range(len(loss))\n",
        "\n",
        "fig = plt.figure(figsize=(9, 5))\n",
        "plt.subplot(1, 2, 1)\n",
        "plt.yscale('log')\n",
        "plt.plot(epochs, loss, linestyle='--', linewidth=3, color='orange', alpha=0.7, label='Train Loss')\n",
        "plt.plot(epochs, v_loss, linestyle='-.', linewidth=2, color='lime', alpha=0.8, label='Valid Loss')\n",
        "plt.ylim(0.3, 100)\n",
        "plt.xlabel('Epochs', fontsize=11)\n",
        "plt.ylabel('Loss', fontsize=12)\n",
        "plt.legend(fontsize=12)\n",
        "plt.subplot(1, 2, 2)\n",
        "plt.plot(epochs, acc, linestyle='--', linewidth=3, color='orange', alpha=0.7, label='Train Acc')\n",
        "plt.plot(epochs, v_acc, linestyle='-.', linewidth=2, color='lime', alpha=0.8, label='Valid Acc') \n",
        "plt.xlabel('Epochs', fontsize=11)\n",
        "plt.ylabel('Accuracy', fontsize=12)\n",
        "plt.legend(fontsize=12)\n",
        "plt.tight_layout()\n",
        "plt.savefig('/content/drive/My Drive/Colab Notebooks/IDL course OvGU/Task2_accuracy_adam_vgg.png', dpi=250)\n",
        "plt.show()"
      ],
      "execution_count": null,
      "outputs": [
        {
          "output_type": "display_data",
          "data": {
            "image/png": "[encoded data removed]",
            "text/plain": [
              "<Figure size 648x360 with 2 Axes>"
            ]
          },
          "metadata": {
            "tags": [],
            "needs_background": "light"
          }
        }
      ]
    },
    {
      "cell_type": "code",
      "metadata": {
        "id": "jDKoHTYxxWgY",
        "colab_type": "code",
        "colab": {
          "base_uri": "https://localhost:8080/",
          "height": 52
        },
        "outputId": "77d2c0d5-2dd4-455e-ea1b-140a7425145f"
      },
      "source": [
        "# Checking the performance on the test data \n",
        "test_result = vgg_model.evaluate(test_images, test_labels, verbose=0)\n",
        "\n",
        "print (\"VGG loss: \", test_result[0])\n",
        "print (\"VGG accuracy: \", test_result[1])"
      ],
      "execution_count": null,
      "outputs": [
        {
          "output_type": "stream",
          "text": [
            "VGG loss:  0.909264326095581\n",
            "VGG accuracy:  0.76419997215271\n"
          ],
          "name": "stdout"
        }
      ]
    },
    {
      "cell_type": "markdown",
      "metadata": {
        "id": "wkoDnT_avvV-",
        "colab_type": "text"
      },
      "source": [
        "## With regularization VGG"
      ]
    },
    {
      "cell_type": "code",
      "metadata": {
        "id": "pP5cevhlv4lq",
        "colab_type": "code",
        "colab": {}
      },
      "source": [
        "(train_images, train_labels) , (test_images , test_labels) = datasets.cifar10.load_data()\n",
        "\n",
        "class_names = ['airplane', 'automobile', 'bird', 'cat', 'deer',\n",
        "               'dog', 'frog', 'horse', 'ship', 'truck']\n",
        "# print(train_labels.shape,test_labels.shape)\n",
        "\n",
        "\n",
        "train_images = train_images.astype(np.float32) / 255.0\n",
        "train_labels = train_labels.astype(np.int32)\n",
        "\n",
        "\n",
        "test_images = test_images.astype(np.float32) / 255.0\n",
        "test_labels = test_labels.astype(np.int32)"
      ],
      "execution_count": null,
      "outputs": []
    },
    {
      "cell_type": "code",
      "metadata": {
        "id": "TKCHkzZVwoVw",
        "colab_type": "code",
        "colab": {}
      },
      "source": [
        "# VGG-16 \n",
        "\n",
        "vgg_model = tf.keras.Sequential([ tf.keras.layers.Conv2D(filters= 64, kernel_size= 3 , input_shape=(32,32,3),padding='same',activation='relu'),\n",
        "                              tf.keras.layers.BatchNormalization(),\n",
        "                              tf.keras.layers.Dropout(0.3),\n",
        "                             \n",
        "                              tf.keras.layers.Conv2D(filters= 64, kernel_size= 3,padding='same',activation='relu'),\n",
        "                              tf.keras.layers.BatchNormalization(),\n",
        "                             \n",
        "                              tf.keras.layers.MaxPooling2D(pool_size=(2,2)),\n",
        "                             \n",
        "                              tf.keras.layers.Conv2D(filters= 128, kernel_size= 3,padding='same',activation='relu'),\n",
        "                              tf.keras.layers.BatchNormalization(),\n",
        "                              tf.keras.layers.Dropout(0.4),\n",
        "                             \n",
        "                              tf.keras.layers.Conv2D(filters= 128, kernel_size= 3,padding='same',activation='relu'),\n",
        "                              tf.keras.layers.BatchNormalization(),\n",
        "                             \n",
        "                              tf.keras.layers.MaxPooling2D(pool_size=(2,2)),\n",
        "                             \n",
        "                              tf.keras.layers.Conv2D(filters= 256 , kernel_size= 3, padding='same',activation='relu'),\n",
        "                              tf.keras.layers.BatchNormalization(),\n",
        "                              tf.keras.layers.Dropout(0.4),\n",
        "                             \n",
        "                              tf.keras.layers.Conv2D(filters= 256, kernel_size= 3,padding='same',activation='relu'),\n",
        "                              tf.keras.layers.BatchNormalization(),\n",
        "                              tf.keras.layers.Dropout(0.4),\n",
        "                             \n",
        "                              tf.keras.layers.Conv2D(filters= 256, kernel_size= 3,padding='same',activation='relu'),\n",
        "                              tf.keras.layers.BatchNormalization(),\n",
        "                             \n",
        "                              tf.keras.layers.MaxPooling2D(pool_size=(2,2)),\n",
        "                             \n",
        "                              tf.keras.layers.Conv2D(filters= 512, kernel_size= 3, padding='same',activation='relu'),\n",
        "                              tf.keras.layers.BatchNormalization(),\n",
        "                              tf.keras.layers.Dropout(0.4),\n",
        "                             \n",
        "                              tf.keras.layers.Conv2D(filters= 512 , kernel_size= 3,padding='same',activation='relu'),\n",
        "                              tf.keras.layers.BatchNormalization(),\n",
        "                              tf.keras.layers.Dropout(0.4),\n",
        "                             \n",
        "                              tf.keras.layers.Conv2D(filters= 512, kernel_size= 3,padding='same',activation='relu'),\n",
        "                              tf.keras.layers.BatchNormalization(),\n",
        "                             \n",
        "                              tf.keras.layers.MaxPooling2D(pool_size=(2,2)),\n",
        "                             \n",
        "                              tf.keras.layers.Conv2D(filters= 512, kernel_size=3, padding='same',activation='relu'),\n",
        "                              tf.keras.layers.BatchNormalization(),\n",
        "                              tf.keras.layers.Dropout(0.4),\n",
        "                             \n",
        "                              tf.keras.layers.Conv2D(filters= 512, kernel_size= 3,padding='same',activation='relu'),\n",
        "                              tf.keras.layers.BatchNormalization(),\n",
        "                              tf.keras.layers.Dropout(0.4),\n",
        "                             \n",
        "                              tf.keras.layers.Conv2D(filters= 512, kernel_size= 3,padding='same',activation='relu'),\n",
        "                              tf.keras.layers.BatchNormalization(),\n",
        "                             \n",
        "                              tf.keras.layers.MaxPooling2D(pool_size=(2,2)),\n",
        "                              tf.keras.layers.Dropout(0.5),\n",
        "                             \n",
        "                              tf.keras.layers.Flatten(),\n",
        "                              tf.keras.layers.Dense(512, activation='relu'),\n",
        "                              tf.keras.layers.BatchNormalization(),\n",
        "                              tf.keras.layers.Dropout(0.5),\n",
        "                              \n",
        "                              tf.keras.layers.Dense(10, activation='softmax'),\n",
        "])"
      ],
      "execution_count": null,
      "outputs": []
    },
    {
      "cell_type": "code",
      "metadata": {
        "id": "UmN1uKcrxDPx",
        "colab_type": "code",
        "colab": {
          "base_uri": "https://localhost:8080/",
          "height": 372
        },
        "outputId": "d5b29a0c-61b1-4075-cbe0-7db80d249681"
      },
      "source": [
        "learning_rate = 0.005\n",
        "adam = optimizers.Adam(lr=learning_rate)\n",
        "vgg_model.compile(optimizer=adam, loss= 'sparse_categorical_crossentropy',metrics = ['accuracy'])\n",
        "history = vgg_model.fit(train_images, train_labels, epochs=10, validation_data=(test_images, test_labels))"
      ],
      "execution_count": null,
      "outputs": [
        {
          "output_type": "stream",
          "text": [
            "Epoch 1/10\n",
            "1563/1563 [==============================] - 33s 21ms/step - loss: 2.1661 - accuracy: 0.2297 - val_loss: 1.7392 - val_accuracy: 0.3319\n",
            "Epoch 2/10\n",
            "1563/1563 [==============================] - 33s 21ms/step - loss: 1.5881 - accuracy: 0.4057 - val_loss: 1.7816 - val_accuracy: 0.3889\n",
            "Epoch 3/10\n",
            "1563/1563 [==============================] - 33s 21ms/step - loss: 1.2816 - accuracy: 0.5505 - val_loss: 1.1732 - val_accuracy: 0.6067\n",
            "Epoch 4/10\n",
            "1563/1563 [==============================] - 33s 21ms/step - loss: 1.0999 - accuracy: 0.6229 - val_loss: 1.0660 - val_accuracy: 0.6529\n",
            "Epoch 5/10\n",
            "1563/1563 [==============================] - 33s 21ms/step - loss: 0.9801 - accuracy: 0.6717 - val_loss: 0.9509 - val_accuracy: 0.6828\n",
            "Epoch 6/10\n",
            "1563/1563 [==============================] - 34s 22ms/step - loss: 0.8845 - accuracy: 0.7058 - val_loss: 0.7470 - val_accuracy: 0.7518\n",
            "Epoch 7/10\n",
            "1563/1563 [==============================] - 34s 22ms/step - loss: 0.8185 - accuracy: 0.7344 - val_loss: 0.7984 - val_accuracy: 0.7505\n",
            "Epoch 8/10\n",
            "1563/1563 [==============================] - 34s 22ms/step - loss: 0.7474 - accuracy: 0.7617 - val_loss: 0.7007 - val_accuracy: 0.7707\n",
            "Epoch 9/10\n",
            "1563/1563 [==============================] - 34s 22ms/step - loss: 0.6966 - accuracy: 0.7764 - val_loss: 0.6909 - val_accuracy: 0.7809\n",
            "Epoch 10/10\n",
            "1563/1563 [==============================] - 33s 21ms/step - loss: 0.6460 - accuracy: 0.7952 - val_loss: 0.5972 - val_accuracy: 0.8076\n"
          ],
          "name": "stdout"
        }
      ]
    },
    {
      "cell_type": "code",
      "metadata": {
        "id": "d-XnfN_gxKll",
        "colab_type": "code",
        "colab": {
          "base_uri": "https://localhost:8080/",
          "height": 368
        },
        "outputId": "a51432de-7ddf-405c-82de-9b8fbc83ad99"
      },
      "source": [
        "# Plot train and validation curves\n",
        "loss = history.history['loss']\n",
        "v_loss = history.history['val_loss']\n",
        "\n",
        "acc = history.history['accuracy']\n",
        "v_acc = history.history['val_accuracy']\n",
        "\n",
        "epochs = range(len(loss))\n",
        "\n",
        "fig = plt.figure(figsize=(9, 5))\n",
        "plt.subplot(1, 2, 1)\n",
        "plt.yscale('log')\n",
        "plt.plot(epochs, loss, linestyle='--', linewidth=3, color='orange', alpha=0.7, label='Train Loss')\n",
        "plt.plot(epochs, v_loss, linestyle='-.', linewidth=2, color='lime', alpha=0.8, label='Valid Loss')\n",
        "plt.ylim(0.3, 100)\n",
        "plt.xlabel('Epochs', fontsize=11)\n",
        "plt.ylabel('Loss', fontsize=12)\n",
        "plt.legend(fontsize=12)\n",
        "plt.subplot(1, 2, 2)\n",
        "plt.plot(epochs, acc, linestyle='--', linewidth=3, color='orange', alpha=0.7, label='Train Acc')\n",
        "plt.plot(epochs, v_acc, linestyle='-.', linewidth=2, color='lime', alpha=0.8, label='Valid Acc') \n",
        "plt.xlabel('Epochs', fontsize=11)\n",
        "plt.ylabel('Accuracy', fontsize=12)\n",
        "plt.legend(fontsize=12)\n",
        "plt.tight_layout()\n",
        "plt.savefig('/content/drive/My Drive/Colab Notebooks/IDL course OvGU/Task2_accuracy_adam_vgg.png', dpi=250)\n",
        "plt.show()"
      ],
      "execution_count": null,
      "outputs": [
        {
          "output_type": "display_data",
          "data": {
            "image/png": "[encoded data removed]",
            "text/plain": [
              "<Figure size 648x360 with 2 Axes>"
            ]
          },
          "metadata": {
            "tags": [],
            "needs_background": "light"
          }
        }
      ]
    },
    {
      "cell_type": "code",
      "metadata": {
        "id": "BQBlcH94xTik",
        "colab_type": "code",
        "colab": {
          "base_uri": "https://localhost:8080/",
          "height": 52
        },
        "outputId": "a0614780-4e29-4433-8d6e-8fef8038028b"
      },
      "source": [
        "# Checking the performance on the test data \n",
        "test_result = vgg_model.evaluate(test_images, test_labels, verbose=0)\n",
        "\n",
        "print (\"VGG loss: \", test_result[0])\n",
        "print (\"VGG accuracy: \", test_result[1])"
      ],
      "execution_count": null,
      "outputs": [
        {
          "output_type": "stream",
          "text": [
            "VGG loss:  0.597205400466919\n",
            "VGG accuracy:  0.8076000213623047\n"
          ],
          "name": "stdout"
        }
      ]
    },
    {
      "cell_type": "markdown",
      "metadata": {
        "id": "gmmy0ndAv5Gy",
        "colab_type": "text"
      },
      "source": [
        "## Without regularization ResNet"
      ]
    },
    {
      "cell_type": "code",
      "metadata": {
        "id": "-GHydcjfwdwn",
        "colab_type": "code",
        "colab": {}
      },
      "source": [
        "(train_images, train_labels) , (test_images , test_labels) = datasets.cifar10.load_data()\n",
        "\n",
        "class_names = ['airplane', 'automobile', 'bird', 'cat', 'deer',\n",
        "               'dog', 'frog', 'horse', 'ship', 'truck']\n",
        "# print(train_labels.shape,test_labels.shape)\n",
        "\n",
        "\n",
        "train_images = train_images.astype(np.float32) / 255.0\n",
        "train_labels = train_labels.astype(np.int32)\n",
        "\n",
        "\n",
        "test_images = test_images.astype(np.float32) / 255.0\n",
        "test_labels = test_labels.astype(np.int32)"
      ],
      "execution_count": null,
      "outputs": []
    },
    {
      "cell_type": "code",
      "metadata": {
        "id": "4lHZRiP5Q-xx",
        "colab_type": "code",
        "colab": {}
      },
      "source": [
        "### One hot encoding for labels \n",
        "\n",
        "train_lab_categorical = tf.keras.utils.to_categorical(\n",
        "    train_labels, num_classes=10, dtype='uint8')\n",
        "\n",
        "test_lab_categorical = tf.keras.utils.to_categorical(\n",
        "    test_labels, num_classes=10, dtype='uint8')"
      ],
      "execution_count": null,
      "outputs": []
    },
    {
      "cell_type": "code",
      "metadata": {
        "id": "0L9dH2xnyTI_",
        "colab_type": "code",
        "colab": {
          "base_uri": "https://localhost:8080/",
          "height": 70
        },
        "outputId": "8660f9e0-4c77-4208-82a0-5a53827f3769"
      },
      "source": [
        "# Train -test split \n",
        "\n",
        "from sklearn.model_selection import train_test_split \n",
        "train_img, valid_img, train_label, valid_label = train_test_split(train_images, train_lab_categorical, test_size=0.20, \n",
        "                                                            stratify=train_lab_categorical,random_state=40,shuffle = True)\n",
        "\n",
        "print (\"train data shape after the split: \", train_img.shape)\n",
        "print ('validation data shape: ', valid_img.shape)\n",
        "print (\"validation labels shape: \", valid_label.shape)"
      ],
      "execution_count": null,
      "outputs": [
        {
          "output_type": "stream",
          "text": [
            "train data shape after the split:  (40000, 32, 32, 3)\n",
            "validation data shape:  (10000, 32, 32, 3)\n",
            "validation labels shape:  (10000, 10)\n"
          ],
          "name": "stdout"
        }
      ]
    },
    {
      "cell_type": "code",
      "metadata": {
        "id": "ulJk1ZWYyXVc",
        "colab_type": "code",
        "colab": {}
      },
      "source": [
        "# Reference from https://github.com/suvoooo/Learn-TensorFlow/blob/master/resnet/Implement_Resnet_TensorFlow.ipynb\n",
        "\n",
        "# ResNet-50\n",
        "\n",
        "def resnet_identity(x, filters): \n",
        "\n",
        "  x_skip = x # this will be used for addition with the residual block \n",
        "  f1, f2 = filters\n",
        "\n",
        "  #first block \n",
        "  x = Conv2D(f1, kernel_size=(1, 1), strides=(1, 1), padding='valid')(x)\n",
        "  x = BatchNormalization()(x)\n",
        "  x = Activation(activations.relu)(x)\n",
        "\n",
        "  #second block # bottleneck (but size kept same with padding)\n",
        "  x = Conv2D(f1, kernel_size=(3, 3), strides=(1, 1), padding='same')(x)\n",
        "  x = BatchNormalization()(x)\n",
        "  x = Activation(activations.relu)(x)\n",
        "\n",
        "  # third block activation used after adding the input\n",
        "  x = Conv2D(f2, kernel_size=(1, 1), strides=(1, 1), padding='valid')(x)\n",
        "  x = BatchNormalization()(x)\n",
        "  # x = Activation(activations.relu)(x)\n",
        "\n",
        "  # add the input \n",
        "  x = Add()([x, x_skip])\n",
        "  x = Activation(activations.relu)(x)\n",
        "\n",
        "  return x\n"
      ],
      "execution_count": null,
      "outputs": []
    },
    {
      "cell_type": "code",
      "metadata": {
        "id": "FWPVmjZeyo4T",
        "colab_type": "code",
        "colab": {}
      },
      "source": [
        "def resnet_conv(x, s, filters):\n",
        "  '''\n",
        "  here the input size changes, when it goes via conv blocks\n",
        "  so the skip connection uses a projection (conv layer) matrix\n",
        "  ''' \n",
        "  x_skip = x\n",
        "  f1, f2 = filters\n",
        "\n",
        "  # first block\n",
        "  x = Conv2D(f1, kernel_size=(1, 1), strides=(s, s), padding='valid')(x) \n",
        "  x = BatchNormalization()(x)\n",
        "  x = Activation(activations.relu)(x)\n",
        "\n",
        "  # second block\n",
        "  x = Conv2D(f1, kernel_size=(3, 3), strides=(1, 1), padding='same')(x)\n",
        "  x = BatchNormalization()(x)\n",
        "  x = Activation(activations.relu)(x)\n",
        "\n",
        "  #third block\n",
        "  x = Conv2D(f2, kernel_size=(1, 1), strides=(1, 1), padding='valid')(x)\n",
        "  x = BatchNormalization()(x)\n",
        "\n",
        "  # shortcut \n",
        "  x_skip = Conv2D(f2, kernel_size=(1, 1), strides=(s, s), padding='valid')(x_skip)\n",
        "  x_skip = BatchNormalization()(x_skip)\n",
        "\n",
        "  # add \n",
        "  x = Add()([x, x_skip])\n",
        "  x = Activation(activations.relu)(x)\n",
        "\n",
        "  return x"
      ],
      "execution_count": null,
      "outputs": []
    },
    {
      "cell_type": "code",
      "metadata": {
        "id": "sVJsGluoy4Id",
        "colab_type": "code",
        "colab": {}
      },
      "source": [
        "def resnet50():\n",
        "\n",
        "  input_img = Input(shape=(train_img.shape[1], train_img.shape[2], train_img.shape[3])) # cifar 10 images size\n",
        "  x = ZeroPadding2D(padding=(3, 3))(input_img)\n",
        "\n",
        "  # 1st stage\n",
        "  x = Conv2D(64, kernel_size=(7, 7), strides=(2, 2))(x)\n",
        "  x = BatchNormalization()(x)\n",
        "  x = Activation(activations.relu)(x)\n",
        "  x = MaxPooling2D((3, 3), strides=(2, 2))(x)\n",
        "\n",
        "  #2nd stage \n",
        "  x = resnet_conv(x, s=1, filters=(64, 256))\n",
        "  x = resnet_identity(x, filters=(64, 256))\n",
        "  x = resnet_identity(x, filters=(64, 256))\n",
        "\n",
        "  # 3rd stage\n",
        "\n",
        "  x = resnet_conv(x, s=2, filters=(128, 512))\n",
        "  x = resnet_identity(x, filters=(128, 512))\n",
        "  x = resnet_identity(x, filters=(128, 512))\n",
        "  x = resnet_identity(x, filters=(128, 512))\n",
        "\n",
        "  # 4th stage\n",
        "\n",
        "  x = resnet_conv(x, s=2, filters=(256, 1024))\n",
        "  x = resnet_identity(x, filters=(256, 1024))\n",
        "  x = resnet_identity(x, filters=(256, 1024))\n",
        "  x = resnet_identity(x, filters=(256, 1024))\n",
        "  x = resnet_identity(x, filters=(256, 1024))\n",
        "  x = resnet_identity(x, filters=(256, 1024))\n",
        "\n",
        "  # 5th stage\n",
        "\n",
        "  x = resnet_conv(x, s=2, filters=(512, 2048))\n",
        "  x = resnet_identity(x, filters=(512, 2048))\n",
        "  x = resnet_identity(x, filters=(512, 2048))\n",
        "\n",
        "  # ends with average pooling and dense connection\n",
        "\n",
        "  x = AveragePooling2D((2, 2), padding='same')(x)\n",
        "\n",
        "  x = Flatten()(x)\n",
        "  x = Dense(10, activation='softmax', kernel_initializer='he_normal')(x)\n",
        "\n",
        "  # define the model \n",
        "\n",
        "  model = Model(inputs=input_img, outputs=x, name='Resnet50')\n",
        "\n",
        "  return model"
      ],
      "execution_count": null,
      "outputs": []
    },
    {
      "cell_type": "code",
      "metadata": {
        "id": "f4kA9oRey6L3",
        "colab_type": "code",
        "colab": {}
      },
      "source": [
        "resnet50_model = resnet50()\n",
        "# resnet50_model.summary()"
      ],
      "execution_count": null,
      "outputs": []
    },
    {
      "cell_type": "code",
      "metadata": {
        "id": "ysPdqCDizXkr",
        "colab_type": "code",
        "colab": {
          "base_uri": "https://localhost:8080/",
          "height": 1000
        },
        "outputId": "4e99d273-87d9-4350-c26e-83f47587831b"
      },
      "source": [
        "batch_size = 64 \n",
        "learning_rate = 0.003\n",
        "adam = optimizers.Adam(lr=learning_rate)\n",
        "resnet50_model.compile(optimizer=adam, loss= 'categorical_crossentropy',metrics = ['accuracy'])\n",
        "\n",
        "history = resnet50_model.fit(train_img,train_label, epochs=120, steps_per_epoch=train_img.shape[0]/batch_size, \n",
        "                                  validation_steps=valid_img.shape[0]/batch_size, validation_data=(valid_img,valid_label))"
      ],
      "execution_count": null,
      "outputs": [
        {
          "output_type": "stream",
          "text": [
            "Epoch 1/120\n",
            "625/625 [==============================] - 26s 42ms/step - loss: 2.5906 - accuracy: 0.2505 - val_loss: 2.0677 - val_accuracy: 0.3205\n",
            "Epoch 2/120\n",
            "625/625 [==============================] - 26s 42ms/step - loss: 1.9608 - accuracy: 0.3872 - val_loss: 1.7553 - val_accuracy: 0.4049\n",
            "Epoch 3/120\n",
            "625/625 [==============================] - 26s 42ms/step - loss: 1.7306 - accuracy: 0.4325 - val_loss: 3.1700 - val_accuracy: 0.3833\n",
            "Epoch 4/120\n",
            "625/625 [==============================] - 26s 41ms/step - loss: 1.5453 - accuracy: 0.4922 - val_loss: 1.4971 - val_accuracy: 0.4910\n",
            "Epoch 5/120\n",
            "625/625 [==============================] - 26s 41ms/step - loss: 1.4115 - accuracy: 0.5372 - val_loss: 3.8696 - val_accuracy: 0.1249\n",
            "Epoch 6/120\n",
            "625/625 [==============================] - 26s 41ms/step - loss: 1.2544 - accuracy: 0.5757 - val_loss: 1.8612 - val_accuracy: 0.4968\n",
            "Epoch 7/120\n",
            "625/625 [==============================] - 26s 41ms/step - loss: 1.1030 - accuracy: 0.6225 - val_loss: 1.3033 - val_accuracy: 0.5775\n",
            "Epoch 8/120\n",
            "625/625 [==============================] - 26s 41ms/step - loss: 1.0268 - accuracy: 0.6490 - val_loss: 1.7672 - val_accuracy: 0.4803\n",
            "Epoch 9/120\n",
            "625/625 [==============================] - 26s 41ms/step - loss: 0.9145 - accuracy: 0.6839 - val_loss: 1.6380 - val_accuracy: 0.5795\n",
            "Epoch 10/120\n",
            "625/625 [==============================] - 26s 41ms/step - loss: 0.8434 - accuracy: 0.7087 - val_loss: 1.2810 - val_accuracy: 0.5941\n",
            "Epoch 11/120\n",
            "625/625 [==============================] - 26s 41ms/step - loss: 0.7779 - accuracy: 0.7305 - val_loss: 1.6307 - val_accuracy: 0.4786\n",
            "Epoch 12/120\n",
            "625/625 [==============================] - 26s 41ms/step - loss: 0.8203 - accuracy: 0.7162 - val_loss: 8.7415 - val_accuracy: 0.4900\n",
            "Epoch 13/120\n",
            "625/625 [==============================] - 26s 42ms/step - loss: 0.7145 - accuracy: 0.7534 - val_loss: 1.6015 - val_accuracy: 0.6177\n",
            "Epoch 14/120\n",
            "625/625 [==============================] - 26s 42ms/step - loss: 0.6128 - accuracy: 0.7862 - val_loss: 1.1686 - val_accuracy: 0.6321\n",
            "Epoch 15/120\n",
            "625/625 [==============================] - 26s 42ms/step - loss: 0.5937 - accuracy: 0.7962 - val_loss: 1.0929 - val_accuracy: 0.6458\n",
            "Epoch 16/120\n",
            "625/625 [==============================] - 26s 41ms/step - loss: 0.4887 - accuracy: 0.8288 - val_loss: 1.0077 - val_accuracy: 0.6850\n",
            "Epoch 17/120\n",
            "625/625 [==============================] - 26s 41ms/step - loss: 0.4368 - accuracy: 0.8486 - val_loss: 1.1872 - val_accuracy: 0.6517\n",
            "Epoch 18/120\n",
            "625/625 [==============================] - 26s 41ms/step - loss: 0.6938 - accuracy: 0.7674 - val_loss: 14.9814 - val_accuracy: 0.5332\n",
            "Epoch 19/120\n",
            "625/625 [==============================] - 26s 42ms/step - loss: 0.6274 - accuracy: 0.7832 - val_loss: 2.9519 - val_accuracy: 0.5847\n",
            "Epoch 20/120\n",
            "625/625 [==============================] - 26s 41ms/step - loss: 0.4054 - accuracy: 0.8595 - val_loss: 0.9530 - val_accuracy: 0.7039\n",
            "Epoch 21/120\n",
            "625/625 [==============================] - 26s 41ms/step - loss: 0.2692 - accuracy: 0.9089 - val_loss: 1.1056 - val_accuracy: 0.7030\n",
            "Epoch 22/120\n",
            "625/625 [==============================] - 26s 41ms/step - loss: 0.2327 - accuracy: 0.9204 - val_loss: 1.1944 - val_accuracy: 0.6846\n",
            "Epoch 23/120\n",
            "625/625 [==============================] - 26s 41ms/step - loss: 0.2285 - accuracy: 0.9212 - val_loss: 1.4417 - val_accuracy: 0.6712\n",
            "Epoch 24/120\n",
            "625/625 [==============================] - 26s 41ms/step - loss: 0.1742 - accuracy: 0.9400 - val_loss: 1.2666 - val_accuracy: 0.6816\n",
            "Epoch 25/120\n",
            "625/625 [==============================] - 26s 41ms/step - loss: 0.1546 - accuracy: 0.9475 - val_loss: 1.4855 - val_accuracy: 0.6813\n",
            "Epoch 26/120\n",
            "625/625 [==============================] - 26s 41ms/step - loss: 0.1574 - accuracy: 0.9463 - val_loss: 1.5594 - val_accuracy: 0.6651\n",
            "Epoch 27/120\n",
            "625/625 [==============================] - 26s 42ms/step - loss: 0.1422 - accuracy: 0.9510 - val_loss: 6.2819 - val_accuracy: 0.6144\n",
            "Epoch 28/120\n",
            "625/625 [==============================] - 26s 41ms/step - loss: 0.1582 - accuracy: 0.9460 - val_loss: 1.2042 - val_accuracy: 0.7131\n",
            "Epoch 29/120\n",
            "625/625 [==============================] - 26s 41ms/step - loss: 0.1397 - accuracy: 0.9549 - val_loss: 2.1403 - val_accuracy: 0.5884\n",
            "Epoch 30/120\n",
            "625/625 [==============================] - 26s 41ms/step - loss: 0.1129 - accuracy: 0.9608 - val_loss: 1.9751 - val_accuracy: 0.6022\n",
            "Epoch 31/120\n",
            "625/625 [==============================] - 26s 41ms/step - loss: 0.0928 - accuracy: 0.9691 - val_loss: 1.5128 - val_accuracy: 0.6809\n",
            "Epoch 32/120\n",
            "625/625 [==============================] - 26s 42ms/step - loss: 0.1004 - accuracy: 0.9669 - val_loss: 1.3623 - val_accuracy: 0.7205\n",
            "Epoch 33/120\n",
            "625/625 [==============================] - 26s 41ms/step - loss: 0.0882 - accuracy: 0.9705 - val_loss: 1.7627 - val_accuracy: 0.6826\n",
            "Epoch 34/120\n",
            "625/625 [==============================] - 26s 41ms/step - loss: 0.0927 - accuracy: 0.9687 - val_loss: 1.7745 - val_accuracy: 0.6464\n",
            "Epoch 35/120\n",
            "625/625 [==============================] - 26s 41ms/step - loss: 0.0765 - accuracy: 0.9747 - val_loss: 1.3417 - val_accuracy: 0.7273\n",
            "Epoch 36/120\n",
            "625/625 [==============================] - 26s 41ms/step - loss: 0.0784 - accuracy: 0.9734 - val_loss: 1.4677 - val_accuracy: 0.7010\n",
            "Epoch 37/120\n",
            "625/625 [==============================] - 26s 41ms/step - loss: 0.0777 - accuracy: 0.9740 - val_loss: 1.3874 - val_accuracy: 0.7269\n",
            "Epoch 38/120\n",
            "625/625 [==============================] - 26s 41ms/step - loss: 0.0721 - accuracy: 0.9756 - val_loss: 1.6737 - val_accuracy: 0.7038\n",
            "Epoch 39/120\n",
            "625/625 [==============================] - 26s 42ms/step - loss: 0.0696 - accuracy: 0.9755 - val_loss: 1.5032 - val_accuracy: 0.7045\n",
            "Epoch 40/120\n",
            "625/625 [==============================] - 26s 41ms/step - loss: 0.2998 - accuracy: 0.9066 - val_loss: 1.4181 - val_accuracy: 0.6888\n",
            "Epoch 41/120\n",
            "625/625 [==============================] - 26s 41ms/step - loss: 0.2157 - accuracy: 0.9309 - val_loss: 1.7756 - val_accuracy: 0.6559\n",
            "Epoch 42/120\n",
            "625/625 [==============================] - 26s 41ms/step - loss: 0.0643 - accuracy: 0.9796 - val_loss: 1.4580 - val_accuracy: 0.7320\n",
            "Epoch 43/120\n",
            "625/625 [==============================] - 26s 41ms/step - loss: 0.0403 - accuracy: 0.9863 - val_loss: 1.6293 - val_accuracy: 0.7174\n",
            "Epoch 44/120\n",
            "625/625 [==============================] - 26s 41ms/step - loss: 0.0408 - accuracy: 0.9861 - val_loss: 1.5739 - val_accuracy: 0.7251\n",
            "Epoch 45/120\n",
            "625/625 [==============================] - 26s 41ms/step - loss: 0.0634 - accuracy: 0.9796 - val_loss: 1.8127 - val_accuracy: 0.6918\n",
            "Epoch 46/120\n",
            "625/625 [==============================] - 26s 41ms/step - loss: 0.3404 - accuracy: 0.8939 - val_loss: 1.8898 - val_accuracy: 0.7003\n",
            "Epoch 47/120\n",
            "625/625 [==============================] - 26s 41ms/step - loss: 0.1390 - accuracy: 0.9543 - val_loss: 1.2634 - val_accuracy: 0.7372\n",
            "Epoch 48/120\n",
            "625/625 [==============================] - 26s 41ms/step - loss: 0.0574 - accuracy: 0.9816 - val_loss: 1.4927 - val_accuracy: 0.7255\n",
            "Epoch 49/120\n",
            "625/625 [==============================] - 26s 41ms/step - loss: 0.0371 - accuracy: 0.9873 - val_loss: 1.7060 - val_accuracy: 0.7137\n",
            "Epoch 50/120\n",
            "625/625 [==============================] - 26s 41ms/step - loss: 0.0417 - accuracy: 0.9862 - val_loss: 1.5295 - val_accuracy: 0.7243\n",
            "Epoch 51/120\n",
            "625/625 [==============================] - 26s 42ms/step - loss: 0.0501 - accuracy: 0.9835 - val_loss: 1.4707 - val_accuracy: 0.7275\n",
            "Epoch 52/120\n",
            "625/625 [==============================] - 26s 41ms/step - loss: 0.0477 - accuracy: 0.9843 - val_loss: 1.5231 - val_accuracy: 0.7264\n",
            "Epoch 53/120\n",
            "625/625 [==============================] - 26s 41ms/step - loss: 0.0462 - accuracy: 0.9841 - val_loss: 1.4851 - val_accuracy: 0.7273\n",
            "Epoch 54/120\n",
            "625/625 [==============================] - 25s 40ms/step - loss: 0.0495 - accuracy: 0.9838 - val_loss: 1.5214 - val_accuracy: 0.7295\n",
            "Epoch 55/120\n",
            "625/625 [==============================] - 25s 40ms/step - loss: 0.2082 - accuracy: 0.9362 - val_loss: 1.2925 - val_accuracy: 0.7150\n",
            "Epoch 56/120\n",
            "625/625 [==============================] - 25s 40ms/step - loss: 0.0793 - accuracy: 0.9750 - val_loss: 1.6034 - val_accuracy: 0.7185\n",
            "Epoch 57/120\n",
            "625/625 [==============================] - 25s 40ms/step - loss: 0.0662 - accuracy: 0.9790 - val_loss: 1.5922 - val_accuracy: 0.7246\n",
            "Epoch 58/120\n",
            "625/625 [==============================] - 25s 40ms/step - loss: 0.0351 - accuracy: 0.9881 - val_loss: 1.6306 - val_accuracy: 0.7257\n",
            "Epoch 59/120\n",
            "625/625 [==============================] - 25s 40ms/step - loss: 0.0241 - accuracy: 0.9920 - val_loss: 1.7337 - val_accuracy: 0.7364\n",
            "Epoch 60/120\n",
            "625/625 [==============================] - 25s 40ms/step - loss: 0.0491 - accuracy: 0.9842 - val_loss: 1.6588 - val_accuracy: 0.7285\n",
            "Epoch 61/120\n",
            "625/625 [==============================] - 25s 40ms/step - loss: 0.0788 - accuracy: 0.9751 - val_loss: 1.4822 - val_accuracy: 0.7062\n",
            "Epoch 62/120\n",
            "625/625 [==============================] - 25s 40ms/step - loss: 0.0421 - accuracy: 0.9858 - val_loss: 1.5249 - val_accuracy: 0.7386\n",
            "Epoch 63/120\n",
            "625/625 [==============================] - 25s 40ms/step - loss: 0.0328 - accuracy: 0.9898 - val_loss: 1.4914 - val_accuracy: 0.7336\n",
            "Epoch 64/120\n",
            "625/625 [==============================] - 25s 40ms/step - loss: 0.0911 - accuracy: 0.9737 - val_loss: 2.0371 - val_accuracy: 0.6705\n",
            "Epoch 65/120\n",
            "625/625 [==============================] - 25s 40ms/step - loss: 0.0467 - accuracy: 0.9855 - val_loss: 1.5971 - val_accuracy: 0.7289\n",
            "Epoch 66/120\n",
            "625/625 [==============================] - 25s 40ms/step - loss: 0.0277 - accuracy: 0.9906 - val_loss: 1.6555 - val_accuracy: 0.7370\n",
            "Epoch 67/120\n",
            "625/625 [==============================] - 25s 40ms/step - loss: 0.0459 - accuracy: 0.9861 - val_loss: 1.6900 - val_accuracy: 0.7056\n",
            "Epoch 68/120\n",
            "625/625 [==============================] - 25s 40ms/step - loss: 0.0592 - accuracy: 0.9812 - val_loss: 1.5070 - val_accuracy: 0.7289\n",
            "Epoch 69/120\n",
            "625/625 [==============================] - 25s 40ms/step - loss: 0.0472 - accuracy: 0.9857 - val_loss: 1.4729 - val_accuracy: 0.7328\n",
            "Epoch 70/120\n",
            "625/625 [==============================] - 25s 40ms/step - loss: 0.0322 - accuracy: 0.9894 - val_loss: 1.8359 - val_accuracy: 0.7038\n",
            "Epoch 71/120\n",
            "625/625 [==============================] - 25s 40ms/step - loss: 0.0355 - accuracy: 0.9883 - val_loss: 1.6239 - val_accuracy: 0.7202\n",
            "Epoch 72/120\n",
            "625/625 [==============================] - 25s 40ms/step - loss: 0.0383 - accuracy: 0.9876 - val_loss: 1.7797 - val_accuracy: 0.7131\n",
            "Epoch 73/120\n",
            "625/625 [==============================] - 25s 41ms/step - loss: 0.0379 - accuracy: 0.9869 - val_loss: 1.5739 - val_accuracy: 0.7271\n",
            "Epoch 74/120\n",
            "625/625 [==============================] - 26s 41ms/step - loss: 0.0359 - accuracy: 0.9881 - val_loss: 1.6908 - val_accuracy: 0.7214\n",
            "Epoch 75/120\n",
            "625/625 [==============================] - 26s 41ms/step - loss: 0.0454 - accuracy: 0.9865 - val_loss: 4.0384 - val_accuracy: 0.5719\n",
            "Epoch 76/120\n",
            "625/625 [==============================] - 26s 41ms/step - loss: 0.0857 - accuracy: 0.9732 - val_loss: 1.5195 - val_accuracy: 0.7391\n",
            "Epoch 77/120\n",
            "625/625 [==============================] - 25s 41ms/step - loss: 0.0218 - accuracy: 0.9932 - val_loss: 1.6228 - val_accuracy: 0.7376\n",
            "Epoch 78/120\n",
            "625/625 [==============================] - 25s 41ms/step - loss: 0.0272 - accuracy: 0.9912 - val_loss: 1.6607 - val_accuracy: 0.7369\n",
            "Epoch 79/120\n",
            "625/625 [==============================] - 25s 41ms/step - loss: 0.0264 - accuracy: 0.9919 - val_loss: 1.6419 - val_accuracy: 0.7412\n",
            "Epoch 80/120\n",
            "625/625 [==============================] - 25s 41ms/step - loss: 0.0323 - accuracy: 0.9890 - val_loss: 1.7178 - val_accuracy: 0.7142\n",
            "Epoch 81/120\n",
            "625/625 [==============================] - 25s 40ms/step - loss: 0.0285 - accuracy: 0.9908 - val_loss: 1.5270 - val_accuracy: 0.7399\n",
            "Epoch 82/120\n",
            "625/625 [==============================] - 25s 41ms/step - loss: 0.0339 - accuracy: 0.9890 - val_loss: 1.8553 - val_accuracy: 0.7080\n",
            "Epoch 83/120\n",
            "625/625 [==============================] - 26s 41ms/step - loss: 0.0268 - accuracy: 0.9907 - val_loss: 1.9067 - val_accuracy: 0.6985\n",
            "Epoch 84/120\n",
            "625/625 [==============================] - 26s 41ms/step - loss: 0.0279 - accuracy: 0.9911 - val_loss: 1.9944 - val_accuracy: 0.7033\n",
            "Epoch 85/120\n",
            "625/625 [==============================] - 26s 41ms/step - loss: 0.0359 - accuracy: 0.9875 - val_loss: 1.8369 - val_accuracy: 0.7009\n",
            "Epoch 86/120\n",
            "625/625 [==============================] - 26s 41ms/step - loss: 0.0703 - accuracy: 0.9784 - val_loss: 1.5031 - val_accuracy: 0.7274\n",
            "Epoch 87/120\n",
            "625/625 [==============================] - 25s 40ms/step - loss: 0.0224 - accuracy: 0.9934 - val_loss: 1.8304 - val_accuracy: 0.7250\n",
            "Epoch 88/120\n",
            "625/625 [==============================] - 26s 41ms/step - loss: 0.0219 - accuracy: 0.9923 - val_loss: 1.8303 - val_accuracy: 0.7156\n",
            "Epoch 89/120\n",
            "625/625 [==============================] - 26s 41ms/step - loss: 0.0219 - accuracy: 0.9933 - val_loss: 1.7299 - val_accuracy: 0.7342\n",
            "Epoch 90/120\n",
            "625/625 [==============================] - 25s 41ms/step - loss: 0.0266 - accuracy: 0.9911 - val_loss: 1.7844 - val_accuracy: 0.7270\n",
            "Epoch 91/120\n",
            "625/625 [==============================] - 25s 41ms/step - loss: 0.0300 - accuracy: 0.9902 - val_loss: 1.8503 - val_accuracy: 0.7124\n",
            "Epoch 92/120\n",
            "625/625 [==============================] - 25s 40ms/step - loss: 0.0273 - accuracy: 0.9913 - val_loss: 1.6278 - val_accuracy: 0.7353\n",
            "Epoch 93/120\n",
            "625/625 [==============================] - 25s 40ms/step - loss: 0.0256 - accuracy: 0.9915 - val_loss: 1.8008 - val_accuracy: 0.7234\n",
            "Epoch 94/120\n",
            "625/625 [==============================] - 25s 40ms/step - loss: 0.0450 - accuracy: 0.9865 - val_loss: 1.6734 - val_accuracy: 0.7285\n",
            "Epoch 95/120\n",
            "625/625 [==============================] - 25s 40ms/step - loss: 0.0238 - accuracy: 0.9933 - val_loss: 1.7439 - val_accuracy: 0.7399\n",
            "Epoch 96/120\n",
            "625/625 [==============================] - 25s 40ms/step - loss: 0.0253 - accuracy: 0.9919 - val_loss: 1.8572 - val_accuracy: 0.7209\n",
            "Epoch 97/120\n",
            "625/625 [==============================] - 25s 40ms/step - loss: 0.0270 - accuracy: 0.9911 - val_loss: 1.7342 - val_accuracy: 0.7171\n",
            "Epoch 98/120\n",
            "625/625 [==============================] - 25s 40ms/step - loss: 0.0263 - accuracy: 0.9918 - val_loss: 1.8792 - val_accuracy: 0.7103\n",
            "Epoch 99/120\n",
            "625/625 [==============================] - 25s 40ms/step - loss: 0.0416 - accuracy: 0.9870 - val_loss: 1.5346 - val_accuracy: 0.7253\n",
            "Epoch 100/120\n",
            "625/625 [==============================] - 25s 41ms/step - loss: 0.0156 - accuracy: 0.9948 - val_loss: 1.7909 - val_accuracy: 0.7302\n",
            "Epoch 101/120\n",
            "625/625 [==============================] - 25s 40ms/step - loss: 0.0228 - accuracy: 0.9928 - val_loss: 1.7786 - val_accuracy: 0.7242\n",
            "Epoch 102/120\n",
            "625/625 [==============================] - 25s 40ms/step - loss: 0.0214 - accuracy: 0.9932 - val_loss: 1.7086 - val_accuracy: 0.7249\n",
            "Epoch 103/120\n",
            "625/625 [==============================] - 25s 40ms/step - loss: 0.0232 - accuracy: 0.9928 - val_loss: 1.7792 - val_accuracy: 0.7272\n",
            "Epoch 104/120\n",
            "625/625 [==============================] - 25s 40ms/step - loss: 0.0523 - accuracy: 0.9844 - val_loss: 1.8954 - val_accuracy: 0.7295\n",
            "Epoch 105/120\n",
            "625/625 [==============================] - 25s 41ms/step - loss: 0.0237 - accuracy: 0.9923 - val_loss: 1.7325 - val_accuracy: 0.7376\n",
            "Epoch 106/120\n",
            "625/625 [==============================] - 25s 40ms/step - loss: 0.0237 - accuracy: 0.9932 - val_loss: 1.9972 - val_accuracy: 0.7234\n",
            "Epoch 107/120\n",
            "625/625 [==============================] - 25s 41ms/step - loss: 0.0196 - accuracy: 0.9941 - val_loss: 1.7132 - val_accuracy: 0.7337\n",
            "Epoch 108/120\n",
            "625/625 [==============================] - 25s 41ms/step - loss: 0.0139 - accuracy: 0.9957 - val_loss: 1.7691 - val_accuracy: 0.7445\n",
            "Epoch 109/120\n",
            "625/625 [==============================] - 25s 41ms/step - loss: 0.0192 - accuracy: 0.9940 - val_loss: 1.7047 - val_accuracy: 0.7335\n",
            "Epoch 110/120\n",
            "625/625 [==============================] - 26s 41ms/step - loss: 0.0257 - accuracy: 0.9915 - val_loss: 1.7315 - val_accuracy: 0.7279\n",
            "Epoch 111/120\n",
            "625/625 [==============================] - 26s 41ms/step - loss: 0.0276 - accuracy: 0.9915 - val_loss: 1.7495 - val_accuracy: 0.7174\n",
            "Epoch 112/120\n",
            "625/625 [==============================] - 26s 41ms/step - loss: 0.0196 - accuracy: 0.9931 - val_loss: 1.8812 - val_accuracy: 0.7031\n",
            "Epoch 113/120\n",
            "625/625 [==============================] - 26s 41ms/step - loss: 0.0323 - accuracy: 0.9897 - val_loss: 1.9809 - val_accuracy: 0.7287\n",
            "Epoch 114/120\n",
            "625/625 [==============================] - 26s 41ms/step - loss: 0.0169 - accuracy: 0.9941 - val_loss: 2.1087 - val_accuracy: 0.7133\n",
            "Epoch 115/120\n",
            "625/625 [==============================] - 26s 41ms/step - loss: 0.0149 - accuracy: 0.9951 - val_loss: 2.1093 - val_accuracy: 0.7283\n",
            "Epoch 116/120\n",
            "625/625 [==============================] - 26s 41ms/step - loss: 0.0194 - accuracy: 0.9937 - val_loss: 1.7580 - val_accuracy: 0.7422\n",
            "Epoch 117/120\n",
            "625/625 [==============================] - 26s 41ms/step - loss: 0.0193 - accuracy: 0.9934 - val_loss: 1.8811 - val_accuracy: 0.7346\n",
            "Epoch 118/120\n",
            "625/625 [==============================] - 26s 41ms/step - loss: 0.0208 - accuracy: 0.9930 - val_loss: 1.6392 - val_accuracy: 0.7399\n",
            "Epoch 119/120\n",
            "625/625 [==============================] - 26s 41ms/step - loss: 0.0184 - accuracy: 0.9941 - val_loss: 2.0201 - val_accuracy: 0.7295\n",
            "Epoch 120/120\n",
            "625/625 [==============================] - 26s 41ms/step - loss: 0.0182 - accuracy: 0.9938 - val_loss: 1.8094 - val_accuracy: 0.7280\n"
          ],
          "name": "stdout"
        }
      ]
    },
    {
      "cell_type": "code",
      "metadata": {
        "id": "WLGqzqbNzgqy",
        "colab_type": "code",
        "colab": {
          "base_uri": "https://localhost:8080/",
          "height": 368
        },
        "outputId": "df7d2340-ef36-4bf7-cfd2-534a8c979f7f"
      },
      "source": [
        "# Plot train and validation curves\n",
        "loss = history.history['loss']\n",
        "v_loss = history.history['val_loss']\n",
        "\n",
        "acc = history.history['accuracy']\n",
        "v_acc = history.history['val_accuracy']\n",
        "\n",
        "epochs = range(len(loss))\n",
        "\n",
        "fig = plt.figure(figsize=(9, 5))\n",
        "plt.subplot(1, 2, 1)\n",
        "plt.yscale('log')\n",
        "plt.plot(epochs, loss, linestyle='--', linewidth=3, color='orange', alpha=0.7, label='Train Loss')\n",
        "plt.plot(epochs, v_loss, linestyle='-.', linewidth=2, color='lime', alpha=0.8, label='Valid Loss')\n",
        "plt.ylim(0.3, 100)\n",
        "plt.xlabel('Epochs', fontsize=11)\n",
        "plt.ylabel('Loss', fontsize=12)\n",
        "plt.legend(fontsize=12)\n",
        "plt.subplot(1, 2, 2)\n",
        "plt.plot(epochs, acc, linestyle='--', linewidth=3, color='orange', alpha=0.7, label='Train Acc')\n",
        "plt.plot(epochs, v_acc, linestyle='-.', linewidth=2, color='lime', alpha=0.8, label='Valid Acc') \n",
        "plt.xlabel('Epochs', fontsize=11)\n",
        "plt.ylabel('Accuracy', fontsize=12)\n",
        "plt.legend(fontsize=12)\n",
        "plt.tight_layout()\n",
        "plt.savefig('/content/drive/My Drive/Colab Notebooks/IDL course OvGU/Task2_accuracy_adam_res.png', dpi=250)\n",
        "plt.show()"
      ],
      "execution_count": null,
      "outputs": [
        {
          "output_type": "display_data",
          "data": {
            "image/png": "[encoded data removed]",
            "text/plain": [
              "<Figure size 648x360 with 2 Axes>"
            ]
          },
          "metadata": {
            "tags": [],
            "needs_background": "light"
          }
        }
      ]
    },
    {
      "cell_type": "code",
      "metadata": {
        "id": "AgI-SfJhzp0A",
        "colab_type": "code",
        "colab": {
          "base_uri": "https://localhost:8080/",
          "height": 52
        },
        "outputId": "ad5dcbe3-eda2-451b-b5ee-041b267a352c"
      },
      "source": [
        "# Checking the performance on the test data \n",
        "test_result = resnet50_model.evaluate(test_images, test_lab_categorical, verbose=0)\n",
        "\n",
        "print (\"VGG loss: \", test_result[0])\n",
        "print (\"VGG accuracy: \", test_result[1])"
      ],
      "execution_count": null,
      "outputs": [
        {
          "output_type": "stream",
          "text": [
            "VGG loss:  1.85733163356781\n",
            "VGG accuracy:  0.723800003528595\n"
          ],
          "name": "stdout"
        }
      ]
    },
    {
      "cell_type": "markdown",
      "metadata": {
        "id": "VA7dOT3sv9G-",
        "colab_type": "text"
      },
      "source": [
        "## With regularization ResNet"
      ]
    },
    {
      "cell_type": "code",
      "metadata": {
        "id": "QwXTwPQuwee5",
        "colab_type": "code",
        "colab": {}
      },
      "source": [
        "(train_images, train_labels) , (test_images , test_labels) = datasets.cifar10.load_data()\n",
        "\n",
        "class_names = ['airplane', 'automobile', 'bird', 'cat', 'deer',\n",
        "               'dog', 'frog', 'horse', 'ship', 'truck']\n",
        "# print(train_labels.shape,test_labels.shape)\n",
        "\n",
        "\n",
        "train_images = train_images.astype(np.float32) / 255.0\n",
        "train_labels = train_labels.astype(np.int32)\n",
        "\n",
        "\n",
        "test_images = test_images.astype(np.float32) / 255.0\n",
        "test_labels = test_labels.astype(np.int32)"
      ],
      "execution_count": null,
      "outputs": []
    },
    {
      "cell_type": "code",
      "metadata": {
        "id": "lyDsgYW9RHgG",
        "colab_type": "code",
        "colab": {}
      },
      "source": [
        "### One hot encoding for labels \n",
        "\n",
        "train_lab_categorical = tf.keras.utils.to_categorical(\n",
        "    train_labels, num_classes=10, dtype='uint8')\n",
        "\n",
        "test_lab_categorical = tf.keras.utils.to_categorical(\n",
        "    test_labels, num_classes=10, dtype='uint8')"
      ],
      "execution_count": null,
      "outputs": []
    },
    {
      "cell_type": "code",
      "metadata": {
        "id": "muT6TNw3yU0K",
        "colab_type": "code",
        "colab": {
          "base_uri": "https://localhost:8080/",
          "height": 70
        },
        "outputId": "973d4f60-a734-4c4e-e041-f786bb1c5677"
      },
      "source": [
        "# Train -test split \n",
        "\n",
        "from sklearn.model_selection import train_test_split \n",
        "train_img, valid_img, train_label, valid_label = train_test_split(train_images, train_lab_categorical, test_size=0.20, \n",
        "                                                            stratify=train_lab_categorical,random_state=40,shuffle = True)\n",
        "\n",
        "print (\"train data shape after the split: \", train_img.shape)\n",
        "print ('validation data shape: ', valid_img.shape)\n",
        "print (\"validation labels shape: \", valid_label.shape)"
      ],
      "execution_count": null,
      "outputs": [
        {
          "output_type": "stream",
          "text": [
            "train data shape after the split:  (40000, 32, 32, 3)\n",
            "validation data shape:  (10000, 32, 32, 3)\n",
            "validation labels shape:  (10000, 10)\n"
          ],
          "name": "stdout"
        }
      ]
    },
    {
      "cell_type": "code",
      "metadata": {
        "id": "R0d6Iq3ryYqY",
        "colab_type": "code",
        "colab": {}
      },
      "source": [
        "#  Including Data Augmentation \n",
        "batch_size = 64 \n",
        "\n",
        "train_DataGen = tf.keras.preprocessing.image.ImageDataGenerator(zoom_range=0.2, \n",
        "                                                                width_shift_range=0.1, \n",
        "                                                                height_shift_range = 0.1, \n",
        "                                                                horizontal_flip=True)\n",
        " \n",
        "valid_datagen = tf.keras.preprocessing.image.ImageDataGenerator()\n",
        "\n",
        "train_set_conv = train_DataGen.flow(train_img, train_label, batch_size=batch_size) \n",
        "valid_set_conv = valid_datagen.flow(valid_img, valid_label, batch_size=batch_size) "
      ],
      "execution_count": null,
      "outputs": []
    },
    {
      "cell_type": "code",
      "metadata": {
        "id": "F88u-j5hyhHZ",
        "colab_type": "code",
        "colab": {}
      },
      "source": [
        "# Reference from https://github.com/suvoooo/Learn-TensorFlow/blob/master/resnet/Implement_Resnet_TensorFlow.ipynb\n",
        "\n",
        "# ResNet-50\n",
        "\n",
        "def resnet_identity(x, filters): \n",
        "\n",
        "  x_skip = x # this will be used for addition with the residual block \n",
        "  f1, f2 = filters\n",
        "\n",
        "  #first block \n",
        "  x = Conv2D(f1, kernel_size=(1, 1), strides=(1, 1), padding='valid', kernel_regularizer=l2(0.001))(x)\n",
        "  x = BatchNormalization()(x)\n",
        "  x = Activation(activations.relu)(x)\n",
        "\n",
        "  #second block # bottleneck (but size kept same with padding)\n",
        "  x = Conv2D(f1, kernel_size=(3, 3), strides=(1, 1), padding='same', kernel_regularizer=l2(0.001))(x)\n",
        "  x = BatchNormalization()(x)\n",
        "  x = Activation(activations.relu)(x)\n",
        "\n",
        "  # third block activation used after adding the input\n",
        "  x = Conv2D(f2, kernel_size=(1, 1), strides=(1, 1), padding='valid', kernel_regularizer=l2(0.001))(x)\n",
        "  x = BatchNormalization()(x)\n",
        "  # x = Activation(activations.relu)(x)\n",
        "\n",
        "  # add the input \n",
        "  x = Add()([x, x_skip])\n",
        "  x = Activation(activations.relu)(x)\n",
        "\n",
        "  return x\n"
      ],
      "execution_count": null,
      "outputs": []
    },
    {
      "cell_type": "code",
      "metadata": {
        "id": "w_necoI1ywQ9",
        "colab_type": "code",
        "colab": {}
      },
      "source": [
        "def resnet_conv(x, s, filters):\n",
        "  '''\n",
        "  here the input size changes, when it goes via conv blocks\n",
        "  so the skip connection uses a projection (conv layer) matrix\n",
        "  ''' \n",
        "  x_skip = x\n",
        "  f1, f2 = filters\n",
        "\n",
        "  # first block\n",
        "  x = Conv2D(f1, kernel_size=(1, 1), strides=(s, s), padding='valid', kernel_regularizer=l2(0.001))(x) \n",
        "  x = BatchNormalization()(x)\n",
        "  x = Activation(activations.relu)(x)\n",
        "\n",
        "  # second block\n",
        "  x = Conv2D(f1, kernel_size=(3, 3), strides=(1, 1), padding='same', kernel_regularizer=l2(0.001))(x)\n",
        "  x = BatchNormalization()(x)\n",
        "  x = Activation(activations.relu)(x)\n",
        "\n",
        "  #third block\n",
        "  x = Conv2D(f2, kernel_size=(1, 1), strides=(1, 1), padding='valid', kernel_regularizer=l2(0.001))(x)\n",
        "  x = BatchNormalization()(x)\n",
        "\n",
        "  # shortcut \n",
        "  x_skip = Conv2D(f2, kernel_size=(1, 1), strides=(s, s), padding='valid', kernel_regularizer=l2(0.001))(x_skip)\n",
        "  x_skip = BatchNormalization()(x_skip)\n",
        "\n",
        "  # add \n",
        "  x = Add()([x, x_skip])\n",
        "  x = Activation(activations.relu)(x)\n",
        "\n",
        "  return x"
      ],
      "execution_count": null,
      "outputs": []
    },
    {
      "cell_type": "code",
      "metadata": {
        "id": "vLxfGE1dyxAZ",
        "colab_type": "code",
        "colab": {}
      },
      "source": [
        "def resnet50():\n",
        "\n",
        "  input_img = Input(shape=(train_img.shape[1], train_img.shape[2], train_img.shape[3])) # cifar 10 images size\n",
        "  x = ZeroPadding2D(padding=(3, 3))(input_img)\n",
        "\n",
        "  # 1st stage\n",
        "  x = Conv2D(64, kernel_size=(7, 7), strides=(2, 2))(x)\n",
        "  x = BatchNormalization()(x)\n",
        "  x = Activation(activations.relu)(x)\n",
        "  x = MaxPooling2D((3, 3), strides=(2, 2))(x)\n",
        "\n",
        "  #2nd stage \n",
        "  x = resnet_conv(x, s=1, filters=(64, 256))\n",
        "  x = resnet_identity(x, filters=(64, 256))\n",
        "  x = resnet_identity(x, filters=(64, 256))\n",
        "\n",
        "  # 3rd stage\n",
        "\n",
        "  x = resnet_conv(x, s=2, filters=(128, 512))\n",
        "  x = resnet_identity(x, filters=(128, 512))\n",
        "  x = resnet_identity(x, filters=(128, 512))\n",
        "  x = resnet_identity(x, filters=(128, 512))\n",
        "\n",
        "  # 4th stage\n",
        "\n",
        "  x = resnet_conv(x, s=2, filters=(256, 1024))\n",
        "  x = resnet_identity(x, filters=(256, 1024))\n",
        "  x = resnet_identity(x, filters=(256, 1024))\n",
        "  x = resnet_identity(x, filters=(256, 1024))\n",
        "  x = resnet_identity(x, filters=(256, 1024))\n",
        "  x = resnet_identity(x, filters=(256, 1024))\n",
        "\n",
        "  # 5th stage\n",
        "\n",
        "  x = resnet_conv(x, s=2, filters=(512, 2048))\n",
        "  x = resnet_identity(x, filters=(512, 2048))\n",
        "  x = resnet_identity(x, filters=(512, 2048))\n",
        "\n",
        "  # ends with average pooling and dense connection\n",
        "\n",
        "  x = AveragePooling2D((2, 2), padding='same')(x)\n",
        "\n",
        "  x = Flatten()(x)\n",
        "  x = Dense(10, activation='softmax', kernel_initializer='he_normal')(x)\n",
        "\n",
        "  # define the model \n",
        "\n",
        "  model = Model(inputs=input_img, outputs=x, name='Resnet50')\n",
        "\n",
        "  return model"
      ],
      "execution_count": null,
      "outputs": []
    },
    {
      "cell_type": "code",
      "metadata": {
        "id": "YJoGYIhwy2BM",
        "colab_type": "code",
        "colab": {}
      },
      "source": [
        "resnet50_model = resnet50()\n",
        "# resnet50_model.summary()"
      ],
      "execution_count": null,
      "outputs": []
    },
    {
      "cell_type": "code",
      "metadata": {
        "id": "Pb3KhGMGzZuu",
        "colab_type": "code",
        "colab": {
          "base_uri": "https://localhost:8080/",
          "height": 1000
        },
        "outputId": "22b40b35-c4c9-4fc8-f1db-5cd63c0b3b92"
      },
      "source": [
        "learning_rate = 0.003\n",
        "adam = optimizers.Adam(lr=learning_rate)\n",
        "resnet50_model.compile(optimizer=adam, loss= 'categorical_crossentropy',metrics = ['accuracy'])\n",
        "\n",
        "history = resnet50_model.fit(train_set_conv, epochs=120, steps_per_epoch=train_img.shape[0]/batch_size, \n",
        "                                  validation_steps=valid_img.shape[0]/batch_size, validation_data=valid_set_conv)"
      ],
      "execution_count": null,
      "outputs": [
        {
          "output_type": "stream",
          "text": [
            "Epoch 1/120\n",
            "625/625 [==============================] - 33s 53ms/step - loss: 14.3497 - accuracy: 0.2050 - val_loss: 15.2767 - val_accuracy: 0.0971\n",
            "Epoch 2/120\n",
            "625/625 [==============================] - 32s 51ms/step - loss: 6.6409 - accuracy: 0.2920 - val_loss: 4256.6323 - val_accuracy: 0.1000\n",
            "Epoch 3/120\n",
            "625/625 [==============================] - 31s 50ms/step - loss: 5.9003 - accuracy: 0.2482 - val_loss: 4.2239 - val_accuracy: 0.2140\n",
            "Epoch 4/120\n",
            "625/625 [==============================] - 31s 50ms/step - loss: 3.9285 - accuracy: 0.3358 - val_loss: 3.0308 - val_accuracy: 0.3320\n",
            "Epoch 5/120\n",
            "625/625 [==============================] - 31s 49ms/step - loss: 3.9994 - accuracy: 0.3553 - val_loss: 3.5211 - val_accuracy: 0.2403\n",
            "Epoch 6/120\n",
            "625/625 [==============================] - 30s 48ms/step - loss: 3.2648 - accuracy: 0.3483 - val_loss: 10.7657 - val_accuracy: 0.1232\n",
            "Epoch 7/120\n",
            "625/625 [==============================] - 30s 48ms/step - loss: 2.9450 - accuracy: 0.3264 - val_loss: 4.2225 - val_accuracy: 0.0707\n",
            "Epoch 8/120\n",
            "625/625 [==============================] - 30s 48ms/step - loss: 2.5818 - accuracy: 0.3308 - val_loss: 2.4484 - val_accuracy: 0.2682\n",
            "Epoch 9/120\n",
            "625/625 [==============================] - 30s 48ms/step - loss: 2.2068 - accuracy: 0.3765 - val_loss: 5283.0664 - val_accuracy: 0.1000\n",
            "Epoch 10/120\n",
            "625/625 [==============================] - 30s 48ms/step - loss: 2.0827 - accuracy: 0.3881 - val_loss: 3.2231 - val_accuracy: 0.3137\n",
            "Epoch 11/120\n",
            "625/625 [==============================] - 30s 48ms/step - loss: 1.9829 - accuracy: 0.4137 - val_loss: 2.0099 - val_accuracy: 0.3674\n",
            "Epoch 12/120\n",
            "625/625 [==============================] - 30s 48ms/step - loss: 1.9258 - accuracy: 0.4401 - val_loss: 1.9254 - val_accuracy: 0.4143\n",
            "Epoch 13/120\n",
            "625/625 [==============================] - 30s 48ms/step - loss: 1.8226 - accuracy: 0.4732 - val_loss: 2.3743 - val_accuracy: 0.3267\n",
            "Epoch 14/120\n",
            "625/625 [==============================] - 30s 48ms/step - loss: 1.7437 - accuracy: 0.5053 - val_loss: 2.4951 - val_accuracy: 0.3328\n",
            "Epoch 15/120\n",
            "625/625 [==============================] - 30s 48ms/step - loss: 1.6399 - accuracy: 0.5328 - val_loss: 1.8426 - val_accuracy: 0.4828\n",
            "Epoch 16/120\n",
            "625/625 [==============================] - 30s 48ms/step - loss: 1.5537 - accuracy: 0.5490 - val_loss: 1.7353 - val_accuracy: 0.4915\n",
            "Epoch 17/120\n",
            "625/625 [==============================] - 30s 48ms/step - loss: 1.4913 - accuracy: 0.5660 - val_loss: 3.7348 - val_accuracy: 0.2427\n",
            "Epoch 18/120\n",
            "625/625 [==============================] - 30s 48ms/step - loss: 1.4518 - accuracy: 0.5760 - val_loss: 1.6128 - val_accuracy: 0.5152\n",
            "Epoch 19/120\n",
            "625/625 [==============================] - 30s 48ms/step - loss: 1.4043 - accuracy: 0.5879 - val_loss: 1.4043 - val_accuracy: 0.6013\n",
            "Epoch 20/120\n",
            "625/625 [==============================] - 30s 47ms/step - loss: 1.3660 - accuracy: 0.5959 - val_loss: 1.7173 - val_accuracy: 0.4721\n",
            "Epoch 21/120\n",
            "625/625 [==============================] - 30s 48ms/step - loss: 1.3551 - accuracy: 0.6011 - val_loss: 2.3158 - val_accuracy: 0.3693\n",
            "Epoch 22/120\n",
            "625/625 [==============================] - 30s 48ms/step - loss: 1.3189 - accuracy: 0.6098 - val_loss: 1.5696 - val_accuracy: 0.5311\n",
            "Epoch 23/120\n",
            "625/625 [==============================] - 30s 48ms/step - loss: 1.3086 - accuracy: 0.6109 - val_loss: 1.5018 - val_accuracy: 0.5542\n",
            "Epoch 24/120\n",
            "625/625 [==============================] - 30s 48ms/step - loss: 1.2946 - accuracy: 0.6177 - val_loss: 1.3822 - val_accuracy: 0.5968\n",
            "Epoch 25/120\n",
            "625/625 [==============================] - 30s 48ms/step - loss: 1.2847 - accuracy: 0.6210 - val_loss: 1.3953 - val_accuracy: 0.5731\n",
            "Epoch 26/120\n",
            "625/625 [==============================] - 30s 48ms/step - loss: 1.2736 - accuracy: 0.6256 - val_loss: 1.9715 - val_accuracy: 0.4463\n",
            "Epoch 27/120\n",
            "625/625 [==============================] - 30s 48ms/step - loss: 1.2533 - accuracy: 0.6291 - val_loss: 1.4934 - val_accuracy: 0.5799\n",
            "Epoch 28/120\n",
            "625/625 [==============================] - 30s 47ms/step - loss: 1.2481 - accuracy: 0.6324 - val_loss: 3.6214 - val_accuracy: 0.3000\n",
            "Epoch 29/120\n",
            "625/625 [==============================] - 30s 48ms/step - loss: 1.2495 - accuracy: 0.6321 - val_loss: 1.5198 - val_accuracy: 0.5328\n",
            "Epoch 30/120\n",
            "625/625 [==============================] - 30s 47ms/step - loss: 1.2405 - accuracy: 0.6357 - val_loss: 1.4592 - val_accuracy: 0.5748\n",
            "Epoch 31/120\n",
            "625/625 [==============================] - 30s 48ms/step - loss: 1.2277 - accuracy: 0.6392 - val_loss: 1.4191 - val_accuracy: 0.5680\n",
            "Epoch 32/120\n",
            "625/625 [==============================] - 30s 48ms/step - loss: 1.2182 - accuracy: 0.6400 - val_loss: 1.7423 - val_accuracy: 0.5220\n",
            "Epoch 33/120\n",
            "625/625 [==============================] - 30s 47ms/step - loss: 1.2110 - accuracy: 0.6411 - val_loss: 1.4204 - val_accuracy: 0.5823\n",
            "Epoch 34/120\n",
            "625/625 [==============================] - 30s 48ms/step - loss: 1.2177 - accuracy: 0.6425 - val_loss: 1.4445 - val_accuracy: 0.5884\n",
            "Epoch 35/120\n",
            "625/625 [==============================] - 30s 48ms/step - loss: 1.2056 - accuracy: 0.6453 - val_loss: 1.2627 - val_accuracy: 0.6301\n",
            "Epoch 36/120\n",
            "625/625 [==============================] - 30s 47ms/step - loss: 1.2044 - accuracy: 0.6456 - val_loss: 1.2514 - val_accuracy: 0.6400\n",
            "Epoch 37/120\n",
            "625/625 [==============================] - 30s 47ms/step - loss: 1.1969 - accuracy: 0.6484 - val_loss: 1.7128 - val_accuracy: 0.5376\n",
            "Epoch 38/120\n",
            "625/625 [==============================] - 30s 47ms/step - loss: 1.2037 - accuracy: 0.6479 - val_loss: 1.3508 - val_accuracy: 0.6182\n",
            "Epoch 39/120\n",
            "625/625 [==============================] - 30s 47ms/step - loss: 1.1786 - accuracy: 0.6524 - val_loss: 1.3909 - val_accuracy: 0.5825\n",
            "Epoch 40/120\n",
            "625/625 [==============================] - 30s 47ms/step - loss: 1.1957 - accuracy: 0.6507 - val_loss: 1.3503 - val_accuracy: 0.6008\n",
            "Epoch 41/120\n",
            "625/625 [==============================] - 30s 47ms/step - loss: 1.1905 - accuracy: 0.6532 - val_loss: 1.4957 - val_accuracy: 0.5693\n",
            "Epoch 42/120\n",
            "625/625 [==============================] - 30s 47ms/step - loss: 1.1759 - accuracy: 0.6549 - val_loss: 1.7692 - val_accuracy: 0.4912\n",
            "Epoch 43/120\n",
            "625/625 [==============================] - 30s 48ms/step - loss: 1.1946 - accuracy: 0.6545 - val_loss: 1.3275 - val_accuracy: 0.6183\n",
            "Epoch 44/120\n",
            "625/625 [==============================] - 30s 48ms/step - loss: 1.1874 - accuracy: 0.6549 - val_loss: 1.3412 - val_accuracy: 0.6134\n",
            "Epoch 45/120\n",
            "625/625 [==============================] - 30s 49ms/step - loss: 1.1697 - accuracy: 0.6614 - val_loss: 1.3174 - val_accuracy: 0.6112\n",
            "Epoch 46/120\n",
            "625/625 [==============================] - 31s 49ms/step - loss: 1.1680 - accuracy: 0.6615 - val_loss: 1.3959 - val_accuracy: 0.5927\n",
            "Epoch 47/120\n",
            "625/625 [==============================] - 30s 49ms/step - loss: 1.1764 - accuracy: 0.6575 - val_loss: 1.4322 - val_accuracy: 0.5910\n",
            "Epoch 48/120\n",
            "625/625 [==============================] - 31s 49ms/step - loss: 1.1727 - accuracy: 0.6603 - val_loss: 1.3426 - val_accuracy: 0.6069\n",
            "Epoch 49/120\n",
            "625/625 [==============================] - 31s 50ms/step - loss: 1.1759 - accuracy: 0.6594 - val_loss: 1.5332 - val_accuracy: 0.5723\n",
            "Epoch 50/120\n",
            "625/625 [==============================] - 31s 50ms/step - loss: 1.1634 - accuracy: 0.6636 - val_loss: 1.4436 - val_accuracy: 0.5906\n",
            "Epoch 51/120\n",
            "625/625 [==============================] - 31s 49ms/step - loss: 1.1590 - accuracy: 0.6654 - val_loss: 1.3259 - val_accuracy: 0.6050\n",
            "Epoch 52/120\n",
            "625/625 [==============================] - 30s 48ms/step - loss: 1.1559 - accuracy: 0.6647 - val_loss: 1.3407 - val_accuracy: 0.6097\n",
            "Epoch 53/120\n",
            "625/625 [==============================] - 30s 48ms/step - loss: 1.1388 - accuracy: 0.6672 - val_loss: 1.1488 - val_accuracy: 0.6671\n",
            "Epoch 54/120\n",
            "625/625 [==============================] - 30s 48ms/step - loss: 1.1552 - accuracy: 0.6654 - val_loss: 1.2616 - val_accuracy: 0.6365\n",
            "Epoch 55/120\n",
            "625/625 [==============================] - 30s 48ms/step - loss: 1.1509 - accuracy: 0.6691 - val_loss: 1.4492 - val_accuracy: 0.5736\n",
            "Epoch 56/120\n",
            "625/625 [==============================] - 30s 48ms/step - loss: 1.1400 - accuracy: 0.6715 - val_loss: 1.1906 - val_accuracy: 0.6471\n",
            "Epoch 57/120\n",
            "625/625 [==============================] - 30s 47ms/step - loss: 1.1457 - accuracy: 0.6680 - val_loss: 1.3080 - val_accuracy: 0.6318\n",
            "Epoch 58/120\n",
            "625/625 [==============================] - 30s 48ms/step - loss: 1.1444 - accuracy: 0.6711 - val_loss: 1.4361 - val_accuracy: 0.5809\n",
            "Epoch 59/120\n",
            "625/625 [==============================] - 30s 48ms/step - loss: 1.1453 - accuracy: 0.6724 - val_loss: 1.3833 - val_accuracy: 0.6045\n",
            "Epoch 60/120\n",
            "625/625 [==============================] - 30s 47ms/step - loss: 1.1387 - accuracy: 0.6758 - val_loss: 1.2383 - val_accuracy: 0.6425\n",
            "Epoch 61/120\n",
            "625/625 [==============================] - 30s 47ms/step - loss: 1.1452 - accuracy: 0.6726 - val_loss: 1.3702 - val_accuracy: 0.6149\n",
            "Epoch 62/120\n",
            "625/625 [==============================] - 30s 47ms/step - loss: 1.1413 - accuracy: 0.6729 - val_loss: 1.3756 - val_accuracy: 0.5937\n",
            "Epoch 63/120\n",
            "625/625 [==============================] - 30s 47ms/step - loss: 1.1390 - accuracy: 0.6745 - val_loss: 1.2926 - val_accuracy: 0.6244\n",
            "Epoch 64/120\n",
            "625/625 [==============================] - 30s 47ms/step - loss: 1.1331 - accuracy: 0.6745 - val_loss: 1.2262 - val_accuracy: 0.6484\n",
            "Epoch 65/120\n",
            "625/625 [==============================] - 30s 48ms/step - loss: 1.1337 - accuracy: 0.6723 - val_loss: 1.2167 - val_accuracy: 0.6383\n",
            "Epoch 66/120\n",
            "625/625 [==============================] - 30s 48ms/step - loss: 1.1336 - accuracy: 0.6750 - val_loss: 1.2311 - val_accuracy: 0.6312\n",
            "Epoch 67/120\n",
            "625/625 [==============================] - 30s 47ms/step - loss: 1.1283 - accuracy: 0.6768 - val_loss: 1.3672 - val_accuracy: 0.6036\n",
            "Epoch 68/120\n",
            "625/625 [==============================] - 30s 47ms/step - loss: 1.1273 - accuracy: 0.6756 - val_loss: 1.2694 - val_accuracy: 0.6312\n",
            "Epoch 69/120\n",
            "625/625 [==============================] - 30s 47ms/step - loss: 1.1265 - accuracy: 0.6750 - val_loss: 1.5137 - val_accuracy: 0.5824\n",
            "Epoch 70/120\n",
            "625/625 [==============================] - 30s 47ms/step - loss: 1.1403 - accuracy: 0.6745 - val_loss: 1.5105 - val_accuracy: 0.5805\n",
            "Epoch 71/120\n",
            "625/625 [==============================] - 29s 47ms/step - loss: 1.1259 - accuracy: 0.6750 - val_loss: 1.2025 - val_accuracy: 0.6513\n",
            "Epoch 72/120\n",
            "625/625 [==============================] - 30s 47ms/step - loss: 1.1215 - accuracy: 0.6761 - val_loss: 1.4730 - val_accuracy: 0.5767\n",
            "Epoch 73/120\n",
            "625/625 [==============================] - 30s 47ms/step - loss: 1.1146 - accuracy: 0.6815 - val_loss: 1.4168 - val_accuracy: 0.5944\n",
            "Epoch 74/120\n",
            "625/625 [==============================] - 30s 47ms/step - loss: 1.1306 - accuracy: 0.6777 - val_loss: 1.7025 - val_accuracy: 0.5409\n",
            "Epoch 75/120\n",
            "625/625 [==============================] - 30s 48ms/step - loss: 1.1234 - accuracy: 0.6811 - val_loss: 1.7099 - val_accuracy: 0.5126\n",
            "Epoch 76/120\n",
            "625/625 [==============================] - 30s 48ms/step - loss: 1.1010 - accuracy: 0.6825 - val_loss: 1.4969 - val_accuracy: 0.5659\n",
            "Epoch 77/120\n",
            "625/625 [==============================] - 29s 47ms/step - loss: 1.1263 - accuracy: 0.6823 - val_loss: 1.3456 - val_accuracy: 0.6283\n",
            "Epoch 78/120\n",
            "625/625 [==============================] - 30s 47ms/step - loss: 1.1221 - accuracy: 0.6826 - val_loss: 1.3629 - val_accuracy: 0.5881\n",
            "Epoch 79/120\n",
            "625/625 [==============================] - 30s 47ms/step - loss: 1.1117 - accuracy: 0.6854 - val_loss: 1.5203 - val_accuracy: 0.5608\n",
            "Epoch 80/120\n",
            "625/625 [==============================] - 29s 47ms/step - loss: 1.1121 - accuracy: 0.6826 - val_loss: 1.3560 - val_accuracy: 0.6091\n",
            "Epoch 81/120\n",
            "625/625 [==============================] - 30s 47ms/step - loss: 1.1250 - accuracy: 0.6817 - val_loss: 1.4456 - val_accuracy: 0.5807\n",
            "Epoch 82/120\n",
            "625/625 [==============================] - 29s 47ms/step - loss: 1.1178 - accuracy: 0.6855 - val_loss: 1.6271 - val_accuracy: 0.5587\n",
            "Epoch 83/120\n",
            "625/625 [==============================] - 30s 47ms/step - loss: 1.1206 - accuracy: 0.6821 - val_loss: 1.2543 - val_accuracy: 0.6408\n",
            "Epoch 84/120\n",
            "625/625 [==============================] - 30s 47ms/step - loss: 1.1162 - accuracy: 0.6836 - val_loss: 1.5480 - val_accuracy: 0.5654\n",
            "Epoch 85/120\n",
            "625/625 [==============================] - 30s 47ms/step - loss: 1.1183 - accuracy: 0.6840 - val_loss: 1.2340 - val_accuracy: 0.6367\n",
            "Epoch 86/120\n",
            "625/625 [==============================] - 30s 48ms/step - loss: 1.1107 - accuracy: 0.6844 - val_loss: 1.4718 - val_accuracy: 0.5602\n",
            "Epoch 87/120\n",
            "625/625 [==============================] - 30s 47ms/step - loss: 1.1049 - accuracy: 0.6841 - val_loss: 1.6181 - val_accuracy: 0.5598\n",
            "Epoch 88/120\n",
            "625/625 [==============================] - 30s 47ms/step - loss: 1.1084 - accuracy: 0.6838 - val_loss: 1.1018 - val_accuracy: 0.6793\n",
            "Epoch 89/120\n",
            "625/625 [==============================] - 30s 48ms/step - loss: 1.0938 - accuracy: 0.6883 - val_loss: 1.6542 - val_accuracy: 0.5604\n",
            "Epoch 90/120\n",
            "625/625 [==============================] - 30s 48ms/step - loss: 1.1076 - accuracy: 0.6830 - val_loss: 1.3816 - val_accuracy: 0.6064\n",
            "Epoch 91/120\n",
            "625/625 [==============================] - 30s 49ms/step - loss: 1.1088 - accuracy: 0.6871 - val_loss: 1.7513 - val_accuracy: 0.5134\n",
            "Epoch 92/120\n",
            "625/625 [==============================] - 30s 49ms/step - loss: 1.1057 - accuracy: 0.6886 - val_loss: 1.7387 - val_accuracy: 0.5471\n",
            "Epoch 93/120\n",
            "625/625 [==============================] - 31s 49ms/step - loss: 1.0945 - accuracy: 0.6881 - val_loss: 1.3267 - val_accuracy: 0.6101\n",
            "Epoch 94/120\n",
            "625/625 [==============================] - 31s 50ms/step - loss: 1.1118 - accuracy: 0.6866 - val_loss: 2.6049 - val_accuracy: 0.4227\n",
            "Epoch 95/120\n",
            "625/625 [==============================] - 31s 50ms/step - loss: 1.1305 - accuracy: 0.6837 - val_loss: 1.3783 - val_accuracy: 0.6041\n",
            "Epoch 96/120\n",
            "625/625 [==============================] - 32s 51ms/step - loss: 1.1020 - accuracy: 0.6912 - val_loss: 1.4899 - val_accuracy: 0.5817\n",
            "Epoch 97/120\n",
            "625/625 [==============================] - 32s 51ms/step - loss: 1.0977 - accuracy: 0.6855 - val_loss: 1.3964 - val_accuracy: 0.6024\n",
            "Epoch 98/120\n",
            "625/625 [==============================] - 31s 50ms/step - loss: 1.0966 - accuracy: 0.6903 - val_loss: 1.3347 - val_accuracy: 0.6111\n",
            "Epoch 99/120\n",
            "625/625 [==============================] - 31s 50ms/step - loss: 1.1045 - accuracy: 0.6851 - val_loss: 1.2320 - val_accuracy: 0.6446\n",
            "Epoch 100/120\n",
            "625/625 [==============================] - 31s 50ms/step - loss: 1.1010 - accuracy: 0.6899 - val_loss: 1.3563 - val_accuracy: 0.6078\n",
            "Epoch 101/120\n",
            "625/625 [==============================] - 31s 49ms/step - loss: 1.1108 - accuracy: 0.6898 - val_loss: 1.7372 - val_accuracy: 0.5331\n",
            "Epoch 102/120\n",
            "625/625 [==============================] - 31s 49ms/step - loss: 1.0984 - accuracy: 0.6921 - val_loss: 1.4407 - val_accuracy: 0.5777\n",
            "Epoch 103/120\n",
            "625/625 [==============================] - 30s 48ms/step - loss: 1.0932 - accuracy: 0.6928 - val_loss: 1.4642 - val_accuracy: 0.5714\n",
            "Epoch 104/120\n",
            "625/625 [==============================] - 30s 48ms/step - loss: 1.0981 - accuracy: 0.6867 - val_loss: 1.6328 - val_accuracy: 0.5358\n",
            "Epoch 105/120\n",
            "625/625 [==============================] - 30s 48ms/step - loss: 1.0819 - accuracy: 0.6910 - val_loss: 1.2501 - val_accuracy: 0.6293\n",
            "Epoch 106/120\n",
            "625/625 [==============================] - 30s 49ms/step - loss: 1.1013 - accuracy: 0.6869 - val_loss: 1.1295 - val_accuracy: 0.6762\n",
            "Epoch 107/120\n",
            "625/625 [==============================] - 30s 48ms/step - loss: 1.0961 - accuracy: 0.6908 - val_loss: 1.9120 - val_accuracy: 0.4737\n",
            "Epoch 108/120\n",
            "625/625 [==============================] - 30s 48ms/step - loss: 1.0842 - accuracy: 0.6933 - val_loss: 1.2790 - val_accuracy: 0.6298\n",
            "Epoch 109/120\n",
            "625/625 [==============================] - 30s 48ms/step - loss: 1.0889 - accuracy: 0.6930 - val_loss: 1.8032 - val_accuracy: 0.5219\n",
            "Epoch 110/120\n",
            "625/625 [==============================] - 30s 48ms/step - loss: 1.0908 - accuracy: 0.6905 - val_loss: 1.2764 - val_accuracy: 0.6357\n",
            "Epoch 111/120\n",
            "625/625 [==============================] - 30s 48ms/step - loss: 1.0952 - accuracy: 0.6904 - val_loss: 1.1539 - val_accuracy: 0.6780\n",
            "Epoch 112/120\n",
            "625/625 [==============================] - 30s 48ms/step - loss: 1.0805 - accuracy: 0.6902 - val_loss: 1.4975 - val_accuracy: 0.5573\n",
            "Epoch 113/120\n",
            "625/625 [==============================] - 30s 49ms/step - loss: 1.0868 - accuracy: 0.6911 - val_loss: 1.5342 - val_accuracy: 0.5931\n",
            "Epoch 114/120\n",
            "625/625 [==============================] - 34s 55ms/step - loss: 1.0885 - accuracy: 0.6903 - val_loss: 1.8379 - val_accuracy: 0.5128\n",
            "Epoch 115/120\n",
            "625/625 [==============================] - 32s 51ms/step - loss: 1.0919 - accuracy: 0.6893 - val_loss: 1.7509 - val_accuracy: 0.5383\n",
            "Epoch 116/120\n",
            "625/625 [==============================] - 32s 51ms/step - loss: 1.0836 - accuracy: 0.6930 - val_loss: 1.3814 - val_accuracy: 0.6184\n",
            "Epoch 117/120\n",
            "625/625 [==============================] - 32s 51ms/step - loss: 1.0966 - accuracy: 0.6926 - val_loss: 1.8030 - val_accuracy: 0.5326\n",
            "Epoch 118/120\n",
            "625/625 [==============================] - 32s 51ms/step - loss: 1.0964 - accuracy: 0.6896 - val_loss: 1.4806 - val_accuracy: 0.5768\n",
            "Epoch 119/120\n",
            "625/625 [==============================] - 32s 51ms/step - loss: 1.0924 - accuracy: 0.6940 - val_loss: 1.1154 - val_accuracy: 0.6860\n",
            "Epoch 120/120\n",
            "625/625 [==============================] - 32s 52ms/step - loss: 1.0896 - accuracy: 0.6920 - val_loss: 1.2500 - val_accuracy: 0.6355\n"
          ],
          "name": "stdout"
        }
      ]
    },
    {
      "cell_type": "code",
      "metadata": {
        "id": "v1FTDnHwzrVR",
        "colab_type": "code",
        "colab": {
          "base_uri": "https://localhost:8080/"
        },
        "outputId": "c20a8f44-ec66-40f0-e3f7-761385a82eb4"
      },
      "source": [
        "# Plot train and validation curves\n",
        "loss = history.history['loss']\n",
        "v_loss = history.history['val_loss']\n",
        "\n",
        "acc = history.history['accuracy']\n",
        "v_acc = history.history['val_accuracy']\n",
        "\n",
        "epochs = range(len(loss))\n",
        "\n",
        "fig = plt.figure(figsize=(9, 5))\n",
        "plt.subplot(1, 2, 1)\n",
        "plt.yscale('log')\n",
        "plt.plot(epochs, loss, linestyle='--', linewidth=3, color='orange', alpha=0.7, label='Train Loss')\n",
        "plt.plot(epochs, v_loss, linestyle='-.', linewidth=2, color='lime', alpha=0.8, label='Valid Loss')\n",
        "plt.ylim(0.3, 100)\n",
        "plt.xlabel('Epochs', fontsize=11)\n",
        "plt.ylabel('Loss', fontsize=12)\n",
        "plt.legend(fontsize=12)\n",
        "plt.subplot(1, 2, 2)\n",
        "plt.plot(epochs, acc, linestyle='--', linewidth=3, color='orange', alpha=0.7, label='Train Acc')\n",
        "plt.plot(epochs, v_acc, linestyle='-.', linewidth=2, color='lime', alpha=0.8, label='Valid Acc') \n",
        "plt.xlabel('Epochs', fontsize=11)\n",
        "plt.ylabel('Accuracy', fontsize=12)\n",
        "plt.legend(fontsize=12)\n",
        "plt.tight_layout()\n",
        "plt.savefig('/content/drive/My Drive/Colab Notebooks/IDL course OvGU/Task2_accuracy_adam_res.png', dpi=250)\n",
        "plt.show()"
      ],
      "execution_count": null,
      "outputs": [
        {
          "output_type": "display_data",
          "data": {
            "image/png": "[encoded data removed]",
            "text/plain": [
              "<Figure size 648x360 with 2 Axes>"
            ]
          },
          "metadata": {
            "tags": [],
            "needs_background": "light"
          }
        }
      ]
    },
    {
      "cell_type": "code",
      "metadata": {
        "id": "u6Nbp5m3zr9-",
        "colab_type": "code",
        "colab": {
          "base_uri": "https://localhost:8080/",
          "height": 52
        },
        "outputId": "6a32a203-0e47-4d18-fcad-799121cc4f19"
      },
      "source": [
        "# Checking the performance on the test data \n",
        "test_result = resnet50_model.evaluate(test_images, test_lab_categorical, verbose=0)\n",
        "\n",
        "print (\"VGG loss: \", test_result[0])\n",
        "print (\"VGG accuracy: \", test_result[1])"
      ],
      "execution_count": null,
      "outputs": [
        {
          "output_type": "stream",
          "text": [
            "VGG loss:  1.2318211793899536\n",
            "VGG accuracy:  0.6450999975204468\n"
          ],
          "name": "stdout"
        }
      ]
    },
    {
      "cell_type": "markdown",
      "metadata": {
        "id": "etKvyaY4SToO",
        "colab_type": "text"
      },
      "source": [
        "# Task 3 Transfer Learning"
      ]
    },
    {
      "cell_type": "markdown",
      "metadata": {
        "id": "hM8Y-bTQjsVB",
        "colab_type": "text"
      },
      "source": [
        "## 3.1 Same distribution"
      ]
    },
    {
      "cell_type": "code",
      "metadata": {
        "id": "lnYovIstUXki",
        "colab_type": "code",
        "colab": {
          "base_uri": "https://localhost:8080/",
          "height": 87
        },
        "outputId": "270a6c7b-0636-4991-fdb1-44a54bb47884"
      },
      "source": [
        "(x_train, y_train), (x_test, y_test) = tf.keras.datasets.mnist.load_data()\n",
        "\n",
        "print(\"Number of original training examples:\", len(x_train))\n",
        "print(\"Number of original test examples:\", len(x_test))\n",
        "print(\"Shape of training examples:\", x_train.shape)\n",
        "print(\"Shape of test examples:\", x_test.shape)"
      ],
      "execution_count": 33,
      "outputs": [
        {
          "output_type": "stream",
          "text": [
            "Number of original training examples: 60000\n",
            "Number of original test examples: 10000\n",
            "Shape of training examples: (60000, 28, 28)\n",
            "Shape of test examples: (10000, 28, 28)\n"
          ],
          "name": "stdout"
        }
      ]
    },
    {
      "cell_type": "code",
      "metadata": {
        "id": "EWC09Zuheclg",
        "colab_type": "code",
        "colab": {
          "base_uri": "https://localhost:8080/",
          "height": 298
        },
        "outputId": "d72a0e13-ce8e-4a23-e975-e1ff7531a3cc"
      },
      "source": [
        "sns.countplot(y_train)\n",
        "plt.ylabel('Digit Frequency')\n",
        "plt.xlabel('Digit')"
      ],
      "execution_count": 34,
      "outputs": [
        {
          "output_type": "execute_result",
          "data": {
            "text/plain": [
              "Text(0.5, 0, 'Digit')"
            ]
          },
          "metadata": {
            "tags": []
          },
          "execution_count": 34
        },
        {
          "output_type": "display_data",
          "data": {
            "image/png": "[encoded data removed]",
            "text/plain": [
              "<Figure size 432x288 with 1 Axes>"
            ]
          },
          "metadata": {
            "tags": [],
            "needs_background": "light"
          }
        }
      ]
    },
    {
      "cell_type": "code",
      "metadata": {
        "id": "Qaqq2VTcivkH",
        "colab_type": "code",
        "colab": {}
      },
      "source": [
        "# Reference from https://www.kaggle.com/manoharswamynathan/transfer-learning-with-keras-tf\n",
        "\n",
        "X_train_lt7 = x_train[y_train < 7]\n",
        "y_train_lt7 = y_train[y_train < 7]\n",
        "X_test_lt7 = x_test[y_test < 7]\n",
        "y_test_lt7 = y_test[y_test < 7]\n",
        "\n",
        "X_train_gte7 = x_train[y_train >= 7]\n",
        "y_train_gte7 = y_train[y_train >= 7] - 7         # make classes start at 0 for using to_categorical\n",
        "X_test_gte7 = x_test[y_test >= 7]           \n",
        "y_test_gte7 = y_test[y_test >= 7] - 7"
      ],
      "execution_count": 35,
      "outputs": []
    },
    {
      "cell_type": "code",
      "metadata": {
        "id": "FIhD9TkSqQm2",
        "colab_type": "code",
        "colab": {
          "base_uri": "https://localhost:8080/",
          "height": 298
        },
        "outputId": "f2a2697a-f32f-4f89-c08b-4f475db15aa2"
      },
      "source": [
        "sns.countplot(y_train_lt7)\n",
        "plt.ylabel('Digit Frequency')\n",
        "plt.xlabel('Digit')"
      ],
      "execution_count": 10,
      "outputs": [
        {
          "output_type": "execute_result",
          "data": {
            "text/plain": [
              "Text(0.5, 0, 'Digit')"
            ]
          },
          "metadata": {
            "tags": []
          },
          "execution_count": 10
        },
        {
          "output_type": "display_data",
          "data": {
            "image/png": "[encoded data removed]",
            "text/plain": [
              "<Figure size 432x288 with 1 Axes>"
            ]
          },
          "metadata": {
            "tags": [],
            "needs_background": "light"
          }
        }
      ]
    },
    {
      "cell_type": "code",
      "metadata": {
        "id": "7vCskHprqgXb",
        "colab_type": "code",
        "colab": {
          "base_uri": "https://localhost:8080/",
          "height": 296
        },
        "outputId": "397ab6d6-d4fe-423d-ec93-8c70b0bc6357"
      },
      "source": [
        "sns.countplot(y_train_gte7)\n",
        "plt.ylabel('Digit Frequency')\n",
        "plt.xlabel('Digit')"
      ],
      "execution_count": 11,
      "outputs": [
        {
          "output_type": "execute_result",
          "data": {
            "text/plain": [
              "Text(0.5, 0, 'Digit')"
            ]
          },
          "metadata": {
            "tags": []
          },
          "execution_count": 11
        },
        {
          "output_type": "display_data",
          "data": {
            "image/png": "[encoded data removed]",
            "text/plain": [
              "<Figure size 432x288 with 1 Axes>"
            ]
          },
          "metadata": {
            "tags": [],
            "needs_background": "light"
          }
        }
      ]
    },
    {
      "cell_type": "markdown",
      "metadata": {
        "id": "WhlbI274ywIa",
        "colab_type": "text"
      },
      "source": [
        "### Training Target domain set on already trained model"
      ]
    },
    {
      "cell_type": "code",
      "metadata": {
        "id": "xIcW0679tqjb",
        "colab_type": "code",
        "colab": {}
      },
      "source": [
        "batch_size = 128\n",
        "# nb_classes = 7\n",
        "nb_epoch = 5\n",
        "\n",
        "# input image dimensions\n",
        "img_rows, img_cols = 28, 28\n",
        "\n",
        "# number of convolutional filters to use\n",
        "nb_filters = 32\n",
        "\n",
        "# size of pooling area for max pooling\n",
        "pool_size = 2\n",
        "\n",
        "# convolution kernel size\n",
        "kernel_size = 3\n",
        "\n",
        "input_shape = (img_rows, img_cols, 1)"
      ],
      "execution_count": 36,
      "outputs": []
    },
    {
      "cell_type": "code",
      "metadata": {
        "id": "JWEu1GVFsPs0",
        "colab_type": "code",
        "colab": {}
      },
      "source": [
        "def train_model(model, train, test, nb_classes):\n",
        "    X_train = train[0].reshape(-1, 28,28,1)\n",
        "    X_test = test[0].reshape(-1, 28,28,1)\n",
        "    X_train = X_train.astype('float32')\n",
        "    X_test = X_test.astype('float32')\n",
        "    X_train /= 255\n",
        "    X_test /= 255\n",
        "    print('X_train shape:', X_train.shape)\n",
        "    print(X_train.shape[0], 'train samples')\n",
        "    print(X_test.shape[0], 'test samples')\n",
        "\n",
        "    # convert class vectors to binary class matrices\n",
        "    Y_train = tf.keras.utils.to_categorical(train[1], nb_classes,dtype='uint8')\n",
        "    Y_test = tf.keras.utils.to_categorical(test[1], nb_classes,dtype='uint8')\n",
        "\n",
        "    model.compile(loss='categorical_crossentropy',optimizer=tf.keras.optimizers.Adam(0.003),metrics=['accuracy'])\n",
        "\n",
        "    model.fit(X_train, Y_train,batch_size=batch_size, epochs =nb_epoch,verbose=1,validation_data=(X_test, Y_test))\n",
        "    score = model.evaluate(X_test, Y_test, verbose=0)\n",
        "    print('Test score:', score[0])\n",
        "    print('Test accuracy:', score[1])"
      ],
      "execution_count": 37,
      "outputs": []
    },
    {
      "cell_type": "code",
      "metadata": {
        "id": "k7sxgvTYqp4n",
        "colab_type": "code",
        "colab": {
          "base_uri": "https://localhost:8080/",
          "height": 283
        },
        "outputId": "de29ecd0-14a4-4216-97d3-0b670c05a7bc"
      },
      "source": [
        "feature_layers = [\n",
        "    Conv2D(nb_filters, kernel_size, kernel_size,padding ='valid',input_shape=input_shape),\n",
        "    Activation('relu'),\n",
        "    Conv2D(nb_filters, kernel_size, kernel_size),\n",
        "    Activation('relu'),\n",
        "    MaxPooling2D(pool_size=(pool_size, pool_size)),\n",
        "    Dropout(0.25),\n",
        "    Flatten(),\n",
        "]\n",
        "classification_layers = [\n",
        "    Dense(128),\n",
        "    Activation('relu'),\n",
        "    Dropout(0.5),\n",
        "    Dense(nb_classes),\n",
        "    Activation('softmax')\n",
        "]\n",
        "\n",
        "# create complete model\n",
        "model = tf.keras.Sequential(feature_layers + classification_layers)\n",
        "\n",
        "# train model for 7-digit classification [0..6]\n",
        "train_model(model, (X_train_lt7, y_train_lt7), (X_test_lt7, y_test_lt7), 7)"
      ],
      "execution_count": 38,
      "outputs": [
        {
          "output_type": "stream",
          "text": [
            "X_train shape: (41935, 28, 28, 1)\n",
            "41935 train samples\n",
            "6989 test samples\n",
            "Epoch 1/5\n",
            "328/328 [==============================] - 1s 4ms/step - loss: 0.6505 - accuracy: 0.7838 - val_loss: 0.2472 - val_accuracy: 0.9280\n",
            "Epoch 2/5\n",
            "328/328 [==============================] - 1s 3ms/step - loss: 0.3505 - accuracy: 0.8934 - val_loss: 0.1939 - val_accuracy: 0.9426\n",
            "Epoch 3/5\n",
            "328/328 [==============================] - 1s 3ms/step - loss: 0.2952 - accuracy: 0.9110 - val_loss: 0.1607 - val_accuracy: 0.9491\n",
            "Epoch 4/5\n",
            "328/328 [==============================] - 1s 3ms/step - loss: 0.2691 - accuracy: 0.9166 - val_loss: 0.1519 - val_accuracy: 0.9542\n",
            "Epoch 5/5\n",
            "328/328 [==============================] - 1s 3ms/step - loss: 0.2509 - accuracy: 0.9241 - val_loss: 0.1385 - val_accuracy: 0.9551\n",
            "Test score: 0.13853247463703156\n",
            "Test accuracy: 0.955072283744812\n"
          ],
          "name": "stdout"
        }
      ]
    },
    {
      "cell_type": "code",
      "metadata": {
        "id": "g44W2RF2uvNu",
        "colab_type": "code",
        "colab": {
          "base_uri": "https://localhost:8080/",
          "height": 283
        },
        "outputId": "d3498be6-b765-48a9-e8ec-33d2d6c00747"
      },
      "source": [
        "# Removing last layer from already trained model and adding new layer for classification of three numbers\n",
        "\n",
        "new_model = tf.keras.Sequential()\n",
        "for layer in model.layers[:-2]: # iterate until second layer and add that to new model\n",
        "    new_model.add(layer)\n",
        "new_model.add(Dense(3, activation='softmax'))\n",
        "\n",
        "train_model(new_model, (X_train_gte7, y_train_gte7), (X_test_gte7, y_test_gte7), 3)"
      ],
      "execution_count": 40,
      "outputs": [
        {
          "output_type": "stream",
          "text": [
            "X_train shape: (18065, 28, 28, 1)\n",
            "18065 train samples\n",
            "3011 test samples\n",
            "Epoch 1/5\n",
            "142/142 [==============================] - 1s 4ms/step - loss: 0.4033 - accuracy: 0.8410 - val_loss: 0.1641 - val_accuracy: 0.9422\n",
            "Epoch 2/5\n",
            "142/142 [==============================] - 0s 3ms/step - loss: 0.1946 - accuracy: 0.9363 - val_loss: 0.1262 - val_accuracy: 0.9562\n",
            "Epoch 3/5\n",
            "142/142 [==============================] - 0s 3ms/step - loss: 0.1630 - accuracy: 0.9452 - val_loss: 0.1116 - val_accuracy: 0.9618\n",
            "Epoch 4/5\n",
            "142/142 [==============================] - 0s 3ms/step - loss: 0.1418 - accuracy: 0.9545 - val_loss: 0.1049 - val_accuracy: 0.9645\n",
            "Epoch 5/5\n",
            "142/142 [==============================] - 0s 3ms/step - loss: 0.1304 - accuracy: 0.9576 - val_loss: 0.1004 - val_accuracy: 0.9641\n",
            "Test score: 0.10039573907852173\n",
            "Test accuracy: 0.9641315340995789\n"
          ],
          "name": "stdout"
        }
      ]
    },
    {
      "cell_type": "markdown",
      "metadata": {
        "id": "wUQWixA0yY2G",
        "colab_type": "text"
      },
      "source": [
        "### Training target domain on freshly initialized model"
      ]
    },
    {
      "cell_type": "code",
      "metadata": {
        "id": "onv05OIqyhw3",
        "colab_type": "code",
        "colab": {}
      },
      "source": [
        "batch_size = 128\n",
        "nb_classes = 3\n",
        "nb_epoch = 5\n",
        "\n",
        "# input image dimensions\n",
        "img_rows, img_cols = 28, 28\n",
        "\n",
        "# number of convolutional filters to use\n",
        "nb_filters = 32\n",
        "\n",
        "# size of pooling area for max pooling\n",
        "pool_size = 2\n",
        "\n",
        "# convolution kernel size\n",
        "kernel_size = 3\n",
        "\n",
        "input_shape = (img_rows, img_cols, 1)"
      ],
      "execution_count": 41,
      "outputs": []
    },
    {
      "cell_type": "code",
      "metadata": {
        "id": "dC0kKSuyzGe4",
        "colab_type": "code",
        "colab": {}
      },
      "source": [
        "def train_model(model, train, test, nb_classes):\n",
        "    X_train = train[0].reshape(-1, 28,28,1)\n",
        "    X_test = test[0].reshape(-1, 28,28,1)\n",
        "    X_train = X_train.astype('float32')\n",
        "    X_test = X_test.astype('float32')\n",
        "    X_train /= 255\n",
        "    X_test /= 255\n",
        "    print('X_train shape:', X_train.shape)\n",
        "    print(X_train.shape[0], 'train samples')\n",
        "    print(X_test.shape[0], 'test samples')\n",
        "\n",
        "    # convert class vectors to binary class matrices\n",
        "    Y_train = tf.keras.utils.to_categorical(train[1], nb_classes,dtype='uint8')\n",
        "    Y_test = tf.keras.utils.to_categorical(test[1], nb_classes,dtype='uint8')\n",
        "\n",
        "    model.compile(loss='categorical_crossentropy',optimizer=tf.keras.optimizers.Adam(0.003),metrics=['accuracy'])\n",
        "\n",
        "    model.fit(X_train, Y_train,batch_size=batch_size, epochs =nb_epoch,verbose=1,validation_data=(X_test, Y_test))\n",
        "    score = model.evaluate(X_test, Y_test, verbose=0)\n",
        "    print('Test score:', score[0])\n",
        "    print('Test accuracy:', score[1])"
      ],
      "execution_count": 42,
      "outputs": []
    },
    {
      "cell_type": "code",
      "metadata": {
        "id": "6hJdG6SazKys",
        "colab_type": "code",
        "colab": {
          "base_uri": "https://localhost:8080/",
          "height": 283
        },
        "outputId": "8aae12d6-0412-4b28-9671-f68b7971276f"
      },
      "source": [
        "feature_layers = [\n",
        "    Conv2D(nb_filters, kernel_size, kernel_size,padding ='valid',input_shape=input_shape),\n",
        "    Activation('relu'),\n",
        "    Conv2D(nb_filters, kernel_size, kernel_size),\n",
        "    Activation('relu'),\n",
        "    MaxPooling2D(pool_size=(pool_size, pool_size)),\n",
        "    Dropout(0.25),\n",
        "    Flatten(),\n",
        "]\n",
        "classification_layers = [\n",
        "    Dense(128),\n",
        "    Activation('relu'),\n",
        "    Dropout(0.5),\n",
        "    Dense(nb_classes),\n",
        "    Activation('softmax')\n",
        "]\n",
        "\n",
        "# create complete model\n",
        "model = tf.keras.Sequential(feature_layers + classification_layers)\n",
        "\n",
        "# train model for 7-digit classification [7..9]\n",
        "train_model(model, (X_train_gte7, y_train_gte7), (X_test_gte7, y_test_gte7), nb_classes)"
      ],
      "execution_count": 46,
      "outputs": [
        {
          "output_type": "stream",
          "text": [
            "X_train shape: (18065, 28, 28, 1)\n",
            "18065 train samples\n",
            "3011 test samples\n",
            "Epoch 1/5\n",
            "142/142 [==============================] - 1s 4ms/step - loss: 0.3721 - accuracy: 0.8655 - val_loss: 0.1856 - val_accuracy: 0.9406\n",
            "Epoch 2/5\n",
            "142/142 [==============================] - 0s 3ms/step - loss: 0.1906 - accuracy: 0.9360 - val_loss: 0.1302 - val_accuracy: 0.9532\n",
            "Epoch 3/5\n",
            "142/142 [==============================] - 0s 3ms/step - loss: 0.1452 - accuracy: 0.9525 - val_loss: 0.1252 - val_accuracy: 0.9565\n",
            "Epoch 4/5\n",
            "142/142 [==============================] - 0s 3ms/step - loss: 0.1302 - accuracy: 0.9553 - val_loss: 0.1058 - val_accuracy: 0.9628\n",
            "Epoch 5/5\n",
            "142/142 [==============================] - 0s 3ms/step - loss: 0.1119 - accuracy: 0.9632 - val_loss: 0.0954 - val_accuracy: 0.9698\n",
            "Test score: 0.09536872804164886\n",
            "Test accuracy: 0.9697774648666382\n"
          ],
          "name": "stdout"
        }
      ]
    },
    {
      "cell_type": "markdown",
      "metadata": {
        "id": "F2CJBrxPzxbj",
        "colab_type": "text"
      },
      "source": [
        "## 3.2 Different Distribution"
      ]
    },
    {
      "cell_type": "code",
      "metadata": {
        "id": "ZsLgfs740BMO",
        "colab_type": "code",
        "colab": {
          "base_uri": "https://localhost:8080/",
          "height": 87
        },
        "outputId": "165bd781-042a-4388-bbca-2bec2f39df06"
      },
      "source": [
        "(x_train_m, y_train_m), (x_test_m, y_test_m) = tf.keras.datasets.mnist.load_data()\n",
        "\n",
        "print(\"Shape of mnist training examples:\", x_train_m.shape)\n",
        "print(\"Shape of mnist test examples:\", x_test_m.shape)\n",
        "\n",
        "(x_train_f, y_train_f), (x_test_f, y_test_f) = tf.keras.datasets.fashion_mnist.load_data()\n",
        "\n",
        "print(\"Shape of fmnist training examples:\", x_train_f.shape)\n",
        "print(\"Shape of fmnist test examples:\", x_test_f.shape)"
      ],
      "execution_count": 51,
      "outputs": [
        {
          "output_type": "stream",
          "text": [
            "Shape of mnist training examples: (60000, 28, 28)\n",
            "Shape of mnist test examples: (10000, 28, 28)\n",
            "Shape of fmnist training examples: (60000, 28, 28)\n",
            "Shape of fmnist test examples: (10000, 28, 28)\n"
          ],
          "name": "stdout"
        }
      ]
    },
    {
      "cell_type": "markdown",
      "metadata": {
        "id": "dVAup41i46Zz",
        "colab_type": "text"
      },
      "source": [
        "### MNIST- Source FMNIST- Target"
      ]
    },
    {
      "cell_type": "markdown",
      "metadata": {
        "id": "nQlDXHBu5LWP",
        "colab_type": "text"
      },
      "source": [
        "####  Train a model on the MNIST and use the pre-trained model as initialization for a model trained on FMNIST"
      ]
    },
    {
      "cell_type": "code",
      "metadata": {
        "id": "xnkwPRg_4VL4",
        "colab_type": "code",
        "colab": {}
      },
      "source": [
        "batch_size = 128\n",
        "nb_classes = 10\n",
        "nb_epoch = 5\n",
        "\n",
        "# input image dimensions\n",
        "img_rows, img_cols = 28, 28\n",
        "\n",
        "# number of convolutional filters to use\n",
        "nb_filters = 32\n",
        "\n",
        "# size of pooling area for max pooling\n",
        "pool_size = 2\n",
        "\n",
        "# convolution kernel size\n",
        "kernel_size = 3\n",
        "\n",
        "input_shape = (img_rows, img_cols, 1)"
      ],
      "execution_count": 52,
      "outputs": []
    },
    {
      "cell_type": "code",
      "metadata": {
        "id": "x4FbBpDS4fzP",
        "colab_type": "code",
        "colab": {}
      },
      "source": [
        "def train_model(model, train, test, nb_classes):\n",
        "    X_train = train[0].reshape(-1, 28,28,1)\n",
        "    X_test = test[0].reshape(-1, 28,28,1)\n",
        "    X_train = X_train.astype('float32')\n",
        "    X_test = X_test.astype('float32')\n",
        "    X_train /= 255\n",
        "    X_test /= 255\n",
        "    print('X_train shape:', X_train.shape)\n",
        "    print(X_train.shape[0], 'train samples')\n",
        "    print(X_test.shape[0], 'test samples')\n",
        "\n",
        "    # convert class vectors to binary class matrices\n",
        "    Y_train = tf.keras.utils.to_categorical(train[1], nb_classes,dtype='uint8')\n",
        "    Y_test = tf.keras.utils.to_categorical(test[1], nb_classes,dtype='uint8')\n",
        "\n",
        "    model.compile(loss='categorical_crossentropy',optimizer=tf.keras.optimizers.Adam(0.003),metrics=['accuracy'])\n",
        "\n",
        "    model.fit(X_train, Y_train,batch_size=batch_size, epochs =nb_epoch,verbose=1,validation_data=(X_test, Y_test))\n",
        "    score = model.evaluate(X_test, Y_test, verbose=0)\n",
        "    print('Test score:', score[0])\n",
        "    print('Test accuracy:', score[1])"
      ],
      "execution_count": 53,
      "outputs": []
    },
    {
      "cell_type": "code",
      "metadata": {
        "id": "KmFYchis4lVh",
        "colab_type": "code",
        "colab": {
          "base_uri": "https://localhost:8080/",
          "height": 283
        },
        "outputId": "03c47f19-4b19-49e4-ca42-9d35695ffb6a"
      },
      "source": [
        "feature_layers = [\n",
        "    Conv2D(nb_filters, kernel_size, kernel_size,padding ='valid',input_shape=input_shape),\n",
        "    Activation('relu'),\n",
        "    Conv2D(nb_filters, kernel_size, kernel_size),\n",
        "    Activation('relu'),\n",
        "    MaxPooling2D(pool_size=(pool_size, pool_size)),\n",
        "    Dropout(0.25),\n",
        "    Flatten(),\n",
        "]\n",
        "classification_layers = [\n",
        "    Dense(128),\n",
        "    Activation('relu'),\n",
        "    Dropout(0.5),\n",
        "    Dense(nb_classes),\n",
        "    Activation('softmax')\n",
        "]\n",
        "\n",
        "# create complete model\n",
        "model = tf.keras.Sequential(feature_layers + classification_layers)\n",
        "\n",
        "train_model(model, (x_train_m, y_train_m), (x_test_m, y_test_m), nb_classes)"
      ],
      "execution_count": 54,
      "outputs": [
        {
          "output_type": "stream",
          "text": [
            "X_train shape: (60000, 28, 28, 1)\n",
            "60000 train samples\n",
            "10000 test samples\n",
            "Epoch 1/5\n",
            "469/469 [==============================] - 2s 4ms/step - loss: 0.9050 - accuracy: 0.7088 - val_loss: 0.3841 - val_accuracy: 0.8848\n",
            "Epoch 2/5\n",
            "469/469 [==============================] - 2s 3ms/step - loss: 0.5680 - accuracy: 0.8262 - val_loss: 0.3005 - val_accuracy: 0.9096\n",
            "Epoch 3/5\n",
            "469/469 [==============================] - 2s 3ms/step - loss: 0.5007 - accuracy: 0.8482 - val_loss: 0.2817 - val_accuracy: 0.9138\n",
            "Epoch 4/5\n",
            "469/469 [==============================] - 2s 3ms/step - loss: 0.4660 - accuracy: 0.8586 - val_loss: 0.2567 - val_accuracy: 0.9231\n",
            "Epoch 5/5\n",
            "469/469 [==============================] - 2s 3ms/step - loss: 0.4432 - accuracy: 0.8652 - val_loss: 0.2493 - val_accuracy: 0.9238\n",
            "Test score: 0.24925293028354645\n",
            "Test accuracy: 0.923799991607666\n"
          ],
          "name": "stdout"
        }
      ]
    },
    {
      "cell_type": "code",
      "metadata": {
        "id": "267H_TBB4x_e",
        "colab_type": "code",
        "colab": {
          "base_uri": "https://localhost:8080/",
          "height": 283
        },
        "outputId": "2c5dd758-598e-4730-eceb-b0546d7caefb"
      },
      "source": [
        "# Transfer model of mnist to fashion mnist\n",
        "new_model = tf.keras.Sequential()\n",
        "for layer in model.layers[:-2]: # iterate until second layer and add that to new model\n",
        "    new_model.add(layer)\n",
        "new_model.add(Dense(10, activation='softmax'))\n",
        "\n",
        "train_model(new_model, (x_train_f, y_train_f), (x_test_f, y_test_f), nb_classes)"
      ],
      "execution_count": 55,
      "outputs": [
        {
          "output_type": "stream",
          "text": [
            "X_train shape: (60000, 28, 28, 1)\n",
            "60000 train samples\n",
            "10000 test samples\n",
            "Epoch 1/5\n",
            "469/469 [==============================] - 2s 4ms/step - loss: 0.9845 - accuracy: 0.6439 - val_loss: 0.6288 - val_accuracy: 0.7706\n",
            "Epoch 2/5\n",
            "469/469 [==============================] - 2s 3ms/step - loss: 0.7211 - accuracy: 0.7410 - val_loss: 0.5718 - val_accuracy: 0.7917\n",
            "Epoch 3/5\n",
            "469/469 [==============================] - 2s 3ms/step - loss: 0.6687 - accuracy: 0.7593 - val_loss: 0.5469 - val_accuracy: 0.8009\n",
            "Epoch 4/5\n",
            "469/469 [==============================] - 2s 3ms/step - loss: 0.6312 - accuracy: 0.7712 - val_loss: 0.5235 - val_accuracy: 0.8075\n",
            "Epoch 5/5\n",
            "469/469 [==============================] - 2s 3ms/step - loss: 0.6127 - accuracy: 0.7778 - val_loss: 0.5183 - val_accuracy: 0.8093\n",
            "Test score: 0.5183371305465698\n",
            "Test accuracy: 0.8093000054359436\n"
          ],
          "name": "stdout"
        }
      ]
    },
    {
      "cell_type": "markdown",
      "metadata": {
        "id": "mjkSSlpE5YSj",
        "colab_type": "text"
      },
      "source": [
        " #### Model trained on FMNIST from scratch"
      ]
    },
    {
      "cell_type": "code",
      "metadata": {
        "id": "WAG4afnl5iF_",
        "colab_type": "code",
        "colab": {}
      },
      "source": [
        "batch_size = 128\n",
        "nb_classes = 10\n",
        "nb_epoch = 5\n",
        "\n",
        "# input image dimensions\n",
        "img_rows, img_cols = 28, 28\n",
        "\n",
        "# number of convolutional filters to use\n",
        "nb_filters = 32\n",
        "\n",
        "# size of pooling area for max pooling\n",
        "pool_size = 2\n",
        "\n",
        "# convolution kernel size\n",
        "kernel_size = 3\n",
        "\n",
        "input_shape = (img_rows, img_cols, 1)"
      ],
      "execution_count": 56,
      "outputs": []
    },
    {
      "cell_type": "code",
      "metadata": {
        "id": "zkBrjouJ5tWB",
        "colab_type": "code",
        "colab": {}
      },
      "source": [
        "def train_model(model, train, test, nb_classes):\n",
        "    X_train = train[0].reshape(-1, 28,28,1)\n",
        "    X_test = test[0].reshape(-1, 28,28,1)\n",
        "    X_train = X_train.astype('float32')\n",
        "    X_test = X_test.astype('float32')\n",
        "    X_train /= 255\n",
        "    X_test /= 255\n",
        "    print('X_train shape:', X_train.shape)\n",
        "    print(X_train.shape[0], 'train samples')\n",
        "    print(X_test.shape[0], 'test samples')\n",
        "\n",
        "    # convert class vectors to binary class matrices\n",
        "    Y_train = tf.keras.utils.to_categorical(train[1], nb_classes,dtype='uint8')\n",
        "    Y_test = tf.keras.utils.to_categorical(test[1], nb_classes,dtype='uint8')\n",
        "\n",
        "    model.compile(loss='categorical_crossentropy',optimizer=tf.keras.optimizers.Adam(0.003),metrics=['accuracy'])\n",
        "\n",
        "    model.fit(X_train, Y_train,batch_size=batch_size, epochs =nb_epoch,verbose=1,validation_data=(X_test, Y_test))\n",
        "    score = model.evaluate(X_test, Y_test, verbose=0)\n",
        "    print('Test score:', score[0])\n",
        "    print('Test accuracy:', score[1])"
      ],
      "execution_count": 57,
      "outputs": []
    },
    {
      "cell_type": "code",
      "metadata": {
        "id": "NMkWpQno5tnc",
        "colab_type": "code",
        "colab": {
          "base_uri": "https://localhost:8080/",
          "height": 283
        },
        "outputId": "0012abf0-c420-4e08-e19d-748682655c5f"
      },
      "source": [
        "feature_layers = [\n",
        "    Conv2D(nb_filters, kernel_size, kernel_size,padding ='valid',input_shape=input_shape),\n",
        "    Activation('relu'),\n",
        "    Conv2D(nb_filters, kernel_size, kernel_size),\n",
        "    Activation('relu'),\n",
        "    MaxPooling2D(pool_size=(pool_size, pool_size)),\n",
        "    Dropout(0.25),\n",
        "    Flatten(),\n",
        "]\n",
        "classification_layers = [\n",
        "    Dense(128),\n",
        "    Activation('relu'),\n",
        "    Dropout(0.5),\n",
        "    Dense(nb_classes),\n",
        "    Activation('softmax')\n",
        "]\n",
        "\n",
        "# create complete model\n",
        "model = tf.keras.Sequential(feature_layers + classification_layers)\n",
        "\n",
        "train_model(model, (x_train_f, y_train_f), (x_test_f, y_test_f), nb_classes)"
      ],
      "execution_count": 58,
      "outputs": [
        {
          "output_type": "stream",
          "text": [
            "X_train shape: (60000, 28, 28, 1)\n",
            "60000 train samples\n",
            "10000 test samples\n",
            "Epoch 1/5\n",
            "469/469 [==============================] - 2s 4ms/step - loss: 1.0288 - accuracy: 0.6239 - val_loss: 0.6551 - val_accuracy: 0.7675\n",
            "Epoch 2/5\n",
            "469/469 [==============================] - 2s 3ms/step - loss: 0.7341 - accuracy: 0.7365 - val_loss: 0.5902 - val_accuracy: 0.7834\n",
            "Epoch 3/5\n",
            "469/469 [==============================] - 2s 3ms/step - loss: 0.6829 - accuracy: 0.7528 - val_loss: 0.5573 - val_accuracy: 0.7929\n",
            "Epoch 4/5\n",
            "469/469 [==============================] - 2s 3ms/step - loss: 0.6535 - accuracy: 0.7612 - val_loss: 0.5440 - val_accuracy: 0.7974\n",
            "Epoch 5/5\n",
            "469/469 [==============================] - 2s 3ms/step - loss: 0.6370 - accuracy: 0.7699 - val_loss: 0.5387 - val_accuracy: 0.8009\n",
            "Test score: 0.5387380123138428\n",
            "Test accuracy: 0.8008999824523926\n"
          ],
          "name": "stdout"
        }
      ]
    },
    {
      "cell_type": "markdown",
      "metadata": {
        "colab_type": "text",
        "id": "P9m-_yBf7dLv"
      },
      "source": [
        "### FMNIST- Source MNIST- Target"
      ]
    },
    {
      "cell_type": "markdown",
      "metadata": {
        "colab_type": "text",
        "id": "elk2XoWu7dLx"
      },
      "source": [
        "####  Train a model on the fMNIST and use the pre-trained model as initialization for a model trained on MNIST"
      ]
    },
    {
      "cell_type": "code",
      "metadata": {
        "colab_type": "code",
        "id": "RDWwhTOD7dLy",
        "colab": {}
      },
      "source": [
        "batch_size = 128\n",
        "nb_classes = 10\n",
        "nb_epoch = 5\n",
        "\n",
        "# input image dimensions\n",
        "img_rows, img_cols = 28, 28\n",
        "\n",
        "# number of convolutional filters to use\n",
        "nb_filters = 32\n",
        "\n",
        "# size of pooling area for max pooling\n",
        "pool_size = 2\n",
        "\n",
        "# convolution kernel size\n",
        "kernel_size = 3\n",
        "\n",
        "input_shape = (img_rows, img_cols, 1)"
      ],
      "execution_count": 59,
      "outputs": []
    },
    {
      "cell_type": "code",
      "metadata": {
        "colab_type": "code",
        "id": "PxSIi7HQ7dL2",
        "colab": {}
      },
      "source": [
        "def train_model(model, train, test, nb_classes):\n",
        "    X_train = train[0].reshape(-1, 28,28,1)\n",
        "    X_test = test[0].reshape(-1, 28,28,1)\n",
        "    X_train = X_train.astype('float32')\n",
        "    X_test = X_test.astype('float32')\n",
        "    X_train /= 255\n",
        "    X_test /= 255\n",
        "    print('X_train shape:', X_train.shape)\n",
        "    print(X_train.shape[0], 'train samples')\n",
        "    print(X_test.shape[0], 'test samples')\n",
        "\n",
        "    # convert class vectors to binary class matrices\n",
        "    Y_train = tf.keras.utils.to_categorical(train[1], nb_classes,dtype='uint8')\n",
        "    Y_test = tf.keras.utils.to_categorical(test[1], nb_classes,dtype='uint8')\n",
        "\n",
        "    model.compile(loss='categorical_crossentropy',optimizer=tf.keras.optimizers.Adam(0.003),metrics=['accuracy'])\n",
        "\n",
        "    model.fit(X_train, Y_train,batch_size=batch_size, epochs =nb_epoch,verbose=1,validation_data=(X_test, Y_test))\n",
        "    score = model.evaluate(X_test, Y_test, verbose=0)\n",
        "    print('Test score:', score[0])\n",
        "    print('Test accuracy:', score[1])"
      ],
      "execution_count": 60,
      "outputs": []
    },
    {
      "cell_type": "code",
      "metadata": {
        "colab_type": "code",
        "id": "uUwFW3687dL6",
        "colab": {
          "base_uri": "https://localhost:8080/",
          "height": 283
        },
        "outputId": "33619ba2-1ff0-4017-bc82-9dca0da1d9ed"
      },
      "source": [
        "feature_layers = [\n",
        "    Conv2D(nb_filters, kernel_size, kernel_size,padding ='valid',input_shape=input_shape),\n",
        "    Activation('relu'),\n",
        "    Conv2D(nb_filters, kernel_size, kernel_size),\n",
        "    Activation('relu'),\n",
        "    MaxPooling2D(pool_size=(pool_size, pool_size)),\n",
        "    Dropout(0.25),\n",
        "    Flatten(),\n",
        "]\n",
        "classification_layers = [\n",
        "    Dense(128),\n",
        "    Activation('relu'),\n",
        "    Dropout(0.5),\n",
        "    Dense(nb_classes),\n",
        "    Activation('softmax')\n",
        "]\n",
        "\n",
        "# create complete model\n",
        "model = tf.keras.Sequential(feature_layers + classification_layers)\n",
        "\n",
        "train_model(model, (x_train_f, y_train_f), (x_test_f, y_test_f), nb_classes)"
      ],
      "execution_count": 61,
      "outputs": [
        {
          "output_type": "stream",
          "text": [
            "X_train shape: (60000, 28, 28, 1)\n",
            "60000 train samples\n",
            "10000 test samples\n",
            "Epoch 1/5\n",
            "469/469 [==============================] - 2s 4ms/step - loss: 0.9896 - accuracy: 0.6406 - val_loss: 0.6416 - val_accuracy: 0.7649\n",
            "Epoch 2/5\n",
            "469/469 [==============================] - 2s 3ms/step - loss: 0.7192 - accuracy: 0.7405 - val_loss: 0.5727 - val_accuracy: 0.7869\n",
            "Epoch 3/5\n",
            "469/469 [==============================] - 2s 3ms/step - loss: 0.6672 - accuracy: 0.7603 - val_loss: 0.5580 - val_accuracy: 0.7920\n",
            "Epoch 4/5\n",
            "469/469 [==============================] - 2s 3ms/step - loss: 0.6376 - accuracy: 0.7698 - val_loss: 0.5317 - val_accuracy: 0.8073\n",
            "Epoch 5/5\n",
            "469/469 [==============================] - 2s 3ms/step - loss: 0.6169 - accuracy: 0.7778 - val_loss: 0.5303 - val_accuracy: 0.8023\n",
            "Test score: 0.5303382277488708\n",
            "Test accuracy: 0.802299976348877\n"
          ],
          "name": "stdout"
        }
      ]
    },
    {
      "cell_type": "code",
      "metadata": {
        "colab_type": "code",
        "id": "A3iIGOdB7dL-",
        "colab": {
          "base_uri": "https://localhost:8080/",
          "height": 283
        },
        "outputId": "d10eb0a6-7ba1-4c4d-9b98-6d8d1120f1a9"
      },
      "source": [
        "# Transfer model of fmnist to mnist\n",
        "new_model = tf.keras.Sequential()\n",
        "for layer in model.layers[:-2]: # iterate until second layer and add that to new model\n",
        "    new_model.add(layer)\n",
        "new_model.add(Dense(10, activation='softmax'))\n",
        "\n",
        "train_model(new_model, (x_train_m, y_train_m), (x_test_m, y_test_m), nb_classes)"
      ],
      "execution_count": 62,
      "outputs": [
        {
          "output_type": "stream",
          "text": [
            "X_train shape: (60000, 28, 28, 1)\n",
            "60000 train samples\n",
            "10000 test samples\n",
            "Epoch 1/5\n",
            "469/469 [==============================] - 2s 4ms/step - loss: 0.9834 - accuracy: 0.6767 - val_loss: 0.4031 - val_accuracy: 0.8832\n",
            "Epoch 2/5\n",
            "469/469 [==============================] - 2s 3ms/step - loss: 0.5904 - accuracy: 0.8192 - val_loss: 0.3196 - val_accuracy: 0.9035\n",
            "Epoch 3/5\n",
            "469/469 [==============================] - 2s 3ms/step - loss: 0.5090 - accuracy: 0.8458 - val_loss: 0.2849 - val_accuracy: 0.9136\n",
            "Epoch 4/5\n",
            "469/469 [==============================] - 2s 3ms/step - loss: 0.4686 - accuracy: 0.8569 - val_loss: 0.2591 - val_accuracy: 0.9219\n",
            "Epoch 5/5\n",
            "469/469 [==============================] - 2s 3ms/step - loss: 0.4430 - accuracy: 0.8650 - val_loss: 0.2549 - val_accuracy: 0.9222\n",
            "Test score: 0.25490227341651917\n",
            "Test accuracy: 0.9222000241279602\n"
          ],
          "name": "stdout"
        }
      ]
    },
    {
      "cell_type": "markdown",
      "metadata": {
        "colab_type": "text",
        "id": "HJ_nIsmc7dMA"
      },
      "source": [
        " #### Model trained on MNIST from scratch"
      ]
    },
    {
      "cell_type": "code",
      "metadata": {
        "colab_type": "code",
        "id": "FHyt5uit7dMB",
        "colab": {}
      },
      "source": [
        "batch_size = 128\n",
        "nb_classes = 10\n",
        "nb_epoch = 5\n",
        "\n",
        "# input image dimensions\n",
        "img_rows, img_cols = 28, 28\n",
        "\n",
        "# number of convolutional filters to use\n",
        "nb_filters = 32\n",
        "\n",
        "# size of pooling area for max pooling\n",
        "pool_size = 2\n",
        "\n",
        "# convolution kernel size\n",
        "kernel_size = 3\n",
        "\n",
        "input_shape = (img_rows, img_cols, 1)"
      ],
      "execution_count": 66,
      "outputs": []
    },
    {
      "cell_type": "code",
      "metadata": {
        "colab_type": "code",
        "id": "dp3xxmJk7dME",
        "colab": {}
      },
      "source": [
        "def train_model(model, train, test, nb_classes):\n",
        "    X_train = train[0].reshape(-1, 28,28,1)\n",
        "    X_test = test[0].reshape(-1, 28,28,1)\n",
        "    X_train = X_train.astype('float32')\n",
        "    X_test = X_test.astype('float32')\n",
        "    X_train /= 255\n",
        "    X_test /= 255\n",
        "    print('X_train shape:', X_train.shape)\n",
        "    print(X_train.shape[0], 'train samples')\n",
        "    print(X_test.shape[0], 'test samples')\n",
        "\n",
        "    # convert class vectors to binary class matrices\n",
        "    Y_train = tf.keras.utils.to_categorical(train[1], nb_classes,dtype='uint8')\n",
        "    Y_test = tf.keras.utils.to_categorical(test[1], nb_classes,dtype='uint8')\n",
        "\n",
        "    model.compile(loss='categorical_crossentropy',optimizer=tf.keras.optimizers.Adam(0.003),metrics=['accuracy'])\n",
        "\n",
        "    model.fit(X_train, Y_train,batch_size=batch_size, epochs =nb_epoch,verbose=1,validation_data=(X_test, Y_test))\n",
        "    score = model.evaluate(X_test, Y_test, verbose=0)\n",
        "    print('Test score:', score[0])\n",
        "    print('Test accuracy:', score[1])"
      ],
      "execution_count": 67,
      "outputs": []
    },
    {
      "cell_type": "code",
      "metadata": {
        "colab_type": "code",
        "id": "61THtSf67dMG",
        "colab": {
          "base_uri": "https://localhost:8080/",
          "height": 283
        },
        "outputId": "951d26e3-6c05-4358-ee29-ef907ecac6cf"
      },
      "source": [
        "feature_layers = [\n",
        "    Conv2D(nb_filters, kernel_size, kernel_size,padding ='valid',input_shape=input_shape),\n",
        "    Activation('relu'),\n",
        "    Conv2D(nb_filters, kernel_size, kernel_size),\n",
        "    Activation('relu'),\n",
        "    MaxPooling2D(pool_size=(pool_size, pool_size)),\n",
        "    Dropout(0.25),\n",
        "    Flatten(),\n",
        "]\n",
        "classification_layers = [\n",
        "    Dense(128),\n",
        "    Activation('relu'),\n",
        "    Dropout(0.5),\n",
        "    Dense(nb_classes),\n",
        "    Activation('softmax')\n",
        "]\n",
        "\n",
        "# create complete model\n",
        "model = tf.keras.Sequential(feature_layers + classification_layers)\n",
        "\n",
        "train_model(model, (x_train_m, y_train_m), (x_test_m, y_test_m), nb_classes)"
      ],
      "execution_count": 68,
      "outputs": [
        {
          "output_type": "stream",
          "text": [
            "X_train shape: (60000, 28, 28, 1)\n",
            "60000 train samples\n",
            "10000 test samples\n",
            "Epoch 1/5\n",
            "469/469 [==============================] - 2s 4ms/step - loss: 0.9287 - accuracy: 0.6993 - val_loss: 0.3852 - val_accuracy: 0.8836\n",
            "Epoch 2/5\n",
            "469/469 [==============================] - 2s 3ms/step - loss: 0.5760 - accuracy: 0.8236 - val_loss: 0.3210 - val_accuracy: 0.9030\n",
            "Epoch 3/5\n",
            "469/469 [==============================] - 2s 3ms/step - loss: 0.5164 - accuracy: 0.8427 - val_loss: 0.2812 - val_accuracy: 0.9142\n",
            "Epoch 4/5\n",
            "469/469 [==============================] - 2s 3ms/step - loss: 0.4818 - accuracy: 0.8538 - val_loss: 0.2619 - val_accuracy: 0.9185\n",
            "Epoch 5/5\n",
            "469/469 [==============================] - 2s 3ms/step - loss: 0.4503 - accuracy: 0.8641 - val_loss: 0.2520 - val_accuracy: 0.9236\n",
            "Test score: 0.2520235478878021\n",
            "Test accuracy: 0.9236000180244446\n"
          ],
          "name": "stdout"
        }
      ]
    },
    {
      "cell_type": "markdown",
      "metadata": {
        "id": "7EZ14gHd8UbA",
        "colab_type": "text"
      },
      "source": [
        "## 3.3 Compare diffferent ways to do the transfer learning"
      ]
    },
    {
      "cell_type": "markdown",
      "metadata": {
        "id": "il9IVT9z9YkU",
        "colab_type": "text"
      },
      "source": [
        "### Freezing all pre-trained layers (i.e. set trainable to False)"
      ]
    },
    {
      "cell_type": "code",
      "metadata": {
        "id": "gOV1RusP9KMQ",
        "colab_type": "code",
        "colab": {
          "base_uri": "https://localhost:8080/",
          "height": 87
        },
        "outputId": "81a731dd-c41c-4986-d758-3fdc8c85219c"
      },
      "source": [
        "(x_train_m, y_train_m), (x_test_m, y_test_m) = tf.keras.datasets.mnist.load_data()\n",
        "\n",
        "print(\"Shape of mnist training examples:\", x_train_m.shape)\n",
        "print(\"Shape of mnist test examples:\", x_test_m.shape)\n",
        "\n",
        "(x_train_f, y_train_f), (x_test_f, y_test_f) = tf.keras.datasets.fashion_mnist.load_data()\n",
        "\n",
        "print(\"Shape of fmnist training examples:\", x_train_f.shape)\n",
        "print(\"Shape of fmnist test examples:\", x_test_f.shape)"
      ],
      "execution_count": 135,
      "outputs": [
        {
          "output_type": "stream",
          "text": [
            "Shape of mnist training examples: (60000, 28, 28)\n",
            "Shape of mnist test examples: (10000, 28, 28)\n",
            "Shape of fmnist training examples: (60000, 28, 28)\n",
            "Shape of fmnist test examples: (10000, 28, 28)\n"
          ],
          "name": "stdout"
        }
      ]
    },
    {
      "cell_type": "code",
      "metadata": {
        "id": "hbaXbe8H9l-M",
        "colab_type": "code",
        "colab": {}
      },
      "source": [
        "batch_size = 128\n",
        "nb_classes = 10\n",
        "nb_epoch = 5\n",
        "\n",
        "# input image dimensions\n",
        "img_rows, img_cols = 28, 28\n",
        "\n",
        "# number of convolutional filters to use\n",
        "nb_filters = 32\n",
        "\n",
        "# size of pooling area for max pooling\n",
        "pool_size = 2\n",
        "\n",
        "# convolution kernel size\n",
        "kernel_size = 3\n",
        "\n",
        "input_shape = (img_rows, img_cols, 1)"
      ],
      "execution_count": 136,
      "outputs": []
    },
    {
      "cell_type": "code",
      "metadata": {
        "id": "XZgoavVS9rWt",
        "colab_type": "code",
        "colab": {}
      },
      "source": [
        "def train_model(model, train, test, nb_classes):\n",
        "    X_train = train[0].reshape(-1, 28,28,1)\n",
        "    X_test = test[0].reshape(-1, 28,28,1)\n",
        "    X_train = X_train.astype('float32')\n",
        "    X_test = X_test.astype('float32')\n",
        "    X_train /= 255\n",
        "    X_test /= 255\n",
        "    print('X_train shape:', X_train.shape)\n",
        "    print(X_train.shape[0], 'train samples')\n",
        "    print(X_test.shape[0], 'test samples')\n",
        "\n",
        "    # convert class vectors to binary class matrices\n",
        "    Y_train = tf.keras.utils.to_categorical(train[1], nb_classes,dtype='uint8')\n",
        "    Y_test = tf.keras.utils.to_categorical(test[1], nb_classes,dtype='uint8')\n",
        "\n",
        "    model.compile(loss='categorical_crossentropy',optimizer=tf.keras.optimizers.Adam(0.003),metrics=['accuracy'])\n",
        "\n",
        "    model.fit(X_train, Y_train,batch_size=batch_size, epochs =nb_epoch,verbose=1,validation_data=(X_test, Y_test))\n",
        "    score = model.evaluate(X_test, Y_test, verbose=0)\n",
        "    print('Test score:', score[0])\n",
        "    print('Test accuracy:', score[1])"
      ],
      "execution_count": 137,
      "outputs": []
    },
    {
      "cell_type": "code",
      "metadata": {
        "id": "WzHRLTMd9wE1",
        "colab_type": "code",
        "colab": {
          "base_uri": "https://localhost:8080/",
          "height": 283
        },
        "outputId": "02011b23-d311-425e-d0a3-fa32666e415d"
      },
      "source": [
        "feature_layers = [\n",
        "    Conv2D(nb_filters, kernel_size, kernel_size,padding ='valid',input_shape=input_shape),\n",
        "    Activation('relu'),\n",
        "    Conv2D(nb_filters, kernel_size, kernel_size),\n",
        "    Activation('relu'),\n",
        "    MaxPooling2D(pool_size=(pool_size, pool_size)),\n",
        "    Dropout(0.25),\n",
        "    Flatten(),\n",
        "]\n",
        "classification_layers = [\n",
        "    Dense(128),\n",
        "    Activation('relu'),\n",
        "    Dropout(0.5),\n",
        "    Dense(nb_classes),\n",
        "    Activation('softmax')\n",
        "]\n",
        "\n",
        "# create complete model\n",
        "model = tf.keras.Sequential(feature_layers + classification_layers)\n",
        "\n",
        "train_model(model, (x_train_f, y_train_f), (x_test_f, y_test_f), nb_classes)"
      ],
      "execution_count": 138,
      "outputs": [
        {
          "output_type": "stream",
          "text": [
            "X_train shape: (60000, 28, 28, 1)\n",
            "60000 train samples\n",
            "10000 test samples\n",
            "Epoch 1/5\n",
            "469/469 [==============================] - 2s 4ms/step - loss: 0.9939 - accuracy: 0.6391 - val_loss: 0.6433 - val_accuracy: 0.7715\n",
            "Epoch 2/5\n",
            "469/469 [==============================] - 2s 3ms/step - loss: 0.7103 - accuracy: 0.7454 - val_loss: 0.5691 - val_accuracy: 0.7889\n",
            "Epoch 3/5\n",
            "469/469 [==============================] - 2s 4ms/step - loss: 0.6637 - accuracy: 0.7619 - val_loss: 0.5395 - val_accuracy: 0.8032\n",
            "Epoch 4/5\n",
            "469/469 [==============================] - 2s 3ms/step - loss: 0.6275 - accuracy: 0.7720 - val_loss: 0.5269 - val_accuracy: 0.8032\n",
            "Epoch 5/5\n",
            "469/469 [==============================] - 2s 4ms/step - loss: 0.6085 - accuracy: 0.7813 - val_loss: 0.5243 - val_accuracy: 0.8066\n",
            "Test score: 0.5242717862129211\n",
            "Test accuracy: 0.8065999746322632\n"
          ],
          "name": "stdout"
        }
      ]
    },
    {
      "cell_type": "code",
      "metadata": {
        "id": "GCnEkrzI9266",
        "colab_type": "code",
        "colab": {
          "base_uri": "https://localhost:8080/",
          "height": 283
        },
        "outputId": "e1040c82-97e8-4d4b-a153-4bf4b0f4073c"
      },
      "source": [
        "# Transfer model of mnist to fashion mnist\n",
        "new_model = tf.keras.Sequential()\n",
        "for layer in model.layers[:-1]: # iterate until second layer and add that to new model\n",
        "    layer.trainable = False\n",
        "    new_model.add(layer)\n",
        "\n",
        "train_model(new_model, (x_train_m, y_train_m), (x_test_m, y_test_m), nb_classes)"
      ],
      "execution_count": 139,
      "outputs": [
        {
          "output_type": "stream",
          "text": [
            "X_train shape: (60000, 28, 28, 1)\n",
            "60000 train samples\n",
            "10000 test samples\n",
            "Epoch 1/5\n",
            "469/469 [==============================] - 1s 3ms/step - loss: 5.7463 - accuracy: 0.1005 - val_loss: 5.6038 - val_accuracy: 0.1106\n",
            "Epoch 2/5\n",
            "469/469 [==============================] - 1s 3ms/step - loss: 5.7488 - accuracy: 0.1001 - val_loss: 5.6038 - val_accuracy: 0.1106\n",
            "Epoch 3/5\n",
            "469/469 [==============================] - 1s 3ms/step - loss: 5.7883 - accuracy: 0.1008 - val_loss: 5.6038 - val_accuracy: 0.1106\n",
            "Epoch 4/5\n",
            "469/469 [==============================] - 1s 3ms/step - loss: 5.7756 - accuracy: 0.1028 - val_loss: 5.6038 - val_accuracy: 0.1106\n",
            "Epoch 5/5\n",
            "469/469 [==============================] - 1s 3ms/step - loss: 5.7286 - accuracy: 0.1015 - val_loss: 5.6038 - val_accuracy: 0.1106\n",
            "Test score: 5.603766441345215\n",
            "Test accuracy: 0.11060000211000443\n"
          ],
          "name": "stdout"
        }
      ]
    },
    {
      "cell_type": "code",
      "metadata": {
        "id": "p4kutw3LBQHB",
        "colab_type": "code",
        "colab": {
          "base_uri": "https://localhost:8080/",
          "height": 550
        },
        "outputId": "f203941f-c3f5-407b-f1c1-1178e8f96640"
      },
      "source": [
        "new_model.summary()"
      ],
      "execution_count": 140,
      "outputs": [
        {
          "output_type": "stream",
          "text": [
            "Model: \"sequential_45\"\n",
            "_________________________________________________________________\n",
            "Layer (type)                 Output Shape              Param #   \n",
            "=================================================================\n",
            "conv2d_52 (Conv2D)           (None, 9, 9, 32)          320       \n",
            "_________________________________________________________________\n",
            "activation_102 (Activation)  (None, 9, 9, 32)          0         \n",
            "_________________________________________________________________\n",
            "conv2d_53 (Conv2D)           (None, 3, 3, 32)          9248      \n",
            "_________________________________________________________________\n",
            "activation_103 (Activation)  (None, 3, 3, 32)          0         \n",
            "_________________________________________________________________\n",
            "max_pooling2d_26 (MaxPooling (None, 1, 1, 32)          0         \n",
            "_________________________________________________________________\n",
            "dropout_50 (Dropout)         (None, 1, 1, 32)          0         \n",
            "_________________________________________________________________\n",
            "flatten_25 (Flatten)         (None, 32)                0         \n",
            "_________________________________________________________________\n",
            "dense_60 (Dense)             (None, 128)               4224      \n",
            "_________________________________________________________________\n",
            "activation_104 (Activation)  (None, 128)               0         \n",
            "_________________________________________________________________\n",
            "dropout_51 (Dropout)         (None, 128)               0         \n",
            "_________________________________________________________________\n",
            "dense_61 (Dense)             (None, 10)                1290      \n",
            "=================================================================\n",
            "Total params: 15,082\n",
            "Trainable params: 0\n",
            "Non-trainable params: 15,082\n",
            "_________________________________________________________________\n"
          ],
          "name": "stdout"
        }
      ]
    },
    {
      "cell_type": "markdown",
      "metadata": {
        "colab_type": "text",
        "id": "OzBWDbSj_D3j"
      },
      "source": [
        "### Freezing only some bottom layers"
      ]
    },
    {
      "cell_type": "code",
      "metadata": {
        "colab_type": "code",
        "id": "eknEZ69E_D3l",
        "colab": {
          "base_uri": "https://localhost:8080/",
          "height": 87
        },
        "outputId": "3a2991d6-7960-4bb9-bb3d-493eee625c4b"
      },
      "source": [
        "(x_train_m, y_train_m), (x_test_m, y_test_m) = tf.keras.datasets.mnist.load_data()\n",
        "\n",
        "print(\"Shape of mnist training examples:\", x_train_m.shape)\n",
        "print(\"Shape of mnist test examples:\", x_test_m.shape)\n",
        "\n",
        "(x_train_f, y_train_f), (x_test_f, y_test_f) = tf.keras.datasets.fashion_mnist.load_data()\n",
        "\n",
        "print(\"Shape of fmnist training examples:\", x_train_f.shape)\n",
        "print(\"Shape of fmnist test examples:\", x_test_f.shape)"
      ],
      "execution_count": 141,
      "outputs": [
        {
          "output_type": "stream",
          "text": [
            "Shape of mnist training examples: (60000, 28, 28)\n",
            "Shape of mnist test examples: (10000, 28, 28)\n",
            "Shape of fmnist training examples: (60000, 28, 28)\n",
            "Shape of fmnist test examples: (10000, 28, 28)\n"
          ],
          "name": "stdout"
        }
      ]
    },
    {
      "cell_type": "code",
      "metadata": {
        "colab_type": "code",
        "id": "-L6eVrBT_D3t",
        "colab": {}
      },
      "source": [
        "batch_size = 128\n",
        "nb_classes = 10\n",
        "nb_epoch = 5\n",
        "\n",
        "# input image dimensions\n",
        "img_rows, img_cols = 28, 28\n",
        "\n",
        "# number of convolutional filters to use\n",
        "nb_filters = 32\n",
        "\n",
        "# size of pooling area for max pooling\n",
        "pool_size = 2\n",
        "\n",
        "# convolution kernel size\n",
        "kernel_size = 3\n",
        "\n",
        "input_shape = (img_rows, img_cols, 1)"
      ],
      "execution_count": 142,
      "outputs": []
    },
    {
      "cell_type": "code",
      "metadata": {
        "colab_type": "code",
        "id": "FRLnbwSq_D3x",
        "colab": {}
      },
      "source": [
        "def train_model(model, train, test, nb_classes):\n",
        "    X_train = train[0].reshape(-1, 28,28,1)\n",
        "    X_test = test[0].reshape(-1, 28,28,1)\n",
        "    X_train = X_train.astype('float32')\n",
        "    X_test = X_test.astype('float32')\n",
        "    X_train /= 255\n",
        "    X_test /= 255\n",
        "    print('X_train shape:', X_train.shape)\n",
        "    print(X_train.shape[0], 'train samples')\n",
        "    print(X_test.shape[0], 'test samples')\n",
        "\n",
        "    # convert class vectors to binary class matrices\n",
        "    Y_train = tf.keras.utils.to_categorical(train[1], nb_classes,dtype='uint8')\n",
        "    Y_test = tf.keras.utils.to_categorical(test[1], nb_classes,dtype='uint8')\n",
        "\n",
        "    model.compile(loss='categorical_crossentropy',optimizer=tf.keras.optimizers.Adam(0.003),metrics=['accuracy'])\n",
        "\n",
        "    model.fit(X_train, Y_train,batch_size=batch_size, epochs =nb_epoch,verbose=1,validation_data=(X_test, Y_test))\n",
        "    score = model.evaluate(X_test, Y_test, verbose=0)\n",
        "    print('Test score:', score[0])\n",
        "    print('Test accuracy:', score[1])"
      ],
      "execution_count": 143,
      "outputs": []
    },
    {
      "cell_type": "code",
      "metadata": {
        "colab_type": "code",
        "id": "8gMc5myr_D3z",
        "colab": {
          "base_uri": "https://localhost:8080/",
          "height": 283
        },
        "outputId": "8a36b7a8-7cbc-4cb9-9f11-4afd81022409"
      },
      "source": [
        "feature_layers = [\n",
        "    Conv2D(nb_filters, kernel_size, kernel_size,padding ='valid',input_shape=input_shape),\n",
        "    Activation('relu'),\n",
        "    Conv2D(nb_filters, kernel_size, kernel_size),\n",
        "    Activation('relu'),\n",
        "    MaxPooling2D(pool_size=(pool_size, pool_size)),\n",
        "    Dropout(0.25),\n",
        "    Flatten(),\n",
        "]\n",
        "classification_layers = [\n",
        "    Dense(128),\n",
        "    Activation('relu'),\n",
        "    Dropout(0.5),\n",
        "    Dense(nb_classes),\n",
        "    Activation('softmax')\n",
        "]\n",
        "\n",
        "# create complete model\n",
        "model = tf.keras.Sequential(feature_layers + classification_layers)\n",
        "\n",
        "train_model(model, (x_train_f, y_train_f), (x_test_f, y_test_f), nb_classes)"
      ],
      "execution_count": 144,
      "outputs": [
        {
          "output_type": "stream",
          "text": [
            "X_train shape: (60000, 28, 28, 1)\n",
            "60000 train samples\n",
            "10000 test samples\n",
            "Epoch 1/5\n",
            "469/469 [==============================] - 2s 4ms/step - loss: 1.0017 - accuracy: 0.6351 - val_loss: 0.6419 - val_accuracy: 0.7637\n",
            "Epoch 2/5\n",
            "469/469 [==============================] - 2s 4ms/step - loss: 0.7288 - accuracy: 0.7368 - val_loss: 0.5744 - val_accuracy: 0.7949\n",
            "Epoch 3/5\n",
            "469/469 [==============================] - 2s 4ms/step - loss: 0.6653 - accuracy: 0.7592 - val_loss: 0.5440 - val_accuracy: 0.8035\n",
            "Epoch 4/5\n",
            "469/469 [==============================] - 2s 4ms/step - loss: 0.6313 - accuracy: 0.7719 - val_loss: 0.5272 - val_accuracy: 0.8065\n",
            "Epoch 5/5\n",
            "469/469 [==============================] - 2s 4ms/step - loss: 0.6108 - accuracy: 0.7787 - val_loss: 0.5202 - val_accuracy: 0.8066\n",
            "Test score: 0.5201557874679565\n",
            "Test accuracy: 0.8065999746322632\n"
          ],
          "name": "stdout"
        }
      ]
    },
    {
      "cell_type": "code",
      "metadata": {
        "id": "J7jhNXQF_WyV",
        "colab_type": "code",
        "colab": {}
      },
      "source": [
        "# model.summary()  "
      ],
      "execution_count": 111,
      "outputs": []
    },
    {
      "cell_type": "code",
      "metadata": {
        "colab_type": "code",
        "id": "iqOl3XSJ_D34",
        "colab": {
          "base_uri": "https://localhost:8080/",
          "height": 283
        },
        "outputId": "0ab090fb-e6f5-477f-f631-e75a31038676"
      },
      "source": [
        "# Transfer model of mnist to fashion mnist\n",
        "new_model = tf.keras.Sequential()\n",
        "\n",
        "for layer in model.layers[:-1]: # iterate until second layer and add that to new model\n",
        "  if 'dense' in layer.name:\n",
        "    layer.trainable = False\n",
        "    new_model.add(layer)\n",
        "  else:\n",
        "    new_model.add(layer)\n",
        "\n",
        "# new_model.add(Dense(10, activation='softmax'))\n",
        "\n",
        "train_model(new_model, (x_train_m, y_train_m), (x_test_m, y_test_m), nb_classes)"
      ],
      "execution_count": 145,
      "outputs": [
        {
          "output_type": "stream",
          "text": [
            "X_train shape: (60000, 28, 28, 1)\n",
            "60000 train samples\n",
            "10000 test samples\n",
            "Epoch 1/5\n",
            "469/469 [==============================] - 2s 4ms/step - loss: 3.2344 - accuracy: 0.0728 - val_loss: 2.2985 - val_accuracy: 0.0282\n",
            "Epoch 2/5\n",
            "469/469 [==============================] - 2s 4ms/step - loss: 2.6091 - accuracy: 0.0179 - val_loss: 2.0605 - val_accuracy: 0.0104\n",
            "Epoch 3/5\n",
            "469/469 [==============================] - 2s 3ms/step - loss: 2.1437 - accuracy: 0.0100 - val_loss: 1.6446 - val_accuracy: 0.0059\n",
            "Epoch 4/5\n",
            "469/469 [==============================] - 2s 3ms/step - loss: 1.9719 - accuracy: 0.0077 - val_loss: 1.6223 - val_accuracy: 0.0047\n",
            "Epoch 5/5\n",
            "469/469 [==============================] - 2s 3ms/step - loss: 1.8572 - accuracy: 0.0063 - val_loss: 1.8035 - val_accuracy: 0.0038\n",
            "Test score: 1.8035081624984741\n",
            "Test accuracy: 0.003800000064074993\n"
          ],
          "name": "stdout"
        }
      ]
    },
    {
      "cell_type": "code",
      "metadata": {
        "id": "cGZSPrsTBEcL",
        "colab_type": "code",
        "colab": {
          "base_uri": "https://localhost:8080/",
          "height": 550
        },
        "outputId": "19eae0c9-fe95-4c0a-9ed2-de4bc328b3be"
      },
      "source": [
        "new_model.summary()"
      ],
      "execution_count": 146,
      "outputs": [
        {
          "output_type": "stream",
          "text": [
            "Model: \"sequential_47\"\n",
            "_________________________________________________________________\n",
            "Layer (type)                 Output Shape              Param #   \n",
            "=================================================================\n",
            "conv2d_54 (Conv2D)           (None, 9, 9, 32)          320       \n",
            "_________________________________________________________________\n",
            "activation_106 (Activation)  (None, 9, 9, 32)          0         \n",
            "_________________________________________________________________\n",
            "conv2d_55 (Conv2D)           (None, 3, 3, 32)          9248      \n",
            "_________________________________________________________________\n",
            "activation_107 (Activation)  (None, 3, 3, 32)          0         \n",
            "_________________________________________________________________\n",
            "max_pooling2d_27 (MaxPooling (None, 1, 1, 32)          0         \n",
            "_________________________________________________________________\n",
            "dropout_52 (Dropout)         (None, 1, 1, 32)          0         \n",
            "_________________________________________________________________\n",
            "flatten_26 (Flatten)         (None, 32)                0         \n",
            "_________________________________________________________________\n",
            "dense_62 (Dense)             (None, 128)               4224      \n",
            "_________________________________________________________________\n",
            "activation_108 (Activation)  (None, 128)               0         \n",
            "_________________________________________________________________\n",
            "dropout_53 (Dropout)         (None, 128)               0         \n",
            "_________________________________________________________________\n",
            "dense_63 (Dense)             (None, 10)                1290      \n",
            "=================================================================\n",
            "Total params: 15,082\n",
            "Trainable params: 9,568\n",
            "Non-trainable params: 5,514\n",
            "_________________________________________________________________\n"
          ],
          "name": "stdout"
        }
      ]
    },
    {
      "cell_type": "markdown",
      "metadata": {
        "colab_type": "text",
        "id": "j-9FRnyUBpES"
      },
      "source": [
        "### Replacing (or reinitializing) multiple top layers"
      ]
    },
    {
      "cell_type": "code",
      "metadata": {
        "colab_type": "code",
        "id": "2Gy3L6RLBpEU",
        "colab": {
          "base_uri": "https://localhost:8080/",
          "height": 87
        },
        "outputId": "702b95eb-5abb-4c38-e73f-be105942f660"
      },
      "source": [
        "(x_train_m, y_train_m), (x_test_m, y_test_m) = tf.keras.datasets.mnist.load_data()\n",
        "\n",
        "print(\"Shape of mnist training examples:\", x_train_m.shape)\n",
        "print(\"Shape of mnist test examples:\", x_test_m.shape)\n",
        "\n",
        "(x_train_f, y_train_f), (x_test_f, y_test_f) = tf.keras.datasets.fashion_mnist.load_data()\n",
        "\n",
        "print(\"Shape of fmnist training examples:\", x_train_f.shape)\n",
        "print(\"Shape of fmnist test examples:\", x_test_f.shape)"
      ],
      "execution_count": 147,
      "outputs": [
        {
          "output_type": "stream",
          "text": [
            "Shape of mnist training examples: (60000, 28, 28)\n",
            "Shape of mnist test examples: (10000, 28, 28)\n",
            "Shape of fmnist training examples: (60000, 28, 28)\n",
            "Shape of fmnist test examples: (10000, 28, 28)\n"
          ],
          "name": "stdout"
        }
      ]
    },
    {
      "cell_type": "code",
      "metadata": {
        "colab_type": "code",
        "id": "pa9kMAWABpEX",
        "colab": {}
      },
      "source": [
        "batch_size = 128\n",
        "nb_classes = 10\n",
        "nb_epoch = 5\n",
        "\n",
        "# input image dimensions\n",
        "img_rows, img_cols = 28, 28\n",
        "\n",
        "# number of convolutional filters to use\n",
        "nb_filters = 32\n",
        "\n",
        "# size of pooling area for max pooling\n",
        "pool_size = 2\n",
        "\n",
        "# convolution kernel size\n",
        "kernel_size = 3\n",
        "\n",
        "input_shape = (img_rows, img_cols, 1)"
      ],
      "execution_count": 148,
      "outputs": []
    },
    {
      "cell_type": "code",
      "metadata": {
        "colab_type": "code",
        "id": "YFK8gvuYBpEa",
        "colab": {}
      },
      "source": [
        "def train_model(model, train, test, nb_classes):\n",
        "    X_train = train[0].reshape(-1, 28,28,1)\n",
        "    X_test = test[0].reshape(-1, 28,28,1)\n",
        "    X_train = X_train.astype('float32')\n",
        "    X_test = X_test.astype('float32')\n",
        "    X_train /= 255\n",
        "    X_test /= 255\n",
        "    print('X_train shape:', X_train.shape)\n",
        "    print(X_train.shape[0], 'train samples')\n",
        "    print(X_test.shape[0], 'test samples')\n",
        "\n",
        "    # convert class vectors to binary class matrices\n",
        "    Y_train = tf.keras.utils.to_categorical(train[1], nb_classes,dtype='uint8')\n",
        "    Y_test = tf.keras.utils.to_categorical(test[1], nb_classes,dtype='uint8')\n",
        "\n",
        "    model.compile(loss='categorical_crossentropy',optimizer=tf.keras.optimizers.Adam(0.003),metrics=['accuracy'])\n",
        "\n",
        "    model.fit(X_train, Y_train,batch_size=batch_size, epochs =nb_epoch,verbose=1,validation_data=(X_test, Y_test))\n",
        "    score = model.evaluate(X_test, Y_test, verbose=0)\n",
        "    print('Test score:', score[0])\n",
        "    print('Test accuracy:', score[1])"
      ],
      "execution_count": 149,
      "outputs": []
    },
    {
      "cell_type": "code",
      "metadata": {
        "colab_type": "code",
        "id": "yCUR3VWCBpEd",
        "colab": {
          "base_uri": "https://localhost:8080/",
          "height": 283
        },
        "outputId": "6425ab8e-bb74-40e1-bdde-9caf911239db"
      },
      "source": [
        "feature_layers = [\n",
        "    Conv2D(nb_filters, kernel_size, kernel_size,padding ='valid',input_shape=input_shape),\n",
        "    Activation('relu'),\n",
        "    Conv2D(nb_filters, kernel_size, kernel_size),\n",
        "    Activation('relu'),\n",
        "    MaxPooling2D(pool_size=(pool_size, pool_size)),\n",
        "    Dropout(0.25),\n",
        "    Flatten(),\n",
        "]\n",
        "classification_layers = [\n",
        "    Dense(128),\n",
        "    Activation('relu'),\n",
        "    Dropout(0.5),\n",
        "    Dense(nb_classes),\n",
        "    Activation('softmax')\n",
        "]\n",
        "\n",
        "# create complete model\n",
        "model = tf.keras.Sequential(feature_layers + classification_layers)\n",
        "\n",
        "train_model(model, (x_train_f, y_train_f), (x_test_f, y_test_f), nb_classes)"
      ],
      "execution_count": 150,
      "outputs": [
        {
          "output_type": "stream",
          "text": [
            "X_train shape: (60000, 28, 28, 1)\n",
            "60000 train samples\n",
            "10000 test samples\n",
            "Epoch 1/5\n",
            "469/469 [==============================] - 2s 4ms/step - loss: 1.0369 - accuracy: 0.6251 - val_loss: 0.6541 - val_accuracy: 0.7617\n",
            "Epoch 2/5\n",
            "469/469 [==============================] - 2s 4ms/step - loss: 0.7412 - accuracy: 0.7354 - val_loss: 0.5859 - val_accuracy: 0.7884\n",
            "Epoch 3/5\n",
            "469/469 [==============================] - 2s 4ms/step - loss: 0.6826 - accuracy: 0.7544 - val_loss: 0.5624 - val_accuracy: 0.7955\n",
            "Epoch 4/5\n",
            "469/469 [==============================] - 2s 4ms/step - loss: 0.6491 - accuracy: 0.7654 - val_loss: 0.5381 - val_accuracy: 0.8021\n",
            "Epoch 5/5\n",
            "469/469 [==============================] - 2s 4ms/step - loss: 0.6306 - accuracy: 0.7717 - val_loss: 0.5389 - val_accuracy: 0.8010\n",
            "Test score: 0.5388669967651367\n",
            "Test accuracy: 0.8009999990463257\n"
          ],
          "name": "stdout"
        }
      ]
    },
    {
      "cell_type": "code",
      "metadata": {
        "colab_type": "code",
        "id": "55vzEOiPBpEf",
        "colab": {
          "base_uri": "https://localhost:8080/",
          "height": 585
        },
        "outputId": "b5e60eee-a948-450f-950d-61f3409e5b80"
      },
      "source": [
        "model.summary()  "
      ],
      "execution_count": 151,
      "outputs": [
        {
          "output_type": "stream",
          "text": [
            "Model: \"sequential_48\"\n",
            "_________________________________________________________________\n",
            "Layer (type)                 Output Shape              Param #   \n",
            "=================================================================\n",
            "conv2d_56 (Conv2D)           (None, 9, 9, 32)          320       \n",
            "_________________________________________________________________\n",
            "activation_110 (Activation)  (None, 9, 9, 32)          0         \n",
            "_________________________________________________________________\n",
            "conv2d_57 (Conv2D)           (None, 3, 3, 32)          9248      \n",
            "_________________________________________________________________\n",
            "activation_111 (Activation)  (None, 3, 3, 32)          0         \n",
            "_________________________________________________________________\n",
            "max_pooling2d_28 (MaxPooling (None, 1, 1, 32)          0         \n",
            "_________________________________________________________________\n",
            "dropout_54 (Dropout)         (None, 1, 1, 32)          0         \n",
            "_________________________________________________________________\n",
            "flatten_27 (Flatten)         (None, 32)                0         \n",
            "_________________________________________________________________\n",
            "dense_64 (Dense)             (None, 128)               4224      \n",
            "_________________________________________________________________\n",
            "activation_112 (Activation)  (None, 128)               0         \n",
            "_________________________________________________________________\n",
            "dropout_55 (Dropout)         (None, 128)               0         \n",
            "_________________________________________________________________\n",
            "dense_65 (Dense)             (None, 10)                1290      \n",
            "_________________________________________________________________\n",
            "activation_113 (Activation)  (None, 10)                0         \n",
            "=================================================================\n",
            "Total params: 15,082\n",
            "Trainable params: 15,082\n",
            "Non-trainable params: 0\n",
            "_________________________________________________________________\n"
          ],
          "name": "stdout"
        }
      ]
    },
    {
      "cell_type": "code",
      "metadata": {
        "colab_type": "code",
        "id": "3amT2PJyBpEi",
        "colab": {
          "base_uri": "https://localhost:8080/",
          "height": 318
        },
        "outputId": "ca70dc2b-ecd6-4936-f124-7e6ebcfb6ffe"
      },
      "source": [
        "# Transfer model of mnist to fashion mnist\n",
        "new_model = tf.keras.Sequential()\n",
        "for i, layer in enumerate(model.layers):\n",
        "    if 'conv2d' in layer.name:\n",
        "        print(layer.name)\n",
        "        weight_initializer = model.layers[i].kernel_initializer\n",
        "        bias_initializer = model.layers[i].bias_initializer\n",
        "\n",
        "        old_weights, old_biases = model.layers[i].get_weights()\n",
        "\n",
        "        model.layers[i].set_weights([weight_initializer(shape=old_weights.shape),bias_initializer(shape=len(old_biases))])\n",
        "        new_model.add(model.layers[i])\n",
        "    else:\n",
        "        new_model.add(model.layers[i])\n",
        "\n",
        "# new_model.add(Dense(10, activation='softmax'))\n",
        "\n",
        "train_model(new_model, (x_train_m, y_train_m), (x_test_m, y_test_m), nb_classes)"
      ],
      "execution_count": 152,
      "outputs": [
        {
          "output_type": "stream",
          "text": [
            "conv2d_56\n",
            "conv2d_57\n",
            "X_train shape: (60000, 28, 28, 1)\n",
            "60000 train samples\n",
            "10000 test samples\n",
            "Epoch 1/5\n",
            "469/469 [==============================] - 2s 4ms/step - loss: 0.8943 - accuracy: 0.7143 - val_loss: 0.3646 - val_accuracy: 0.8984\n",
            "Epoch 2/5\n",
            "469/469 [==============================] - 2s 4ms/step - loss: 0.5501 - accuracy: 0.8317 - val_loss: 0.3008 - val_accuracy: 0.9107\n",
            "Epoch 3/5\n",
            "469/469 [==============================] - 2s 4ms/step - loss: 0.4869 - accuracy: 0.8518 - val_loss: 0.2596 - val_accuracy: 0.9206\n",
            "Epoch 4/5\n",
            "469/469 [==============================] - 2s 4ms/step - loss: 0.4527 - accuracy: 0.8626 - val_loss: 0.2401 - val_accuracy: 0.9293\n",
            "Epoch 5/5\n",
            "469/469 [==============================] - 2s 4ms/step - loss: 0.4295 - accuracy: 0.8694 - val_loss: 0.2339 - val_accuracy: 0.9278\n",
            "Test score: 0.23390454053878784\n",
            "Test accuracy: 0.9277999997138977\n"
          ],
          "name": "stdout"
        }
      ]
    },
    {
      "cell_type": "code",
      "metadata": {
        "colab_type": "code",
        "id": "MHmiQrSXBpEm",
        "colab": {
          "base_uri": "https://localhost:8080/",
          "height": 585
        },
        "outputId": "87581424-98e2-46e8-c01f-dfc09fdbd401"
      },
      "source": [
        "new_model.summary()"
      ],
      "execution_count": 153,
      "outputs": [
        {
          "output_type": "stream",
          "text": [
            "Model: \"sequential_49\"\n",
            "_________________________________________________________________\n",
            "Layer (type)                 Output Shape              Param #   \n",
            "=================================================================\n",
            "conv2d_56 (Conv2D)           (None, 9, 9, 32)          320       \n",
            "_________________________________________________________________\n",
            "activation_110 (Activation)  (None, 9, 9, 32)          0         \n",
            "_________________________________________________________________\n",
            "conv2d_57 (Conv2D)           (None, 3, 3, 32)          9248      \n",
            "_________________________________________________________________\n",
            "activation_111 (Activation)  (None, 3, 3, 32)          0         \n",
            "_________________________________________________________________\n",
            "max_pooling2d_28 (MaxPooling (None, 1, 1, 32)          0         \n",
            "_________________________________________________________________\n",
            "dropout_54 (Dropout)         (None, 1, 1, 32)          0         \n",
            "_________________________________________________________________\n",
            "flatten_27 (Flatten)         (None, 32)                0         \n",
            "_________________________________________________________________\n",
            "dense_64 (Dense)             (None, 128)               4224      \n",
            "_________________________________________________________________\n",
            "activation_112 (Activation)  (None, 128)               0         \n",
            "_________________________________________________________________\n",
            "dropout_55 (Dropout)         (None, 128)               0         \n",
            "_________________________________________________________________\n",
            "dense_65 (Dense)             (None, 10)                1290      \n",
            "_________________________________________________________________\n",
            "activation_113 (Activation)  (None, 10)                0         \n",
            "=================================================================\n",
            "Total params: 15,082\n",
            "Trainable params: 15,082\n",
            "Non-trainable params: 0\n",
            "_________________________________________________________________\n"
          ],
          "name": "stdout"
        }
      ]
    },
    {
      "cell_type": "markdown",
      "metadata": {
        "colab_type": "text",
        "id": "tP3ArAWoQIRM"
      },
      "source": [
        "### Replacing the source classification layer by multiple new ones for the target domain"
      ]
    },
    {
      "cell_type": "code",
      "metadata": {
        "colab_type": "code",
        "id": "DSzOtXFhQIRZ",
        "colab": {
          "base_uri": "https://localhost:8080/",
          "height": 87
        },
        "outputId": "f5e6de7e-84ba-4d37-b12e-36ea523a7e95"
      },
      "source": [
        "(x_train_m, y_train_m), (x_test_m, y_test_m) = tf.keras.datasets.mnist.load_data()\n",
        "\n",
        "print(\"Shape of mnist training examples:\", x_train_m.shape)\n",
        "print(\"Shape of mnist test examples:\", x_test_m.shape)\n",
        "\n",
        "(x_train_f, y_train_f), (x_test_f, y_test_f) = tf.keras.datasets.fashion_mnist.load_data()\n",
        "\n",
        "print(\"Shape of fmnist training examples:\", x_train_f.shape)\n",
        "print(\"Shape of fmnist test examples:\", x_test_f.shape)"
      ],
      "execution_count": 160,
      "outputs": [
        {
          "output_type": "stream",
          "text": [
            "Shape of mnist training examples: (60000, 28, 28)\n",
            "Shape of mnist test examples: (10000, 28, 28)\n",
            "Shape of fmnist training examples: (60000, 28, 28)\n",
            "Shape of fmnist test examples: (10000, 28, 28)\n"
          ],
          "name": "stdout"
        }
      ]
    },
    {
      "cell_type": "code",
      "metadata": {
        "colab_type": "code",
        "id": "LnV7X5RUQIRh",
        "colab": {}
      },
      "source": [
        "batch_size = 128\n",
        "nb_classes = 10\n",
        "nb_epoch = 5\n",
        "\n",
        "# input image dimensions\n",
        "img_rows, img_cols = 28, 28\n",
        "\n",
        "# number of convolutional filters to use\n",
        "nb_filters = 32\n",
        "\n",
        "# size of pooling area for max pooling\n",
        "pool_size = 2\n",
        "\n",
        "# convolution kernel size\n",
        "kernel_size = 3\n",
        "\n",
        "input_shape = (img_rows, img_cols, 1)"
      ],
      "execution_count": 161,
      "outputs": []
    },
    {
      "cell_type": "code",
      "metadata": {
        "colab_type": "code",
        "id": "eEYdmnOFQIRp",
        "colab": {}
      },
      "source": [
        "def train_model(model, train, test, nb_classes):\n",
        "    X_train = train[0].reshape(-1, 28,28,1)\n",
        "    X_test = test[0].reshape(-1, 28,28,1)\n",
        "    X_train = X_train.astype('float32')\n",
        "    X_test = X_test.astype('float32')\n",
        "    X_train /= 255\n",
        "    X_test /= 255\n",
        "    print('X_train shape:', X_train.shape)\n",
        "    print(X_train.shape[0], 'train samples')\n",
        "    print(X_test.shape[0], 'test samples')\n",
        "\n",
        "    # convert class vectors to binary class matrices\n",
        "    Y_train = tf.keras.utils.to_categorical(train[1], nb_classes,dtype='uint8')\n",
        "    Y_test = tf.keras.utils.to_categorical(test[1], nb_classes,dtype='uint8')\n",
        "\n",
        "    model.compile(loss='categorical_crossentropy',optimizer=tf.keras.optimizers.Adam(0.003),metrics=['accuracy'])\n",
        "\n",
        "    model.fit(X_train, Y_train,batch_size=batch_size, epochs =nb_epoch,verbose=1,validation_data=(X_test, Y_test))\n",
        "    score = model.evaluate(X_test, Y_test, verbose=0)\n",
        "    print('Test score:', score[0])\n",
        "    print('Test accuracy:', score[1])"
      ],
      "execution_count": 162,
      "outputs": []
    },
    {
      "cell_type": "code",
      "metadata": {
        "colab_type": "code",
        "id": "EFlOwBj0QIRu",
        "colab": {
          "base_uri": "https://localhost:8080/",
          "height": 283
        },
        "outputId": "b642fdf2-0b62-48aa-c8e9-ae3e8890c320"
      },
      "source": [
        "feature_layers = [\n",
        "    Conv2D(nb_filters, kernel_size, kernel_size,padding ='valid',input_shape=input_shape),\n",
        "    Activation('relu'),\n",
        "    Conv2D(nb_filters, kernel_size, kernel_size),\n",
        "    Activation('relu'),\n",
        "    MaxPooling2D(pool_size=(pool_size, pool_size)),\n",
        "    Dropout(0.25),\n",
        "    Flatten(),\n",
        "]\n",
        "classification_layers = [\n",
        "    Dense(128),\n",
        "    Activation('relu'),\n",
        "    Dropout(0.5),\n",
        "    Dense(nb_classes),\n",
        "    Activation('softmax')\n",
        "]\n",
        "\n",
        "# create complete model\n",
        "model = tf.keras.Sequential(feature_layers + classification_layers)\n",
        "\n",
        "train_model(model, (x_train_f, y_train_f), (x_test_f, y_test_f), nb_classes)"
      ],
      "execution_count": 163,
      "outputs": [
        {
          "output_type": "stream",
          "text": [
            "X_train shape: (60000, 28, 28, 1)\n",
            "60000 train samples\n",
            "10000 test samples\n",
            "Epoch 1/5\n",
            "469/469 [==============================] - 2s 4ms/step - loss: 1.0173 - accuracy: 0.6287 - val_loss: 0.6503 - val_accuracy: 0.7577\n",
            "Epoch 2/5\n",
            "469/469 [==============================] - 2s 4ms/step - loss: 0.7397 - accuracy: 0.7330 - val_loss: 0.5910 - val_accuracy: 0.7842\n",
            "Epoch 3/5\n",
            "469/469 [==============================] - 2s 4ms/step - loss: 0.6865 - accuracy: 0.7528 - val_loss: 0.5685 - val_accuracy: 0.7890\n",
            "Epoch 4/5\n",
            "469/469 [==============================] - 2s 4ms/step - loss: 0.6539 - accuracy: 0.7650 - val_loss: 0.5472 - val_accuracy: 0.7976\n",
            "Epoch 5/5\n",
            "469/469 [==============================] - 2s 4ms/step - loss: 0.6354 - accuracy: 0.7715 - val_loss: 0.5371 - val_accuracy: 0.8034\n",
            "Test score: 0.5370766520500183\n",
            "Test accuracy: 0.8033999800682068\n"
          ],
          "name": "stdout"
        }
      ]
    },
    {
      "cell_type": "code",
      "metadata": {
        "colab_type": "code",
        "id": "j2xYi9K5QIRz",
        "colab": {
          "base_uri": "https://localhost:8080/",
          "height": 283
        },
        "outputId": "0015f864-0153-40c5-fda6-8e064169d86b"
      },
      "source": [
        "# Transfer model of mnist to fashion mnist\n",
        "new_model = tf.keras.Sequential()\n",
        "for layer in model.layers[:-2]: # iterate until second layer and add that to new model\n",
        "    new_model.add(layer)\n",
        "\n",
        "# replacing source classification layer with multiple dense layers  \n",
        "\n",
        "# new_model.add(Dense(10, activation='softmax')) results better in 64,10,10 than 10,10,10 dense layers\n",
        "new_model.add(Dense(64, activation='softmax'))\n",
        "new_model.add(Dense(10, activation='softmax'))\n",
        "new_model.add(Dense(10, activation='softmax'))\n",
        "\n",
        "train_model(new_model, (x_train_m, y_train_m), (x_test_m, y_test_m), nb_classes)"
      ],
      "execution_count": 164,
      "outputs": [
        {
          "output_type": "stream",
          "text": [
            "X_train shape: (60000, 28, 28, 1)\n",
            "60000 train samples\n",
            "10000 test samples\n",
            "Epoch 1/5\n",
            "469/469 [==============================] - 2s 4ms/step - loss: 1.9290 - accuracy: 0.4467 - val_loss: 1.4271 - val_accuracy: 0.5592\n",
            "Epoch 2/5\n",
            "469/469 [==============================] - 2s 4ms/step - loss: 1.3180 - accuracy: 0.5450 - val_loss: 1.1113 - val_accuracy: 0.5839\n",
            "Epoch 3/5\n",
            "469/469 [==============================] - 2s 4ms/step - loss: 1.1331 - accuracy: 0.5784 - val_loss: 0.9744 - val_accuracy: 0.6321\n",
            "Epoch 4/5\n",
            "469/469 [==============================] - 2s 4ms/step - loss: 1.0046 - accuracy: 0.6459 - val_loss: 0.7698 - val_accuracy: 0.7590\n",
            "Epoch 5/5\n",
            "469/469 [==============================] - 2s 4ms/step - loss: 0.8491 - accuracy: 0.7348 - val_loss: 0.6172 - val_accuracy: 0.8437\n",
            "Test score: 0.6172254085540771\n",
            "Test accuracy: 0.8436999917030334\n"
          ],
          "name": "stdout"
        }
      ]
    },
    {
      "cell_type": "code",
      "metadata": {
        "colab_type": "code",
        "id": "6U0-lXFOQIR2",
        "colab": {
          "base_uri": "https://localhost:8080/",
          "height": 621
        },
        "outputId": "08bdf6c1-a1a3-4432-a1db-872d3d21fdbc"
      },
      "source": [
        "new_model.summary()"
      ],
      "execution_count": 165,
      "outputs": [
        {
          "output_type": "stream",
          "text": [
            "Model: \"sequential_53\"\n",
            "_________________________________________________________________\n",
            "Layer (type)                 Output Shape              Param #   \n",
            "=================================================================\n",
            "conv2d_60 (Conv2D)           (None, 9, 9, 32)          320       \n",
            "_________________________________________________________________\n",
            "activation_118 (Activation)  (None, 9, 9, 32)          0         \n",
            "_________________________________________________________________\n",
            "conv2d_61 (Conv2D)           (None, 3, 3, 32)          9248      \n",
            "_________________________________________________________________\n",
            "activation_119 (Activation)  (None, 3, 3, 32)          0         \n",
            "_________________________________________________________________\n",
            "max_pooling2d_30 (MaxPooling (None, 1, 1, 32)          0         \n",
            "_________________________________________________________________\n",
            "dropout_58 (Dropout)         (None, 1, 1, 32)          0         \n",
            "_________________________________________________________________\n",
            "flatten_29 (Flatten)         (None, 32)                0         \n",
            "_________________________________________________________________\n",
            "dense_71 (Dense)             (None, 128)               4224      \n",
            "_________________________________________________________________\n",
            "activation_120 (Activation)  (None, 128)               0         \n",
            "_________________________________________________________________\n",
            "dropout_59 (Dropout)         (None, 128)               0         \n",
            "_________________________________________________________________\n",
            "dense_73 (Dense)             (None, 64)                8256      \n",
            "_________________________________________________________________\n",
            "dense_74 (Dense)             (None, 10)                650       \n",
            "_________________________________________________________________\n",
            "dense_75 (Dense)             (None, 10)                110       \n",
            "=================================================================\n",
            "Total params: 22,808\n",
            "Trainable params: 22,808\n",
            "Non-trainable params: 0\n",
            "_________________________________________________________________\n"
          ],
          "name": "stdout"
        }
      ]
    }
  ]
}
{
  "nbformat": 4,
  "nbformat_minor": 0,
  "metadata": {
    "colab": {
      "name": "IDL_Assignment_1.ipynb",
      "provenance": [],
      "collapsed_sections": [],
      "toc_visible": true
    },
    "kernelspec": {
      "name": "python3",
      "display_name": "Python 3"
    },
    "accelerator": "GPU"
  },
  "cells": [
    {
      "cell_type": "markdown",
      "metadata": {
        "id": "2g5BXeFOPUjG",
        "colab_type": "text"
      },
      "source": [
        "**IDL Assignment - 1 (MLP)**\n",
        "\n",
        "Team Members:\n",
        "\n",
        "Sanjeeth Busnur Indushekar(224133)\n",
        "\n",
        "Suraj Shashidhar(230052)\n",
        "\n",
        "Aditya Dey(230580)\n"
      ]
    },
    {
      "cell_type": "code",
      "metadata": {
        "id": "94X78A87lqP2",
        "colab_type": "code",
        "colab": {}
      },
      "source": [
        "%tensorflow_version 2.x\n",
        "import tensorflow as tf\n",
        "import numpy as np\n",
        "import matplotlib.pyplot as plt\n"
      ],
      "execution_count": 0,
      "outputs": []
    },
    {
      "cell_type": "code",
      "metadata": {
        "id": "ZhxoOdM-BXml",
        "colab_type": "code",
        "outputId": "79ccb820-8284-4dfe-a492-f698ba03d32f",
        "colab": {
          "base_uri": "https://localhost:8080/",
          "height": 122
        }
      },
      "source": [
        "from google.colab import drive\n",
        "drive.mount('/content/drive')"
      ],
      "execution_count": 2,
      "outputs": [
        {
          "output_type": "stream",
          "text": [
            "Go to this URL in a browser: https://accounts.google.com/o/oauth2/auth?client_id=947318989803-6bn6qk8qdgf4n4g3pfee6491hc0brc4i.apps.googleusercontent.com&redirect_uri=urn%3aietf%3awg%3aoauth%3a2.0%3aoob&response_type=code&scope=email%20https%3a%2f%2fwww.googleapis.com%2fauth%2fdocs.test%20https%3a%2f%2fwww.googleapis.com%2fauth%2fdrive%20https%3a%2f%2fwww.googleapis.com%2fauth%2fdrive.photos.readonly%20https%3a%2f%2fwww.googleapis.com%2fauth%2fpeopleapi.readonly\n",
            "\n",
            "Enter your authorization code:\n",
            "··········\n",
            "Mounted at /content/drive\n"
          ],
          "name": "stdout"
        }
      ]
    },
    {
      "cell_type": "code",
      "metadata": {
        "id": "QDFs0XW2mcaW",
        "colab_type": "code",
        "colab": {}
      },
      "source": [
        "import os"
      ],
      "execution_count": 0,
      "outputs": []
    },
    {
      "cell_type": "code",
      "metadata": {
        "id": "Ebt6flxrmhPk",
        "colab_type": "code",
        "colab": {}
      },
      "source": [
        "os.chdir('/content/drive/My Drive/Colab Notebooks')"
      ],
      "execution_count": 0,
      "outputs": []
    },
    {
      "cell_type": "code",
      "metadata": {
        "id": "PiXXDk1wmulm",
        "colab_type": "code",
        "colab": {}
      },
      "source": [
        "from datasets import MNISTDataset"
      ],
      "execution_count": 0,
      "outputs": []
    },
    {
      "cell_type": "code",
      "metadata": {
        "id": "jsEoxN_tm6I5",
        "colab_type": "code",
        "outputId": "dd3a1ef2-e6ab-42a6-9a9b-e9700235ab44",
        "colab": {
          "base_uri": "https://localhost:8080/",
          "height": 316
        }
      },
      "source": [
        "mnist = tf.keras.datasets.mnist\n",
        "(train_images, train_labels), (test_images, test_labels) = mnist.load_data()\n",
        "index = 33\n",
        "plt.imshow(train_images[index], cmap=\"Greys_r\")\n",
        "print (\"y = \"+ str(np.squeeze(train_labels[index])))"
      ],
      "execution_count": 6,
      "outputs": [
        {
          "output_type": "stream",
          "text": [
            "Downloading data from https://storage.googleapis.com/tensorflow/tf-keras-datasets/mnist.npz\n",
            "11493376/11490434 [==============================] - 0s 0us/step\n",
            "y = 9\n"
          ],
          "name": "stdout"
        },
        {
          "output_type": "display_data",
          "data": {
            "image/png": "[encoded data removed]",
            "text/plain": [
              "<Figure size 432x288 with 1 Axes>"
            ]
          },
          "metadata": {
            "tags": [],
            "needs_background": "light"
          }
        }
      ]
    },
    {
      "cell_type": "code",
      "metadata": {
        "id": "gH0soqJKHziq",
        "colab_type": "code",
        "outputId": "e394b2c3-5fd0-42ee-8701-d0c9524a0d3a",
        "colab": {
          "base_uri": "https://localhost:8080/",
          "height": 119
        }
      },
      "source": [
        "print(\"train_images shape: \" + str(train_images.shape))\n",
        "print(\"train_labels shape: \" + str(train_labels.shape))\n",
        "print(\"test_images shape: \" + str(test_images.shape))\n",
        "print(\"test_labels shape: \" + str(test_labels.shape))\n",
        "print(\"total number of training samples: \" + str(train_images.shape[0]))\n",
        "print(\"total number of test samples: \" + str(test_images.shape[0]))"
      ],
      "execution_count": 7,
      "outputs": [
        {
          "output_type": "stream",
          "text": [
            "train_images shape: (60000, 28, 28)\n",
            "train_labels shape: (60000,)\n",
            "test_images shape: (10000, 28, 28)\n",
            "test_labels shape: (10000,)\n",
            "total number of training samples: 60000\n",
            "total number of test samples: 10000\n"
          ],
          "name": "stdout"
        }
      ]
    },
    {
      "cell_type": "code",
      "metadata": {
        "id": "DIG_TLD3m_n7",
        "colab_type": "code",
        "colab": {}
      },
      "source": [
        "def initialize_parameters_deep(layer_dims):\n",
        "  parameters = {}\n",
        "  L = len(layer_dims)\n",
        "  for i in range(1,L):\n",
        "    parameters['W'+str(i)] = tf.Variable((np.random.rand(layer_dims[i-1],layer_dims[i]) * 0.01).astype(np.float32))\n",
        "    parameters['b'+str(i)] = tf.Variable(np.zeros(layer_dims[i], dtype=np.float32))\n",
        "    # parameters['b'+str(i)] = tf.Variable((np.random.rand(1, layer_dims[i]) * 0.01 ).astype(np.float32))\n",
        "  return parameters"
      ],
      "execution_count": 0,
      "outputs": []
    },
    {
      "cell_type": "code",
      "metadata": {
        "id": "cLdM25pbrvy-",
        "colab_type": "code",
        "colab": {}
      },
      "source": [
        "def linear_forward(A,W,b):\n",
        "  Z = tf.matmul(A,W) + b\n",
        "  return Z"
      ],
      "execution_count": 0,
      "outputs": []
    },
    {
      "cell_type": "code",
      "metadata": {
        "id": "U6BqF35ItFKq",
        "colab_type": "code",
        "colab": {}
      },
      "source": [
        "def linear_activation_forward(A_prev,W,b,activation):\n",
        "  if(activation == 'relu'):\n",
        "    Z = linear_forward(A_prev,W,b)\n",
        "    A = tf.nn.relu(Z)\n",
        "  elif(activation == 'tanh'):\n",
        "    Z = linear_forward(A_prev,W,b)\n",
        "    A = tf.nn.tanh(Z)\n",
        "  elif(activation == 'softmax'):\n",
        "    Z = linear_forward(A_prev,W,b)\n",
        "    A = tf.nn.softmax(Z)\n",
        "  elif(activation == 'linear'):\n",
        "    Z = linear_forward(A_prev,W,b)\n",
        "    A = Z\n",
        "  return Z,A\n"
      ],
      "execution_count": 0,
      "outputs": []
    },
    {
      "cell_type": "code",
      "metadata": {
        "id": "KTU-Yzjjw7pY",
        "colab_type": "code",
        "colab": {}
      },
      "source": [
        "def forward_propogation(X,parameters,Y):\n",
        "  caches = []\n",
        "  A = X\n",
        "  L = len(parameters)// 2\n",
        "  with tf.GradientTape() as tape:\n",
        "    if(L == 1):\n",
        "      Z,AL = linear_activation_forward(X, parameters['W' + str(L)],parameters['b' + str(L)], activation = \"linear\")\n",
        "    else:\n",
        "      for i in range(1,L):\n",
        "        A_prev = A \n",
        "        Z,A = linear_activation_forward(A_prev, parameters['W' + str(i)],parameters['b' + str(i)], activation = \"tanh\")\n",
        "      Z,AL = linear_activation_forward(A, parameters['W' + str(L)],parameters['b' + str(L)], activation = \"linear\")\n",
        "    xent = tf.reduce_mean(tf.nn.sparse_softmax_cross_entropy_with_logits(logits=AL, labels=Y))\n",
        "  return AL,tape,xent\n",
        "\n"
      ],
      "execution_count": 0,
      "outputs": []
    },
    {
      "cell_type": "code",
      "metadata": {
        "id": "281poxrSCM7O",
        "colab_type": "code",
        "colab": {}
      },
      "source": [
        "def compute_cost(AL,Y):\n",
        "  xent = tf.reduce_mean(tf.nn.sparse_softmax_cross_entropy_with_logits(logits=AL, labels=Y))\n",
        "  # print(xent)\n",
        "  return xent"
      ],
      "execution_count": 0,
      "outputs": []
    },
    {
      "cell_type": "code",
      "metadata": {
        "id": "mHB8Co59E2vx",
        "colab_type": "code",
        "colab": {}
      },
      "source": [
        "def backward_propogation(xent,parameters,tape,learning_rate):\n",
        "  L = len(parameters)\n",
        "  parameter_list = [x for x in parameters.values()]\n",
        "  grads = tape.gradient(xent, parameter_list)\n",
        "  for i in range(1,len(grads),2):\n",
        "    ix = i//2 + 1\n",
        "    parameters[\"W\" + str(ix)].assign_sub(learning_rate * grads[i-1])\n",
        "    parameters[\"b\" + str(ix)].assign_sub(learning_rate * grads[i])\n",
        "  return parameters"
      ],
      "execution_count": 0,
      "outputs": []
    },
    {
      "cell_type": "code",
      "metadata": {
        "id": "1d3Ur1vcahjh",
        "colab_type": "code",
        "colab": {}
      },
      "source": [
        "data = MNISTDataset(train_images.reshape([-1,784]), train_labels, \n",
        "                    test_images.reshape([-1, 784]), test_labels,batch_size=128)"
      ],
      "execution_count": 0,
      "outputs": []
    },
    {
      "cell_type": "code",
      "metadata": {
        "id": "R1L5fCumYzrp",
        "colab_type": "code",
        "colab": {}
      },
      "source": [
        "def L_layer_model(layers_dims, learning_rate = 0.1, num_iterations = 3000, print_cost=False):\n",
        "\n",
        "    costs = [] \n",
        "    accuracy = []                        # keep track of cost\n",
        "    \n",
        "    parameters = initialize_parameters_deep(layers_dims)\n",
        "    print(parameters.keys())\n",
        "\n",
        "    for i in range(0, num_iterations):\n",
        "      \n",
        "      X, Y = data.next_batch()\n",
        "      AL, tape, cost = forward_propogation(X, parameters,Y)\n",
        "      parameters = backward_propogation(cost,parameters,tape,learning_rate)\n",
        "\n",
        "      if print_cost and i % 100 == 0:\n",
        "          print (\"Cost after iteration %i: %f\" %(i, cost))\n",
        "          preds = tf.argmax(AL, axis=1, output_type=tf.int32)\n",
        "          acc = tf.reduce_mean(tf.cast(tf.equal(preds, Y),tf.float32))\n",
        "          print(\"Accuracy: {}\".format(acc))\n",
        "          costs.append(cost)\n",
        "          accuracy.append(acc)\n",
        "\n",
        "    \n",
        "    plt.plot(np.squeeze(costs))\n",
        "    plt.ylabel('cost')\n",
        "    plt.xlabel('iterations (per hundreds)')\n",
        "    plt.title(\"Learning rate =\" + str(learning_rate))\n",
        "    plt.show()\n",
        "\n",
        "    plt.plot(np.squeeze(accuracy))\n",
        "    plt.ylabel('accuracy')\n",
        "    plt.xlabel('iterations (per hundreds)')\n",
        "    plt.title(\"Learning rate =\" + str(learning_rate))\n",
        "    plt.show()\n",
        "    \n",
        "    return parameters"
      ],
      "execution_count": 0,
      "outputs": []
    },
    {
      "cell_type": "markdown",
      "metadata": {
        "id": "cGp0VpIeEiL0",
        "colab_type": "text"
      },
      "source": [
        "**Output with 2 hidden layers and relu activation function**"
      ]
    },
    {
      "cell_type": "code",
      "metadata": {
        "id": "zUi4Zxpux2qG",
        "colab_type": "code",
        "outputId": "b70f1d61-61a3-45f8-dccc-81f30e830fc2",
        "colab": {
          "base_uri": "https://localhost:8080/",
          "height": 1000
        }
      },
      "source": [
        "parameters = L_layer_model([784,512,128,10] , learning_rate = 0.1, num_iterations = 3000, print_cost=True)"
      ],
      "execution_count": 31,
      "outputs": [
        {
          "output_type": "stream",
          "text": [
            "dict_keys(['W1', 'b1', 'W2', 'b2', 'W3', 'b3'])\n",
            "Cost after iteration 0: 2.306568\n",
            "Accuracy: 0.078125\n",
            "Cost after iteration 100: 2.179146\n",
            "Accuracy: 0.21875\n",
            "Cost after iteration 200: 1.969569\n",
            "Accuracy: 0.28125\n",
            "Starting new epoch...\n",
            "Cost after iteration 300: 1.851623\n",
            "Accuracy: 0.3125\n",
            "Cost after iteration 400: 1.580575\n",
            "Accuracy: 0.3828125\n",
            "Cost after iteration 500: 1.252743\n",
            "Accuracy: 0.5703125\n",
            "Cost after iteration 600: 1.147355\n",
            "Accuracy: 0.6015625\n",
            "Cost after iteration 700: 1.094321\n",
            "Accuracy: 0.7421875\n",
            "Starting new epoch...\n",
            "Cost after iteration 800: 0.632906\n",
            "Accuracy: 0.84375\n",
            "Cost after iteration 900: 0.492699\n",
            "Accuracy: 0.8515625\n",
            "Cost after iteration 1000: 0.384018\n",
            "Accuracy: 0.890625\n",
            "Cost after iteration 1100: 0.329434\n",
            "Accuracy: 0.9140625\n",
            "Cost after iteration 1200: 0.364993\n",
            "Accuracy: 0.9140625\n",
            "Starting new epoch...\n",
            "Cost after iteration 1300: 0.306250\n",
            "Accuracy: 0.921875\n",
            "Cost after iteration 1400: 0.397772\n",
            "Accuracy: 0.875\n",
            "Cost after iteration 1500: 0.270986\n",
            "Accuracy: 0.9140625\n",
            "Cost after iteration 1600: 0.244482\n",
            "Accuracy: 0.9140625\n",
            "Starting new epoch...\n",
            "Cost after iteration 1700: 0.226363\n",
            "Accuracy: 0.90625\n",
            "Cost after iteration 1800: 0.165536\n",
            "Accuracy: 0.96875\n",
            "Cost after iteration 1900: 0.131997\n",
            "Accuracy: 0.9609375\n",
            "Cost after iteration 2000: 0.164016\n",
            "Accuracy: 0.9375\n",
            "Cost after iteration 2100: 0.184103\n",
            "Accuracy: 0.96875\n",
            "Starting new epoch...\n",
            "Cost after iteration 2200: 0.129469\n",
            "Accuracy: 0.96875\n",
            "Cost after iteration 2300: 0.117285\n",
            "Accuracy: 0.96875\n",
            "Cost after iteration 2400: 0.119472\n",
            "Accuracy: 0.96875\n",
            "Cost after iteration 2500: 0.172819\n",
            "Accuracy: 0.9453125\n",
            "Cost after iteration 2600: 0.153449\n",
            "Accuracy: 0.9609375\n",
            "Starting new epoch...\n",
            "Cost after iteration 2700: 0.117432\n",
            "Accuracy: 0.9765625\n",
            "Cost after iteration 2800: 0.199651\n",
            "Accuracy: 0.953125\n",
            "Cost after iteration 2900: 0.114964\n",
            "Accuracy: 0.96875\n"
          ],
          "name": "stdout"
        },
        {
          "output_type": "display_data",
          "data": {
            "image/png": "[encoded data removed]",
            "text/plain": [
              "<Figure size 432x288 with 1 Axes>"
            ]
          },
          "metadata": {
            "tags": [],
            "needs_background": "light"
          }
        },
        {
          "output_type": "display_data",
          "data": {
            "image/png": "[encoded data removed]",
            "text/plain": [
              "<Figure size 432x288 with 1 Axes>"
            ]
          },
          "metadata": {
            "tags": [],
            "needs_background": "light"
          }
        }
      ]
    },
    {
      "cell_type": "code",
      "metadata": {
        "id": "HEgAk8L8yXed",
        "colab_type": "code",
        "outputId": "8920c7f7-2705-4626-ab8d-1bdb338bafd5",
        "colab": {
          "base_uri": "https://localhost:8080/",
          "height": 34
        }
      },
      "source": [
        "AL,tape,cost = forward_propogation(data.test_data,parameters,data.test_labels)\n",
        "preds = tf.argmax(AL, axis=1, output_type=tf.int32)\n",
        "acc = tf.reduce_mean(tf.cast(tf.equal(preds, data.test_labels),tf.float32))\n",
        "print(\"Loss: {} Accuracy: {}\".format(cost, acc))"
      ],
      "execution_count": 32,
      "outputs": [
        {
          "output_type": "stream",
          "text": [
            "Loss: 0.14866489171981812 Accuracy: 0.954800009727478\n"
          ],
          "name": "stdout"
        }
      ]
    },
    {
      "cell_type": "code",
      "metadata": {
        "id": "uE28RnHxN7oQ",
        "colab_type": "code",
        "colab": {}
      },
      "source": [
        "def print_mislabeled_images(test_images, features, actual_labels, predicted_labels):\n",
        "\n",
        "    # Collect missclassified indiceswhich can be used to filter test data for only the data which has been mis classified later  \n",
        "    misclassified_indices = np.asarray(np.where(actual_labels != predicted_labels))\n",
        "    print(\"length: \" + str(len(misclassified_indices)))\n",
        "    \n",
        "    fig = plt.figure()\n",
        "    num_images = len(misclassified_indices[0])\n",
        "    lst = misclassified_indices[0]\n",
        "    print(\"Missclassified image count: \" + str(num_images) + \" , considering 6 images for analysis\")\n",
        "\n",
        "    for i in range(6):\n",
        "        print(\"index: \" + str(lst[i]))\n",
        "        print(\"Actual label: \" + str(actual_labels[lst[i]]))\n",
        "        print(\"Predicted label: \" + str(predicted_labels[lst[i]].numpy()))\n",
        "        print(\"\\n\")\n",
        "        fig.add_subplot(1, 8, i + 1)\n",
        "        \n",
        "        plt.imshow(X = test_images[lst[i]], cmap=\"Greys_r\", aspect = \"auto\",interpolation=\"nearest\")\n"
      ],
      "execution_count": 0,
      "outputs": []
    },
    {
      "cell_type": "code",
      "metadata": {
        "id": "wWZRATixOCtW",
        "colab_type": "code",
        "outputId": "206964af-fe42-4773-f3d9-dc7034704866",
        "colab": {
          "base_uri": "https://localhost:8080/",
          "height": 809
        }
      },
      "source": [
        "print_mislabeled_images(test_images, data.test_data, data.test_labels, preds)"
      ],
      "execution_count": 34,
      "outputs": [
        {
          "output_type": "stream",
          "text": [
            "length: 1\n",
            "Missclassified image count: 452 , considering 6 images for analysis\n",
            "index: 33\n",
            "Actual label: 4\n",
            "Predicted label: 6\n",
            "\n",
            "\n",
            "index: 104\n",
            "Actual label: 9\n",
            "Predicted label: 5\n",
            "\n",
            "\n",
            "index: 124\n",
            "Actual label: 7\n",
            "Predicted label: 4\n",
            "\n",
            "\n",
            "index: 139\n",
            "Actual label: 4\n",
            "Predicted label: 8\n",
            "\n",
            "\n",
            "index: 149\n",
            "Actual label: 2\n",
            "Predicted label: 8\n",
            "\n",
            "\n",
            "index: 151\n",
            "Actual label: 9\n",
            "Predicted label: 8\n",
            "\n",
            "\n"
          ],
          "name": "stdout"
        },
        {
          "output_type": "display_data",
          "data": {
            "image/png": "[encoded data removed]",
            "text/plain": [
              "<Figure size 432x288 with 6 Axes>"
            ]
          },
          "metadata": {
            "tags": [],
            "needs_background": "light"
          }
        }
      ]
    },
    {
      "cell_type": "markdown",
      "metadata": {
        "id": "HuKKD9JcGV6S",
        "colab_type": "text"
      },
      "source": [
        "**Output with 2 hidden layers and tanh activation function**"
      ]
    },
    {
      "cell_type": "code",
      "metadata": {
        "id": "lsad8GFjGteR",
        "colab_type": "code",
        "colab": {
          "base_uri": "https://localhost:8080/",
          "height": 1000
        },
        "outputId": "4e4e1f4e-b717-4734-e423-0fc9c38a23c6"
      },
      "source": [
        "parameters = L_layer_model([784,512,128,10] , learning_rate = 0.1, num_iterations = 3000, print_cost=True)"
      ],
      "execution_count": 36,
      "outputs": [
        {
          "output_type": "stream",
          "text": [
            "dict_keys(['W1', 'b1', 'W2', 'b2', 'W3', 'b3'])\n",
            "Cost after iteration 0: 2.301064\n",
            "Accuracy: 0.140625\n",
            "Starting new epoch...\n",
            "Cost after iteration 100: 2.294906\n",
            "Accuracy: 0.1328125\n",
            "Cost after iteration 200: 2.103394\n",
            "Accuracy: 0.28125\n",
            "Cost after iteration 300: 1.621017\n",
            "Accuracy: 0.3671875\n",
            "Cost after iteration 400: 1.504495\n",
            "Accuracy: 0.4375\n",
            "Cost after iteration 500: 1.322419\n",
            "Accuracy: 0.453125\n",
            "Starting new epoch...\n",
            "Cost after iteration 600: 1.746242\n",
            "Accuracy: 0.3515625\n",
            "Cost after iteration 700: 1.133901\n",
            "Accuracy: 0.53125\n",
            "Cost after iteration 800: 1.071658\n",
            "Accuracy: 0.59375\n",
            "Cost after iteration 900: 0.886207\n",
            "Accuracy: 0.671875\n",
            "Cost after iteration 1000: 0.658725\n",
            "Accuracy: 0.78125\n",
            "Starting new epoch...\n",
            "Cost after iteration 1100: 0.723395\n",
            "Accuracy: 0.765625\n",
            "Cost after iteration 1200: 0.393648\n",
            "Accuracy: 0.8671875\n",
            "Cost after iteration 1300: 0.592577\n",
            "Accuracy: 0.875\n",
            "Cost after iteration 1400: 0.416031\n",
            "Accuracy: 0.859375\n",
            "Starting new epoch...\n",
            "Cost after iteration 1500: 0.445245\n",
            "Accuracy: 0.859375\n",
            "Cost after iteration 1600: 0.210510\n",
            "Accuracy: 0.921875\n",
            "Cost after iteration 1700: 0.403910\n",
            "Accuracy: 0.8828125\n",
            "Cost after iteration 1800: 0.287354\n",
            "Accuracy: 0.921875\n",
            "Cost after iteration 1900: 0.411939\n",
            "Accuracy: 0.890625\n",
            "Starting new epoch...\n",
            "Cost after iteration 2000: 0.385714\n",
            "Accuracy: 0.90625\n",
            "Cost after iteration 2100: 0.449676\n",
            "Accuracy: 0.9140625\n",
            "Cost after iteration 2200: 0.269021\n",
            "Accuracy: 0.9453125\n",
            "Cost after iteration 2300: 0.431966\n",
            "Accuracy: 0.921875\n",
            "Cost after iteration 2400: 0.318647\n",
            "Accuracy: 0.90625\n",
            "Starting new epoch...\n",
            "Cost after iteration 2500: 0.417305\n",
            "Accuracy: 0.8984375\n",
            "Cost after iteration 2600: 0.273318\n",
            "Accuracy: 0.90625\n",
            "Cost after iteration 2700: 0.295217\n",
            "Accuracy: 0.8984375\n",
            "Cost after iteration 2800: 0.141623\n",
            "Accuracy: 0.9453125\n",
            "Cost after iteration 2900: 0.265742\n",
            "Accuracy: 0.9375\n",
            "Starting new epoch...\n"
          ],
          "name": "stdout"
        },
        {
          "output_type": "display_data",
          "data": {
            "image/png": "[encoded data removed]",
            "text/plain": [
              "<Figure size 432x288 with 1 Axes>"
            ]
          },
          "metadata": {
            "tags": [],
            "needs_background": "light"
          }
        },
        {
          "output_type": "display_data",
          "data": {
            "image/png": "[encoded data removed]",
            "text/plain": [
              "<Figure size 432x288 with 1 Axes>"
            ]
          },
          "metadata": {
            "tags": [],
            "needs_background": "light"
          }
        }
      ]
    },
    {
      "cell_type": "code",
      "metadata": {
        "id": "Js70A7z1I34L",
        "colab_type": "code",
        "colab": {
          "base_uri": "https://localhost:8080/",
          "height": 34
        },
        "outputId": "468eb139-4590-4b8b-e24b-5f62ecb47856"
      },
      "source": [
        "AL,tape,cost = forward_propogation(data.test_data,parameters,data.test_labels)\n",
        "preds = tf.argmax(AL, axis=1, output_type=tf.int32)\n",
        "acc = tf.reduce_mean(tf.cast(tf.equal(preds, data.test_labels),tf.float32))\n",
        "print(\"Loss: {} Accuracy: {}\".format(cost, acc))"
      ],
      "execution_count": 37,
      "outputs": [
        {
          "output_type": "stream",
          "text": [
            "Loss: 0.2175324410200119 Accuracy: 0.9347000122070312\n"
          ],
          "name": "stdout"
        }
      ]
    },
    {
      "cell_type": "markdown",
      "metadata": {
        "id": "1-cCQCkUD85f",
        "colab_type": "text"
      },
      "source": [
        "## **Food For Thought**"
      ]
    },
    {
      "cell_type": "markdown",
      "metadata": {
        "id": "xRfiebgIARoa",
        "colab_type": "text"
      },
      "source": [
        "**You need to initialize values randomly instead (e.g. random_uniform between -0.1 and 0.1). Why do you think this is the case?**\n",
        "\n",
        "If we assign all the waits to zero, All the hidden units will behave symmetric even after n number of iterations which will be not useful.\n",
        "\n",
        "i.e. the derivative of the loss function with prespect to weight will remain same for the nodes present in 'L'th layer.\n"
      ]
    },
    {
      "cell_type": "markdown",
      "metadata": {
        "id": "RM2DwTfuHdFE",
        "colab_type": "text"
      },
      "source": [
        "**Which Activation function is better to use in hidden layers?**\n",
        "\n",
        "As seen above Relu activation will perform better in hidden layers. tanh will take more iteration to reach lower gradient. Performance is better when we use Relu in hidden layers"
      ]
    }
  ]
}